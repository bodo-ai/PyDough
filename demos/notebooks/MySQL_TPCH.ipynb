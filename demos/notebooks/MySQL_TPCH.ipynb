{
 "cells": [
  {
   "cell_type": "markdown",
   "id": "d68a35f7",
   "metadata": {},
   "source": [
    "# MYSQL PyDough Database connector"
   ]
  },
  {
   "cell_type": "markdown",
   "id": "2c0514f5",
   "metadata": {},
   "source": [
    "## Initial Setup\n",
    "\n",
    "### 1. MySQL Database\n",
    "\n",
    "You can connect to your own MySQL database using your credentials (for example, if you have MySQL Workbench or another local server running).\n",
    "\n",
    "### 2. Docker Image (TPC-H Database)\n",
    "\n",
    "You can also test with our pre-built MySQL TPC-H database available on Docker Hub:\n",
    "\n",
    "- Make sure you have Docker installed.\n",
    "- Pull and run the image with the following command:\n",
    "    ```shell\n",
    "    docker run -d \\\n",
    "      --name [CONTAINER_NAME] \\\n",
    "      -p 3306:3306 \\\n",
    "      johnbodoai/pydough-mysql-tpch:latest\n",
    "    ```\n",
    "    Replace `[CONTAINER_NAME]` with your preferred container name.\n",
    "\n",
    "The required environment variables for connecting are:\n",
    "* `MYSQL_USERNAME=root`\n",
    "* `MYSQL_PASSWORD=[PASSWORD]`\n",
    "\n",
    "**Tip:**  \n",
    "Store these credentials in a `.env` file in your project directory for easy access and security.  "
   ]
  },
  {
   "cell_type": "markdown",
   "id": "2ea74d4e",
   "metadata": {},
   "source": [
    "## Installing MySQL Connector\n",
    "\n",
    "Make sure to have the `mysql-connector-python` installed:\n",
    "\n",
    "- If you're working inside the repo:\n",
    "    ```shell\n",
    "    pip install -e \".[mysql]\"\n",
    "    ```\n",
    "\n",
    "- Or install the connector directly with:\n",
    "    ```shell\n",
    "    pip install \"mysql-connector-python\"\n",
    "    ```"
   ]
  },
  {
   "cell_type": "markdown",
   "id": "c5fdee2c",
   "metadata": {},
   "source": [
    "## Importing Required Libraries"
   ]
  },
  {
   "cell_type": "code",
   "execution_count": null,
   "id": "5efa624d",
   "metadata": {},
   "outputs": [],
   "source": [
    "import pydough\n",
    "import datetime\n",
    "import os"
   ]
  },
  {
   "cell_type": "markdown",
   "id": "f19bda7f",
   "metadata": {},
   "source": [
    "## Loading credencials and connecting to MySQL"
   ]
  },
  {
   "cell_type": "markdown",
   "id": "e35761ab",
   "metadata": {},
   "source": [
    "1. Load credentials from a local .env file\n",
    "    * The `.env` file contains your MySQL login details like `MYSQL_USERNAME`, `MYSQL_PASSWORD`.\n",
    "    * These are read using `os.getenv()` function.\n",
    "\n",
    "2. MySQL-PyDough `connect_database()` parameters:\n",
    "    * `user`(required): Username for MySQL connection.\n",
    "    * `password` (required): Password used for MySQL connection.\n",
    "    * `database` (required): Name of the MySQL database.\n",
    "    * `host` (optional): IP to access MySQL server. Default is \"localhost\" or \"127.0.0.1\".\n",
    "    * `port` (optional): Port number used to access MySQL server. Default is 3306.\n",
    "    * `connection_timeout` (optional): Timeout used for MySQL connection. Default is 3 seconds.\n",
    "    * `attempts` (optional): Number of times the connections is attempted. Default is 1.\n",
    "    * `delay` (optional): Number of seconds to wait before another connection attempt. Default is 2.\n",
    "\n",
    "3. Connect to MySQL using PyDough\n",
    "    * `pydough.active_session.load_metadata_graph(...)` loads a metadata graph that maps your MySQL schema (used for query planning or optimizations).\n",
    "    * `connect_database(...)` uses the loaded credentials to establish a live connection to your MySQL database.\n",
    "\n",
    "Note: \n",
    "- Make sure the `.env` exists and contains all the required keys.\n",
    "- Make sure the metadata graph path points to a valid JSON file that represents your schema\n"
   ]
  },
  {
   "cell_type": "code",
   "execution_count": null,
   "id": "7ce93d4a",
   "metadata": {},
   "outputs": [],
   "source": [
    "mysql_username = os.getenv(\"MYSQL_USERNAME\")\n",
    "mysql_password = os.getenv(\"MYSQL_PASSWORD\")\n",
    "mysql_tpch_db = \"tpch\"\n",
    "mysql_host = \"127.0.0.1\"\n",
    "connection_timeout = 2\n",
    "attempts = 2      \n",
    "delay = 5.0       \n",
    "\n",
    "pydough.active_session.load_metadata_graph(\"../../tests/test_metadata/sample_graphs.json\", \"TPCH\")\n",
    "pydough.active_session.connect_database(\"mysql\", \n",
    "        user=mysql_username,\n",
    "        password=mysql_password,\n",
    "        database=mysql_tpch_db,\n",
    "        host=mysql_host,\n",
    "        connection_timeout=connection_timeout,\n",
    "        attempts=attempts,\n",
    "        delay=delay\n",
    ")"
   ]
  },
  {
   "cell_type": "markdown",
   "id": "d81575ea",
   "metadata": {},
   "source": [
    "## Enabling PyDough's Jupyter Magic Commands\n",
    "\n",
    "This line loads the `pydough.jupyter_extensions` module, which adds custom magic commands (like %%pydough) to the notebook.\n",
    "\n",
    "These magic commands allow you to:\n",
    "\n",
    "- Write PyDough directly in notebook cells using %%pydough\n",
    "- Automatically render results\n",
    "\n",
    "This is a Jupyter-specific feature — the %load_ext command dynamically loads these extensions into your current notebook session."
   ]
  },
  {
   "cell_type": "code",
   "execution_count": null,
   "id": "eabc0577",
   "metadata": {},
   "outputs": [],
   "source": [
    "%load_ext pydough.jupyter_extensions"
   ]
  },
  {
   "cell_type": "markdown",
   "id": "bd0180ee",
   "metadata": {},
   "source": [
    "## TPC-H Query 1 with PyDough and MySQL"
   ]
  },
  {
   "cell_type": "markdown",
   "id": "08141e7b",
   "metadata": {},
   "source": [
    "This cell runs TPC-H Query 1 using PyDough's Python-style DSL instead of raw SQL.\n",
    "\n",
    "The query computes summary statistics (like sums, averages, and counts) for orders, grouped by return flag and line status, and filtered by a shipping date cutoff.\n",
    "\n",
    "Finally, pydough.to_df(output) converts and prints the result as a Pandas DataFrame for easy inspection and analysis in Python."
   ]
  },
  {
   "cell_type": "code",
   "execution_count": null,
   "id": "1581aa56",
   "metadata": {},
   "outputs": [],
   "source": [
    "%%pydough\n",
    "# TPCH Q1\n",
    "output = (lines.WHERE((ship_date <= datetime.date(1998, 12, 1)))\n",
    "        .PARTITION(name=\"groups\", by=(return_flag, status))\n",
    "        .CALCULATE(\n",
    "            L_RETURNFLAG=return_flag,\n",
    "            L_LINESTATUS=status,\n",
    "            SUM_QTY=SUM(lines.quantity),\n",
    "            SUM_BASE_PRICE=SUM(lines.extended_price),\n",
    "            SUM_DISC_PRICE=SUM(lines.extended_price * (1 - lines.discount)),\n",
    "            SUM_CHARGE=SUM(\n",
    "                lines.extended_price * (1 - lines.discount) * (1 + lines.tax)\n",
    "            ),\n",
    "            AVG_QTY=AVG(lines.quantity),\n",
    "            AVG_PRICE=AVG(lines.extended_price),\n",
    "            AVG_DISC=AVG(lines.discount),\n",
    "            COUNT_ORDER=COUNT(lines),\n",
    "        )\n",
    "        .ORDER_BY(L_RETURNFLAG.ASC(), L_LINESTATUS.ASC())\n",
    ")\n",
    "\n",
    "pydough.to_df(output)"
   ]
  }
 ],
 "metadata": {
  "kernelspec": {
   "display_name": ".venv",
   "language": "python",
   "name": "python3"
  },
  "language_info": {
   "codemirror_mode": {
    "name": "ipython",
    "version": 3
   },
   "file_extension": ".py",
   "mimetype": "text/x-python",
   "name": "python",
   "nbconvert_exporter": "python",
   "pygments_lexer": "ipython3",
   "version": "3.13.5"
  }
 },
 "nbformat": 4,
 "nbformat_minor": 5
}
