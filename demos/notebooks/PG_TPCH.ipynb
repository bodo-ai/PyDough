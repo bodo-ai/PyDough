{
 "cells": [
  {
   "cell_type": "markdown",
   "id": "c13b37cf",
   "metadata": {},
   "source": [
    "# Postgres Database connector\n",
    "## How to connect to Postgres Database\n",
    "### 1. I have my own Postgres service\n",
    "If you already have a running Postgres database service you can connect to it using your credentials, the same you use to connect from pgAdmin or psql.\n",
    "\n",
    "### 2. Using Bodo.ai test docker image for PyDough\n",
    "You can run Pydough with our pre-built Postgres test image available on Docker Hub:\n",
    "\n",
    "Make sure you have Docker or Podman installed.\n",
    "\n",
    "Pull and run the image with the following command:\n",
    "\n",
    "```shell\n",
    "  export POSTGRES_USER=[USER_NAME]\n",
    "  export POSTGRES_PASSWORD=[PASSWORD]\n",
    "  export POSTGRES_DB=\"pydough-test\"\n",
    "  export POSTGRES_HOST=\"localhost\"\n",
    "\n",
    "  docker run -d --name [CONTAINER_NAME] \\\n",
    "    -e POSTGRES_USER=${POSTGRES_USER} \\\n",
    "    -e POSTGRES_PASSWORD=${POSTGRES_PASSWORD} \\\n",
    "    -e POSTGRES_DB=${POSTGRES_DB} \\\n",
    "    -p 5432:5432 \\\n",
    "    docker.io/juankxbodo/pydough-pgsql-tests:latest\n",
    "```\n",
    "Replace [CONTAINER_NAME] with your preferred container name. If not defined on `docker run`, the `pydough-pgsql-tests` container will run with the following default values:\n",
    "\n",
    "```shell\n",
    "POSTGRES_USER=test_user\n",
    "POSTGRES_PASSWORD=test_pass\n",
    "POSTGRES_DB=pydough-test\n",
    "```\n",
    "\n",
    "## Installing Postgres Connector\n",
    "To connect from PyDough to a Postgres service you need to have psycopg2 already installed:\n",
    "\n",
    "`uv pip install psycopg2-binary`\n",
    "\n",
    "## Setting connection parameters and connecting to Postgres"
   ]
  },
  {
   "cell_type": "code",
   "execution_count": null,
   "id": "2dfa4e3a-3cc2-47a0-8e4f-915107f5ee92",
   "metadata": {},
   "outputs": [],
   "source": [
    "# Import libraries\n",
    "import pydough\n",
    "\n",
    "# Set postgreSQL connection parameters\n",
    "postgres_user: str = \"test_user\"\n",
    "postgres_password: str = \"test_pass\"\n",
    "postgres_db: str = \"pydough-test\"\n",
    "postgres_host: str = \"localhost\"\n",
    "\n",
    "# Metadata setup\n",
    "pydough.active_session.load_metadata_graph(\"tests/test_metadata/defog_graphs.json\", \"Broker\")\n",
    "\n",
    "# Setup postgreSQL connection\n",
    "pydough.active_session.connect_database(\"postgres\", user=postgres_user,password=postgres_password,dbname=postgres_db,host=postgres_host)\n"
   ]
  },
  {
   "cell_type": "markdown",
   "id": "b236efd5",
   "metadata": {},
   "source": [
    "## Enabling PyDough's Jupyter extension\n",
    "When you first setup the notebook you need to load the extension with `%load_ext pydough.jupyter_extensions`. \n",
    "\n",
    "It will allow you to:\n",
    "- Write PyDough in notebook cells using %%pydough refering directly to Pydough collections.\n",
    "- Automatically render results\n",
    "\n",
    "To know what Pydough elements are available to be used you can print the knowledge graph structure using `pydough.explain_structure(graph)`"
   ]
  },
  {
   "cell_type": "code",
   "execution_count": null,
   "id": "5f8c916f-f411-4047-82c0-d1b9e1daeb87",
   "metadata": {},
   "outputs": [],
   "source": [
    "%load_ext pydough.jupyter_extensions\n",
    "graph = pydough.active_session.metadata\n",
    "print(pydough.explain_structure(graph))"
   ]
  },
  {
   "cell_type": "markdown",
   "id": "fc54c976",
   "metadata": {},
   "source": [
    "## Running PyDough querys in Postgres\n",
    "\n",
    "We can run the following PyDough query in broker database to answer: \"How many transactions were made by customers from the USA last week (exclusive of the current week)? Return the number of transactions and total transaction amount\".\n",
    "\n"
   ]
  },
  {
   "cell_type": "code",
   "execution_count": null,
   "id": "b43a3d1b-3e44-4697-a688-92bb27d91d78",
   "metadata": {},
   "outputs": [],
   "source": [
    "%%pydough\n",
    "# Define the start of the current week, assuming the week starts on Monday.\n",
    "start_of_current_week = DATETIME('now', 'start of week')\n",
    "\n",
    "# Define the start of the previous week by subtracting 7 days from the start of the current week.\n",
    "start_of_last_week = DATETIME(start_of_current_week, '-7 days')\n",
    "\n",
    "# Filter transactions to include only those from customers in the USA that occurred last week.\n",
    "# The date range is inclusive of the start of last week and exclusive of the start of the current week.\n",
    "last_week_usa_transactions = transactions.WHERE(\n",
    "(LOWER(customer.country) == 'usa') &\n",
    "(date_time >= start_of_last_week) &\n",
    "(date_time < start_of_current_week)\n",
    ")\n",
    "\n",
    "# Calculate the final aggregates: the count of the filtered transactions and the sum of their amounts.\n",
    "result = Broker.CALCULATE(\n",
    "num_transactions=COUNT(last_week_usa_transactions),\n",
    "total_transaction_amount=SUM(last_week_usa_transactions.amount)\n",
    ")\n",
    "\n",
    "pydough.to_df(result)"
   ]
  }
 ],
 "metadata": {
  "kernelspec": {
   "display_name": "Python 3 (ipykernel)",
   "language": "python",
   "name": "python3"
  },
  "language_info": {
   "codemirror_mode": {
    "name": "ipython",
    "version": 3
   },
   "file_extension": ".py",
   "mimetype": "text/x-python",
   "name": "python",
   "nbconvert_exporter": "python",
   "pygments_lexer": "ipython3",
   "version": "3.13.5"
  }
 },
 "nbformat": 4,
 "nbformat_minor": 5
}
