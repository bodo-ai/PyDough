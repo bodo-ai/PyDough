{
 "cells": [
  {
   "cell_type": "markdown",
   "id": "f1fd4015-5281-4f56-bf88-5db4a8de93e0",
   "metadata": {},
   "source": [
    "# Introduction\n",
    "\n",
    "Welcome to the PyDough demos. PyDough is a new Python compatible DSL that leverages a rich document model to simplify analytics queries. PyDough's goal is to enable \"WHAT-IF\" style question by making it easier to reuse previous question components and improve iteration speed by making it both faster to construct a query and easier to debug.  \n",
    "\n",
    "This notebook is intended to explain the structure of the PyDough notebook and the fundamental operations. At the end we will link to followup notebooks to will explain how to use PyDough in more detail."
   ]
  },
  {
   "cell_type": "code",
   "execution_count": null,
   "id": "0850592d-e6eb-4905-8291-21056617fc74",
   "metadata": {},
   "outputs": [],
   "source": [
    "import pydough"
   ]
  },
  {
   "cell_type": "markdown",
   "id": "e7dfb2db-191d-4dac-8b88-76aea581f167",
   "metadata": {},
   "source": [
    "## Metadata Setup\n",
    "\n",
    "PyDough simplifies the query writing experience by leveraging a metadata describing the relevant tables and their relationships. For these demos we will provide all metadata for you, but future demos may walk through the metadata creation process. A followup notebook will provide you a deeper look into the inner workings of the metadata.\n",
    "\n",
    "To setup the metadata, the PyDough `active_session` is used. This is a simple class to encapsulate configuration information. To attach our metadata graph, we can use:"
   ]
  },
  {
   "cell_type": "code",
   "execution_count": null,
   "id": "1550f057-7a73-471c-a312-510e6d946ee7",
   "metadata": {},
   "outputs": [],
   "source": [
    "pydough.active_session.load_metadata_graph(\"../metadata/tpch_demo_graph.json\", \"TPCH\");"
   ]
  },
  {
   "cell_type": "markdown",
   "id": "23c73480-8651-49e6-be9f-578febfccfd8",
   "metadata": {},
   "source": [
    "The graph we loaded is a metadata representation of the standard TPC-H schema, with some names modified to be more human readable. In all future cells we will be able to reference the entities from this metadata.\n",
    "\n",
    "We won't dive into the details of the relationships for this notebook, but note that it is able to reference the tables involved and move between them based on pre-defined relationships."
   ]
  },
  {
   "cell_type": "markdown",
   "id": "a016516c-7d30-4c97-9dba-604a33fa220c",
   "metadata": {},
   "source": [
    "## Jupyter Extension\n",
    "\n",
    "To actually execute PyDough we have written a Jupyter extension to allow defining cells that contain PyDough expressions which are not valid Python. For example, now that the metadata is loaded, you are able to directly refer to `nations`, but this is not valid Python syntax.\n",
    "\n",
    "This is done with the Jupyter cell magic: `%%pydough`. This first attempts to resolve any variables with the regular Python environment and then leverages the metadata. In the future we intend for this to be a cell drop down option that will automatically append this magic to the relevant cells, but for now we feel this accurate represents the \"feel\" of working in PyDough.\n",
    "\n",
    "When you first setup the notebook you need to load the extension: \n",
    "\n",
    "```\n",
    "%load_ext pydough.jupyter_extensions\n",
    "```\n",
    "\n",
    "*Note*: If running outside our demo setup you may need manually install the extension, which is also found in this repository."
   ]
  },
  {
   "cell_type": "code",
   "execution_count": null,
   "id": "db20909e-33c1-4c27-9dce-54afbd44b38f",
   "metadata": {},
   "outputs": [],
   "source": [
    "%load_ext pydough.jupyter_extensions"
   ]
  },
  {
   "cell_type": "markdown",
   "id": "0e3605f6-7e43-4bb8-bdbf-a2774cee07be",
   "metadata": {},
   "source": [
    "Now we can define our access to nations, where we may only want to load the key."
   ]
  },
  {
   "cell_type": "code",
   "execution_count": null,
   "id": "81891b2c-8bc8-44d0-9e33-c80f5202c4c6",
   "metadata": {},
   "outputs": [],
   "source": [
    "%%pydough\n",
    "\n",
    "nations.CALCULATE(nkey=key, nname=name)"
   ]
  },
  {
   "cell_type": "markdown",
   "id": "10534caa-9d2f-47d1-8093-d2988a502484",
   "metadata": {},
   "source": [
    "As you can see, this step resolved without any Python errors. However, this isn't actually useful because we can't use this result anywhere. Instead, we can assign this result to a Python variable to make it accessible in future cells, whether they are Python cells or more PyDough cells."
   ]
  },
  {
   "cell_type": "code",
   "execution_count": null,
   "id": "475883eb-97ee-46c2-bc87-450e8930412b",
   "metadata": {},
   "outputs": [],
   "source": [
    "%%pydough\n",
    "\n",
    "nation_keys = nations.CALCULATE(nkey=key, nname=name)"
   ]
  },
  {
   "cell_type": "markdown",
   "id": "105e087d-5dc4-4bf9-95e4-8a1fd27cc4d9",
   "metadata": {},
   "source": [
    "It's important to note that so far we haven't actually **executed** anything. Although we have determined that nations and key may be a valid name in the graph, this is example of what we call a **contextless expression**, meaning that its actual resolution may differ depending on how this variable is inserted into an actual expression that we execute.\n",
    "\n",
    "We won't showcase this behavior in this demo, but its important to note that the namebinding for `nations` does not require it to only refer to a top level collection/table.\n",
    "\n",
    "We can then further use this name if we decide we want to select only on 2 nations with the fewest customers. This step consists of a few parts, but in essence what we are doing is saying:\n",
    "1. Select our nations as defined above.\n",
    "2. Use the TOP_K operation which gives the first 2 elements as defined by the `by` section.\n",
    "3. We define our sorting result to be by customer count. What this is saying is that for each nation, count the number of customers connected to it, which works because `nations.customers` is a defined path in our metadata. By calling the `COUNT` operation we reduce this result to 1 value per entry, which can be then be used for sorting.\n",
    "4. We indicate that we want to sort in ascending order."
   ]
  },
  {
   "cell_type": "code",
   "execution_count": null,
   "id": "8763fa2a-4119-49bd-8423-313e291972ab",
   "metadata": {},
   "outputs": [],
   "source": [
    "%%pydough\n",
    "\n",
    "lowest_customer_nations = nation_keys.CALCULATE(nkey, nname, cust_count=COUNT(customers)).TOP_K(2, by=cust_count.ASC())\n",
    "lowest_customer_nations"
   ]
  },
  {
   "cell_type": "markdown",
   "id": "97abb00c-9bba-43a9-b2f1-c99ad041832e",
   "metadata": {},
   "source": [
    "## Evaluating PyDough\n",
    "\n",
    "Right now there are two primary ways to evaluate PyDough expressions.\n",
    "1. Convert PyDough expressions into a SQL query using `pydough.to_sql()`\n",
    "2. Execute PyDough expressions on a SQL database using `pydough.to_df()`\n",
    "\n",
    "Setting up either situation requires making a change the underlying active session. By default PyDough will allow generating ANSI SQL (but not executing on a Database).\n",
    "\n",
    "These APIs can be used from Python if only used directly on a Python variable that has already been resolved from PyDough. If there are more complex expressions please use PyDough cells."
   ]
  },
  {
   "cell_type": "code",
   "execution_count": null,
   "id": "0797d353-fcde-492b-8bff-0bfd11b83d1e",
   "metadata": {},
   "outputs": [],
   "source": [
    "%%pydough\n",
    "\n",
    "pydough.to_sql(nation_keys)"
   ]
  },
  {
   "cell_type": "markdown",
   "id": "23549c86-e192-4ccc-a36d-84eb465c648f",
   "metadata": {},
   "source": [
    "To enable execution on a Database, we need to setup the `pydough.active_session.connect_database()` to indicate where we want to target our SQL. This API is intended to work with any DB 2.0 compatible database connection, although right now it is only setup to work with SQLite. This step is done by providing the database name and the required `connect(...)` arguments. This API will then automatically load the appropriate dialect, which is maintained through integration with `SQLGlot`."
   ]
  },
  {
   "cell_type": "code",
   "execution_count": null,
   "id": "1747e080-eb2f-49a7-bf40-6bdfdb387e4f",
   "metadata": {},
   "outputs": [],
   "source": [
    "pydough.active_session.connect_database(\"sqlite\", database=\"../../tpch.db\");"
   ]
  },
  {
   "cell_type": "code",
   "execution_count": null,
   "id": "12624591-8916-436a-a0f2-f3b666d98a7f",
   "metadata": {},
   "outputs": [],
   "source": [
    "%%pydough\n",
    "\n",
    "pydough.to_df(nation_keys)"
   ]
  },
  {
   "cell_type": "markdown",
   "id": "fd41a3e5-9292-4145-9e20-06f3b5b395d3",
   "metadata": {},
   "source": [
    "Similarly, we can compute our more complex expression with the two nations containing the fewest customers."
   ]
  },
  {
   "cell_type": "code",
   "execution_count": null,
   "id": "d704f7c7-d189-4baa-8475-e0e2c46bd436",
   "metadata": {},
   "outputs": [],
   "source": [
    "%%pydough\n",
    "\n",
    "pydough.to_df(lowest_customer_nations)"
   ]
  },
  {
   "cell_type": "markdown",
   "id": "f52dfcfe-6e90-44b8-b9c4-7dc08a5b28ca",
   "metadata": {},
   "source": [
    "Finally, while building a statement from smaller components is best practice in Pydough, you can always evaluate the entire expression all at once within a PyDough cell, such as this example that loads the all Asian nations in the dataset.\n",
    "\n",
    "We can use the optional `columns` argument to `to_sql` or `to_df` to specify which columns to include, or even what they should be renamed as."
   ]
  },
  {
   "cell_type": "code",
   "execution_count": null,
   "id": "e46afe0f-d0fe-476c-a4c1-81320d358b6f",
   "metadata": {},
   "outputs": [],
   "source": [
    "%%pydough\n",
    "\n",
    "asian_countries = nations.WHERE(region.name == \"ASIA\")\n",
    "print(pydough.to_df(asian_countries, columns=[\"name\", \"key\"]))\n",
    "pydough.to_df(asian_countries, columns={\"nation_name\": \"name\", \"id\": \"key\"})"
   ]
  },
  {
   "cell_type": "markdown",
   "id": "2ddb4d8d-9e70-4d38-babb-4897edce61c7",
   "metadata": {},
   "source": [
    "# Additional Notebooks\n",
    "\n",
    "This notebook is intended as a simple introduction into pydough and it runs in a Jupyter notebook. To get a better understanding of PyDough's most impactful features, we have the following additional notebooks:\n",
    "* [2_pydough_operations](./2_pydough_operations.ipynb): Provides a detailed overview of many of the core operations you can currently perform in PyDough, include some best practices and possible limitations.\n",
    "* [3_exploration](./3_exploration.ipynb): Explores our provided TPC-H metadata to help highlight some of the key metadata features and to teach users how to interact with the metadata.\n",
    "* [4_tpch](./4_tpch.ipynb): Compares the SQL queries used in the TPC-H benchmarks to equivalent statements written in PyDough.\n",
    "* [5_what_if](./5_what_if.ipynb): Shows how to do WHAT-IF analysis with PyDough.\n"
   ]
  },
  {
   "cell_type": "code",
   "execution_count": null,
   "id": "2c4e2a66-70f8-47f7-bee9-a5b76668c063",
   "metadata": {},
   "outputs": [],
   "source": []
  }
 ],
 "metadata": {
  "kernelspec": {
   "display_name": "Python 3 (ipykernel)",
   "language": "python",
   "name": "python3"
  },
  "language_info": {
   "codemirror_mode": {
    "name": "ipython",
    "version": 3
   },
   "file_extension": ".py",
   "mimetype": "text/x-python",
   "name": "python",
   "nbconvert_exporter": "python",
   "pygments_lexer": "ipython3",
   "version": "3.11.9"
  }
 },
 "nbformat": 4,
 "nbformat_minor": 5
}
