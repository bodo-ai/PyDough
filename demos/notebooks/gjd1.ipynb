{
 "cells": [
  {
   "cell_type": "code",
   "execution_count": 1,
   "metadata": {},
   "outputs": [],
   "source": [
    "%load_ext pydough_jupyter_extensions\n",
    "import pydough\n",
    "import pandas as pd\n",
    "pydough.active_session.load_metadata_graph(\"../metadata/tpch_demo_graph.json\", \"TPCH\");\n",
    "pydough.active_session.connect_database(\"sqlite\", database=\"../tpch.db\");"
   ]
  },
  {
   "cell_type": "code",
   "execution_count": 2,
   "metadata": {},
   "outputs": [],
   "source": [
    "pd.options.display.float_format = '{:,.2f}'.format"
   ]
  },
  {
   "cell_type": "code",
   "execution_count": 3,
   "metadata": {},
   "outputs": [
    {
     "name": "stdout",
     "output_type": "stream",
     "text": [
      "hi from to_sql\n"
     ]
    },
    {
     "data": {
      "text/plain": [
       "'SELECT key, COALESCE(agg_0, 0) AS ss FROM (SELECT key, agg_0 FROM (SELECT o_orderkey AS key FROM main.ORDERS) LEFT JOIN (SELECT order_key, SUM(xx) AS agg_0 FROM (SELECT order_key, 1 + discount AS xx FROM (SELECT l_orderkey AS order_key, l_discount AS discount FROM main.LINEITEM)) GROUP BY order_key) ON key = order_key)'"
      ]
     },
     "execution_count": 3,
     "metadata": {},
     "output_type": "execute_result"
    }
   ],
   "source": [
    "%%pydough\n",
    "pydough.to_sql(orders(ss=SUM(lines(xx=1+discount).xx))(key,ss))"
   ]
  },
  {
   "cell_type": "code",
   "execution_count": 5,
   "metadata": {},
   "outputs": [
    {
     "data": {
      "text/plain": [
       "'SELECT COALESCE(agg_0, 0) AS _expr0 FROM (SELECT SUM(ggg) AS agg_0 FROM (SELECT l_discount AS ggg FROM main.LINEITEM))'"
      ]
     },
     "execution_count": 5,
     "metadata": {},
     "output_type": "execute_result"
    }
   ],
   "source": [
    "%%pydough\n",
    "pydough.to_sql(TPCH(SUM(lines(ggg=discount).ggg)))"
   ]
  },
  {
   "cell_type": "code",
   "execution_count": 6,
   "metadata": {},
   "outputs": [
    {
     "ename": "KeyError",
     "evalue": "ggg",
     "output_type": "error",
     "traceback": [
      "\u001b[0;31m---------------------------------------------------------------------------\u001b[0m",
      "\u001b[0;31mKeyError\u001b[0m                                  Traceback (most recent call last)",
      "Cell \u001b[0;32mIn[6], line 3\u001b[0m\n\u001b[1;32m      1\u001b[0m \u001b[38;5;28;01mfrom\u001b[39;00m \u001b[38;5;21;01mpydough\u001b[39;00m\u001b[38;5;21;01m.\u001b[39;00m\u001b[38;5;21;01munqualified\u001b[39;00m \u001b[38;5;28;01mimport\u001b[39;00m UnqualifiedRoot\n\u001b[1;32m      2\u001b[0m _ROOT \u001b[38;5;241m=\u001b[39m UnqualifiedRoot(pydough\u001b[38;5;241m.\u001b[39mactive_session\u001b[38;5;241m.\u001b[39mmetadata)\n\u001b[0;32m----> 3\u001b[0m \u001b[43mpydough\u001b[49m\u001b[38;5;241;43m.\u001b[39;49m\u001b[43mto_sql\u001b[49m\u001b[43m(\u001b[49m\u001b[43m_ROOT\u001b[49m\u001b[38;5;241;43m.\u001b[39;49m\u001b[43mTPCH\u001b[49m\u001b[43m(\u001b[49m\u001b[43m_ROOT\u001b[49m\u001b[38;5;241;43m.\u001b[39;49m\u001b[43mSUM\u001b[49m\u001b[43m(\u001b[49m\u001b[43m_ROOT\u001b[49m\u001b[38;5;241;43m.\u001b[39;49m\u001b[43mlines\u001b[49m\u001b[43m(\u001b[49m\u001b[43mhhh\u001b[49m\u001b[38;5;241;43m=\u001b[39;49m\u001b[43m_ROOT\u001b[49m\u001b[38;5;241;43m.\u001b[39;49m\u001b[43mdiscount\u001b[49m\u001b[43m)\u001b[49m\u001b[38;5;241;43m.\u001b[39;49m\u001b[43mhhh\u001b[49m\u001b[43m)\u001b[49m\u001b[43m)\u001b[49m\u001b[43m)\u001b[49m\n",
      "File \u001b[0;32m~/.python/current/lib/python3.12/site-packages/pydough/evaluation/evaluate_unqualified.py:90\u001b[0m, in \u001b[0;36mto_sql\u001b[0;34m(node, **kwargs)\u001b[0m\n\u001b[1;32m     86\u001b[0m \u001b[38;5;28;01mif\u001b[39;00m \u001b[38;5;129;01mnot\u001b[39;00m \u001b[38;5;28misinstance\u001b[39m(qualified, PyDoughCollectionAST):\n\u001b[1;32m     87\u001b[0m     \u001b[38;5;28;01mraise\u001b[39;00m \u001b[38;5;167;01mTypeError\u001b[39;00m(\n\u001b[1;32m     88\u001b[0m         \u001b[38;5;124mf\u001b[39m\u001b[38;5;124m\"\u001b[39m\u001b[38;5;124mFinal qualified expression must be a collection, found \u001b[39m\u001b[38;5;132;01m{\u001b[39;00mqualified\u001b[38;5;241m.\u001b[39m\u001b[38;5;18m__class__\u001b[39m\u001b[38;5;241m.\u001b[39m\u001b[38;5;18m__name__\u001b[39m\u001b[38;5;132;01m}\u001b[39;00m\u001b[38;5;124m\"\u001b[39m\n\u001b[1;32m     89\u001b[0m     )\n\u001b[0;32m---> 90\u001b[0m relational: RelationalRoot \u001b[38;5;241m=\u001b[39m \u001b[43mconvert_ast_to_relational\u001b[49m\u001b[43m(\u001b[49m\u001b[43mqualified\u001b[49m\u001b[43m,\u001b[49m\u001b[43m \u001b[49m\u001b[43mconfig\u001b[49m\u001b[43m)\u001b[49m\n\u001b[1;32m     91\u001b[0m \u001b[38;5;28;01mreturn\u001b[39;00m convert_relation_to_sql(\n\u001b[1;32m     92\u001b[0m     relational, convert_dialect_to_sqlglot(database\u001b[38;5;241m.\u001b[39mdialect)\n\u001b[1;32m     93\u001b[0m )\n",
      "File \u001b[0;32m~/.python/current/lib/python3.12/site-packages/pydough/conversion/relational_converter.py:886\u001b[0m, in \u001b[0;36mconvert_ast_to_relational\u001b[0;34m(node, configs)\u001b[0m\n\u001b[1;32m    884\u001b[0m hybrid: HybridTree \u001b[38;5;241m=\u001b[39m HybridTranslator(configs)\u001b[38;5;241m.\u001b[39mmake_hybrid_tree(node)\n\u001b[1;32m    885\u001b[0m renamings: \u001b[38;5;28mdict\u001b[39m[\u001b[38;5;28mstr\u001b[39m, \u001b[38;5;28mstr\u001b[39m] \u001b[38;5;241m=\u001b[39m hybrid\u001b[38;5;241m.\u001b[39mpipeline[\u001b[38;5;241m-\u001b[39m\u001b[38;5;241m1\u001b[39m]\u001b[38;5;241m.\u001b[39mrenamings\n\u001b[0;32m--> 886\u001b[0m output: TranslationOutput \u001b[38;5;241m=\u001b[39m \u001b[43mtranslator\u001b[49m\u001b[38;5;241;43m.\u001b[39;49m\u001b[43mrel_translation\u001b[49m\u001b[43m(\u001b[49m\n\u001b[1;32m    887\u001b[0m \u001b[43m    \u001b[49m\u001b[38;5;28;43;01mNone\u001b[39;49;00m\u001b[43m,\u001b[49m\u001b[43m \u001b[49m\u001b[43mhybrid\u001b[49m\u001b[43m,\u001b[49m\u001b[43m \u001b[49m\u001b[38;5;28;43mlen\u001b[39;49m\u001b[43m(\u001b[49m\u001b[43mhybrid\u001b[49m\u001b[38;5;241;43m.\u001b[39;49m\u001b[43mpipeline\u001b[49m\u001b[43m)\u001b[49m\u001b[43m \u001b[49m\u001b[38;5;241;43m-\u001b[39;49m\u001b[43m \u001b[49m\u001b[38;5;241;43m1\u001b[39;49m\n\u001b[1;32m    888\u001b[0m \u001b[43m\u001b[49m\u001b[43m)\u001b[49m\n\u001b[1;32m    889\u001b[0m ordered_columns: \u001b[38;5;28mlist\u001b[39m[\u001b[38;5;28mtuple\u001b[39m[\u001b[38;5;28mstr\u001b[39m, RelationalExpression]] \u001b[38;5;241m=\u001b[39m []\n\u001b[1;32m    890\u001b[0m orderings: \u001b[38;5;28mlist\u001b[39m[ExpressionSortInfo] \u001b[38;5;241m|\u001b[39m \u001b[38;5;28;01mNone\u001b[39;00m \u001b[38;5;241m=\u001b[39m \u001b[38;5;28;01mNone\u001b[39;00m\n",
      "File \u001b[0;32m~/.python/current/lib/python3.12/site-packages/pydough/conversion/relational_converter.py:757\u001b[0m, in \u001b[0;36mRelTranslation.rel_translation\u001b[0;34m(self, connection, hybrid, pipeline_idx)\u001b[0m\n\u001b[1;32m    755\u001b[0m     context \u001b[38;5;241m=\u001b[39m \u001b[38;5;28mself\u001b[39m\u001b[38;5;241m.\u001b[39mhandle_children(context, \u001b[38;5;241m*\u001b[39mpreceding_hybrid)\n\u001b[1;32m    756\u001b[0m \u001b[38;5;28;01melse\u001b[39;00m:\n\u001b[0;32m--> 757\u001b[0m     context \u001b[38;5;241m=\u001b[39m \u001b[38;5;28;43mself\u001b[39;49m\u001b[38;5;241;43m.\u001b[39;49m\u001b[43mrel_translation\u001b[49m\u001b[43m(\u001b[49m\u001b[43mconnection\u001b[49m\u001b[43m,\u001b[49m\u001b[43m \u001b[49m\u001b[38;5;241;43m*\u001b[39;49m\u001b[43mpreceding_hybrid\u001b[49m\u001b[43m)\u001b[49m\n\u001b[1;32m    759\u001b[0m \u001b[38;5;66;03m# Then, dispatch onto the logic to transform from the context into the\u001b[39;00m\n\u001b[1;32m    760\u001b[0m \u001b[38;5;66;03m# new translation output.\u001b[39;00m\n\u001b[1;32m    761\u001b[0m handled_children: \u001b[38;5;28mbool\u001b[39m \u001b[38;5;241m=\u001b[39m \u001b[38;5;28;01mFalse\u001b[39;00m\n",
      "File \u001b[0;32m~/.python/current/lib/python3.12/site-packages/pydough/conversion/relational_converter.py:755\u001b[0m, in \u001b[0;36mRelTranslation.rel_translation\u001b[0;34m(self, connection, hybrid, pipeline_idx)\u001b[0m\n\u001b[1;32m    751\u001b[0m \u001b[38;5;28;01melif\u001b[39;00m \u001b[38;5;28misinstance\u001b[39m(preceding_hybrid[\u001b[38;5;241m0\u001b[39m]\u001b[38;5;241m.\u001b[39mpipeline[preceding_hybrid[\u001b[38;5;241m1\u001b[39m]], HybridRoot):\n\u001b[1;32m    752\u001b[0m     \u001b[38;5;66;03m# If at the true root, set the starting context to just be a dummy\u001b[39;00m\n\u001b[1;32m    753\u001b[0m     \u001b[38;5;66;03m# VALUES clause.\u001b[39;00m\n\u001b[1;32m    754\u001b[0m     context \u001b[38;5;241m=\u001b[39m TranslationOutput(EmptySingleton(), {})\n\u001b[0;32m--> 755\u001b[0m     context \u001b[38;5;241m=\u001b[39m \u001b[38;5;28;43mself\u001b[39;49m\u001b[38;5;241;43m.\u001b[39;49m\u001b[43mhandle_children\u001b[49m\u001b[43m(\u001b[49m\u001b[43mcontext\u001b[49m\u001b[43m,\u001b[49m\u001b[43m \u001b[49m\u001b[38;5;241;43m*\u001b[39;49m\u001b[43mpreceding_hybrid\u001b[49m\u001b[43m)\u001b[49m\n\u001b[1;32m    756\u001b[0m \u001b[38;5;28;01melse\u001b[39;00m:\n\u001b[1;32m    757\u001b[0m     context \u001b[38;5;241m=\u001b[39m \u001b[38;5;28mself\u001b[39m\u001b[38;5;241m.\u001b[39mrel_translation(connection, \u001b[38;5;241m*\u001b[39mpreceding_hybrid)\n",
      "File \u001b[0;32m~/.python/current/lib/python3.12/site-packages/pydough/conversion/relational_converter.py:366\u001b[0m, in \u001b[0;36mRelTranslation.handle_children\u001b[0;34m(self, context, hybrid, pipeline_idx)\u001b[0m\n\u001b[1;32m    358\u001b[0m     ConnectionType\u001b[38;5;241m.\u001b[39mSINGULAR\n\u001b[1;32m    359\u001b[0m     \u001b[38;5;241m|\u001b[39m ConnectionType\u001b[38;5;241m.\u001b[39mSINGULAR_ONLY_MATCH\n\u001b[1;32m    360\u001b[0m     \u001b[38;5;241m|\u001b[39m ConnectionType\u001b[38;5;241m.\u001b[39mAGGREGATION\n\u001b[0;32m   (...)\u001b[0m\n\u001b[1;32m    363\u001b[0m     \u001b[38;5;241m|\u001b[39m ConnectionType\u001b[38;5;241m.\u001b[39mANTI\n\u001b[1;32m    364\u001b[0m ):\n\u001b[1;32m    365\u001b[0m     \u001b[38;5;28;01mif\u001b[39;00m child\u001b[38;5;241m.\u001b[39mconnection_type\u001b[38;5;241m.\u001b[39mis_aggregation:\n\u001b[0;32m--> 366\u001b[0m         child_output \u001b[38;5;241m=\u001b[39m \u001b[38;5;28;43mself\u001b[39;49m\u001b[38;5;241;43m.\u001b[39;49m\u001b[43mapply_aggregations\u001b[49m\u001b[43m(\u001b[49m\n\u001b[1;32m    367\u001b[0m \u001b[43m            \u001b[49m\u001b[43mchild\u001b[49m\u001b[43m,\u001b[49m\u001b[43m \u001b[49m\u001b[43mchild_output\u001b[49m\u001b[43m,\u001b[49m\u001b[43m \u001b[49m\u001b[43magg_keys\u001b[49m\n\u001b[1;32m    368\u001b[0m \u001b[43m        \u001b[49m\u001b[43m)\u001b[49m\n\u001b[1;32m    369\u001b[0m     context \u001b[38;5;241m=\u001b[39m \u001b[38;5;28mself\u001b[39m\u001b[38;5;241m.\u001b[39mjoin_outputs(\n\u001b[1;32m    370\u001b[0m         context,\n\u001b[1;32m    371\u001b[0m         child_output,\n\u001b[0;32m   (...)\u001b[0m\n\u001b[1;32m    374\u001b[0m         child_idx,\n\u001b[1;32m    375\u001b[0m     )\n\u001b[1;32m    376\u001b[0m \u001b[38;5;28;01mcase\u001b[39;00m (\n",
      "File \u001b[0;32m~/.python/current/lib/python3.12/site-packages/pydough/conversion/relational_converter.py:316\u001b[0m, in \u001b[0;36mRelTranslation.apply_aggregations\u001b[0;34m(self, connection, context, agg_keys)\u001b[0m\n\u001b[1;32m    313\u001b[0m     hybrid_expr: HybridExpr \u001b[38;5;241m=\u001b[39m HybridRefExpr(agg_name, agg_func\u001b[38;5;241m.\u001b[39mtyp)\n\u001b[1;32m    314\u001b[0m     out_columns[hybrid_expr] \u001b[38;5;241m=\u001b[39m col_ref\n\u001b[1;32m    315\u001b[0m     args: \u001b[38;5;28mlist\u001b[39m[RelationalExpression] \u001b[38;5;241m=\u001b[39m [\n\u001b[0;32m--> 316\u001b[0m         \u001b[38;5;28;43mself\u001b[39;49m\u001b[38;5;241;43m.\u001b[39;49m\u001b[43mtranslate_expression\u001b[49m\u001b[43m(\u001b[49m\u001b[43marg\u001b[49m\u001b[43m,\u001b[49m\u001b[43m \u001b[49m\u001b[43mcontext\u001b[49m\u001b[43m)\u001b[49m \u001b[38;5;28;01mfor\u001b[39;00m arg \u001b[38;5;129;01min\u001b[39;00m agg_func\u001b[38;5;241m.\u001b[39margs\n\u001b[1;32m    317\u001b[0m     ]\n\u001b[1;32m    318\u001b[0m     aggregations[agg_name] \u001b[38;5;241m=\u001b[39m CallExpression(\n\u001b[1;32m    319\u001b[0m         agg_func\u001b[38;5;241m.\u001b[39moperator, agg_func\u001b[38;5;241m.\u001b[39mtyp, args\n\u001b[1;32m    320\u001b[0m     )\n\u001b[1;32m    321\u001b[0m out_rel: Relational \u001b[38;5;241m=\u001b[39m Aggregate(context\u001b[38;5;241m.\u001b[39mrelation, keys, aggregations)\n",
      "File \u001b[0;32m~/.python/current/lib/python3.12/site-packages/pydough/conversion/relational_converter.py:141\u001b[0m, in \u001b[0;36mRelTranslation.translate_expression\u001b[0;34m(self, expr, context)\u001b[0m\n\u001b[1;32m    139\u001b[0m \u001b[38;5;28;01mcase\u001b[39;00m HybridRefExpr() \u001b[38;5;241m|\u001b[39m HybridChildRefExpr() \u001b[38;5;241m|\u001b[39m HybridBackRefExpr():\n\u001b[1;32m    140\u001b[0m     \u001b[38;5;28;01massert\u001b[39;00m context \u001b[38;5;129;01mis\u001b[39;00m \u001b[38;5;129;01mnot\u001b[39;00m \u001b[38;5;28;01mNone\u001b[39;00m\n\u001b[0;32m--> 141\u001b[0m     \u001b[38;5;28;01mreturn\u001b[39;00m \u001b[43mcontext\u001b[49m\u001b[38;5;241;43m.\u001b[39;49m\u001b[43mexpressions\u001b[49m\u001b[43m[\u001b[49m\u001b[43mexpr\u001b[49m\u001b[43m]\u001b[49m\n\u001b[1;32m    142\u001b[0m \u001b[38;5;28;01mcase\u001b[39;00m HybridFunctionExpr():\n\u001b[1;32m    143\u001b[0m     inputs: \u001b[38;5;28mlist\u001b[39m[RelationalExpression] \u001b[38;5;241m=\u001b[39m [\n\u001b[1;32m    144\u001b[0m         \u001b[38;5;28mself\u001b[39m\u001b[38;5;241m.\u001b[39mtranslate_expression(arg, context) \u001b[38;5;28;01mfor\u001b[39;00m arg \u001b[38;5;129;01min\u001b[39;00m expr\u001b[38;5;241m.\u001b[39margs\n\u001b[1;32m    145\u001b[0m     ]\n",
      "\u001b[0;31mKeyError\u001b[0m: ggg"
     ]
    }
   ],
   "source": [
    "%%pydough\n",
    "pydough.to_sql(TPCH(SUM(lines(hhh=discount).hhh)))"
   ]
  }
 ],
 "metadata": {
  "kernelspec": {
   "display_name": "Python 3",
   "language": "python",
   "name": "python3"
  },
  "language_info": {
   "codemirror_mode": {
    "name": "ipython",
    "version": 3
   },
   "file_extension": ".py",
   "mimetype": "text/x-python",
   "name": "python",
   "nbconvert_exporter": "python",
   "pygments_lexer": "ipython3",
   "version": "3.12.1"
  }
 },
 "nbformat": 4,
 "nbformat_minor": 2
}
