{
 "cells": [
  {
   "cell_type": "markdown",
   "id": "f13864dd-f6b5-438a-83a6-8cd03c9e3ac3",
   "metadata": {},
   "source": [
    "# Overview\n",
    "\n",
    "This notebook provides a basic example of the process of working in PyDough to answer an analytics question. It highlights how PyDough can be leveraged to guide the development and experimentation process, with an emphasis on solving partial sub-problems.\n",
    "\n",
    "We believe that is this approach is more composable and scalable. Rather than focusing on building a query to answer a question at hand, building question components allows more proportional scaling relative to the complexity at hand. The PyDough team is optimistic that such an approach can make human more productive effective and LLMs more accurate at solving the problem at hand.\n",
    "\n",
    "The majority of this notebook will be focused on building up a more complex question piece by piece. At some places we will also deviate from this question to emphasize the powerful PyDough features that enable this type of experimentation."
   ]
  },
  {
   "cell_type": "code",
   "execution_count": 1,
   "id": "7849d55d-cf82-4fb4-acb9-4a6f257926c9",
   "metadata": {},
   "outputs": [],
   "source": [
    "%load_ext pydough_jupyter_extensions"
   ]
  },
  {
   "cell_type": "code",
   "execution_count": 2,
   "id": "32294532-eaba-4a3f-8fd0-acfd5410ea52",
   "metadata": {},
   "outputs": [],
   "source": [
    "import pydough"
   ]
  },
  {
   "cell_type": "code",
   "execution_count": 3,
   "id": "3fa62d04-d363-414b-bed8-d0f0e289e606",
   "metadata": {},
   "outputs": [],
   "source": [
    "# Setup demo metadata\n",
    "pydough.active_session.load_metadata_graph(\"../metadata/tpch_demo_graph.json\", \"TPCH\")\n",
    "pydough.active_session.connect_database(\"sqlite\", database=\"../tpch.db\");"
   ]
  },
  {
   "attachments": {},
   "cell_type": "markdown",
   "id": "f0ab9cff-2549-43b4-b044-4ae1029fae97",
   "metadata": {},
   "source": [
    "## DEMO SETUP\n",
    "\n",
    "For this demo we will be working in an example crafted to match the schema for the TPC-H benchmark. The actual data for this benchmark is generated in SQLite using the standard TPC-H data generation tools. The underlying schema of this data matches this example image from [TPC Benchmark H Standard Specification](https://www.tpc.org/tpc_documents_current_versions/pdf/tpc-h_v2.17.1.pdf).\n",
    "\n",
    "![TPC-H schema from the Specification Document as of December 12, 2024](../images/tpc_h_schema.png)\n",
    "\n",
    "In addition, our metadata then defines how these \"collections\" are known to interact with each other. One important feature is that we provide alternative names to reflect our organization's semantics. All PyDough code can use these names to make generating analytics queries closer to the underlying business questions. The important renamings for this example will be:\n",
    " * LineItems -> lines\n",
    " * PartSupp -> supply_records\n",
    "\n",
    "In other use cases we can also define unique names for particular relationships (e.g. the joining of nations and regions), but we will not demonstrate these in this example to instead emphasize PyDough's naming flexibility."
   ]
  },
  {
   "cell_type": "code",
   "execution_count": 4,
   "id": "f68c3b65-7f1f-46e7-a8fd-5eb1d06ae3f4",
   "metadata": {},
   "outputs": [],
   "source": [
    "# TODO: Show examples after Kian's Metadata PR showing these two example collections in the metadata."
   ]
  },
  {
   "cell_type": "markdown",
   "id": "a6b19eac-d793-40a9-b294-bb17bba1fc77",
   "metadata": {},
   "source": [
    "## Problem Statement\n",
    "\n",
    "We are going to build to solve a problem where we seek to identify the 5 lines that represent the smallest percentage of an order's revenue. We know the high level business question that we want to resolve, but not necessarily the path to get there. Here we will use PyDough to construct this solution one component at a time, rather than trying to start from composing queries on underlying tables.\n",
    "\n",
    "Our first defintion will be to build our price defintion as this we be key to any solution. Based on underlying data we can define this price as being the original price after applying the discount."
   ]
  },
  {
   "cell_type": "code",
   "execution_count": 5,
   "id": "90f77e14-4540-42af-a62e-2ba4e9ae40b9",
   "metadata": {},
   "outputs": [],
   "source": [
    "%%pydough\n",
    "\n",
    "price_def = extended_price*(1-discount)"
   ]
  },
  {
   "cell_type": "markdown",
   "id": "c250943d-f018-4b53-b3b0-423c35db5004",
   "metadata": {},
   "source": [
    "This might seem shocking. We have defined `price_def` out of nowhere using an `extended_price` and `discount`. What has actually happened here is that we have generated what is called a `Contextless Expression`. This fundamental building block is the key to PyDough's composability.\n",
    "\n",
    "On its own this expression doesn't mean anything. In fact if we inspect this object in regular PyDough we will see that PyDough itself has a lot of questions."
   ]
  },
  {
   "cell_type": "code",
   "execution_count": 6,
   "id": "3dc2af81-baa9-45df-9624-a6afca0101b7",
   "metadata": {},
   "outputs": [
    {
     "data": {
      "text/plain": [
       "(?.extended_price * (1 - ?.discount))"
      ]
     },
     "execution_count": 6,
     "metadata": {},
     "output_type": "execute_result"
    }
   ],
   "source": [
    "price_def"
   ]
  },
  {
   "cell_type": "markdown",
   "id": "576f9203-35c0-458a-8860-88615bcade4f",
   "metadata": {},
   "source": [
    "As you see, PyDough now knows that this expression is composed of `extendedprice` and `discount`, but it doesn't know **WHICH** `extended_price` and `discount`. To ultimately develop a legal PyDough statement, we will need to bind uses of this expression to a context that can access `extended_price` and `discount`.\n",
    "\n",
    "This might seem very minor, but this allows us to define definitions up front, allowing reuse in vastly different contexts.\n",
    "\n",
    "Now our schema is flexible, but this price defintion is actually tied to the lines collection. Let's now combine incorporate lines."
   ]
  },
  {
   "cell_type": "code",
   "execution_count": 7,
   "id": "7899e4b6-3c41-4790-9855-49e46c7144ba",
   "metadata": {},
   "outputs": [],
   "source": [
    "%%pydough\n",
    "\n",
    "line_price = lines(line_price=price_def).line_price"
   ]
  },
  {
   "cell_type": "markdown",
   "id": "5ff67de8-2e21-44d7-af51-7bbb244e4b58",
   "metadata": {},
   "source": [
    "At this stage our expression is more complete (we know it is associated with lines), but its actually still contextless. Let's extend this by now asking for something more concrete, the SUM."
   ]
  },
  {
   "cell_type": "code",
   "execution_count": 8,
   "id": "c1018dd8-a2bc-48f9-b8e0-49d606de32ba",
   "metadata": {},
   "outputs": [],
   "source": [
    "%%pydough\n",
    "\n",
    "total_price = SUM(line_price)"
   ]
  },
  {
   "cell_type": "markdown",
   "id": "d22eed8e-27a7-4386-872b-80795074bbdf",
   "metadata": {},
   "source": [
    "Now this expression is more meaningful. If we assign this statement to global context, our actual TPCH graph, then we can compute the total price across all lines."
   ]
  },
  {
   "cell_type": "code",
   "execution_count": 9,
   "id": "4da56ff3-c78e-4fd3-9b45-e5962517fa6a",
   "metadata": {},
   "outputs": [
    {
     "data": {
      "text/html": [
       "<div>\n",
       "<style scoped>\n",
       "    .dataframe tbody tr th:only-of-type {\n",
       "        vertical-align: middle;\n",
       "    }\n",
       "\n",
       "    .dataframe tbody tr th {\n",
       "        vertical-align: top;\n",
       "    }\n",
       "\n",
       "    .dataframe thead th {\n",
       "        text-align: right;\n",
       "    }\n",
       "</style>\n",
       "<table border=\"1\" class=\"dataframe\">\n",
       "  <thead>\n",
       "    <tr style=\"text-align: right;\">\n",
       "      <th></th>\n",
       "      <th>total_line_price</th>\n",
       "    </tr>\n",
       "  </thead>\n",
       "  <tbody>\n",
       "    <tr>\n",
       "      <th>0</th>\n",
       "      <td>2.181022e+11</td>\n",
       "    </tr>\n",
       "  </tbody>\n",
       "</table>\n",
       "</div>"
      ],
      "text/plain": [
       "   total_line_price\n",
       "0      2.181022e+11"
      ]
     },
     "execution_count": 9,
     "metadata": {},
     "output_type": "execute_result"
    }
   ],
   "source": [
    "%%pydough\n",
    "\n",
    "pydough.to_df(TPCH(total_line_price=total_price))"
   ]
  },
  {
   "cell_type": "markdown",
   "id": "c4d9df49-4d3f-4b01-a868-a5ae1bf97ac3",
   "metadata": {},
   "source": [
    "In practice though, this may not solve our core question. Instead, we may want to apply a different **context**, say for example total_price for each order. We can instead represent that as follows."
   ]
  },
  {
   "cell_type": "code",
   "execution_count": 10,
   "id": "83b821fc-866b-4116-a38c-2797d2a651a0",
   "metadata": {},
   "outputs": [
    {
     "data": {
      "text/html": [
       "<div>\n",
       "<style scoped>\n",
       "    .dataframe tbody tr th:only-of-type {\n",
       "        vertical-align: middle;\n",
       "    }\n",
       "\n",
       "    .dataframe tbody tr th {\n",
       "        vertical-align: top;\n",
       "    }\n",
       "\n",
       "    .dataframe thead th {\n",
       "        text-align: right;\n",
       "    }\n",
       "</style>\n",
       "<table border=\"1\" class=\"dataframe\">\n",
       "  <thead>\n",
       "    <tr style=\"text-align: right;\">\n",
       "      <th></th>\n",
       "      <th>total_line_price</th>\n",
       "    </tr>\n",
       "  </thead>\n",
       "  <tbody>\n",
       "    <tr>\n",
       "      <th>0</th>\n",
       "      <td>167183.2296</td>\n",
       "    </tr>\n",
       "    <tr>\n",
       "      <th>1</th>\n",
       "      <td>44694.4600</td>\n",
       "    </tr>\n",
       "    <tr>\n",
       "      <th>2</th>\n",
       "      <td>190548.7248</td>\n",
       "    </tr>\n",
       "    <tr>\n",
       "      <th>3</th>\n",
       "      <td>29770.1730</td>\n",
       "    </tr>\n",
       "    <tr>\n",
       "      <th>4</th>\n",
       "      <td>137930.6046</td>\n",
       "    </tr>\n",
       "    <tr>\n",
       "      <th>...</th>\n",
       "      <td>...</td>\n",
       "    </tr>\n",
       "    <tr>\n",
       "      <th>1499995</th>\n",
       "      <td>111787.8756</td>\n",
       "    </tr>\n",
       "    <tr>\n",
       "      <th>1499996</th>\n",
       "      <td>68224.3200</td>\n",
       "    </tr>\n",
       "    <tr>\n",
       "      <th>1499997</th>\n",
       "      <td>88356.4944</td>\n",
       "    </tr>\n",
       "    <tr>\n",
       "      <th>1499998</th>\n",
       "      <td>62681.1456</td>\n",
       "    </tr>\n",
       "    <tr>\n",
       "      <th>1499999</th>\n",
       "      <td>36831.6864</td>\n",
       "    </tr>\n",
       "  </tbody>\n",
       "</table>\n",
       "<p>1500000 rows × 1 columns</p>\n",
       "</div>"
      ],
      "text/plain": [
       "         total_line_price\n",
       "0             167183.2296\n",
       "1              44694.4600\n",
       "2             190548.7248\n",
       "3              29770.1730\n",
       "4             137930.6046\n",
       "...                   ...\n",
       "1499995       111787.8756\n",
       "1499996        68224.3200\n",
       "1499997        88356.4944\n",
       "1499998        62681.1456\n",
       "1499999        36831.6864\n",
       "\n",
       "[1500000 rows x 1 columns]"
      ]
     },
     "execution_count": 10,
     "metadata": {},
     "output_type": "execute_result"
    }
   ],
   "source": [
    "%%pydough\n",
    "\n",
    "order_total_price = orders(total_line_price=total_price)\n",
    "pydough.to_df(order_total_price)"
   ]
  },
  {
   "cell_type": "markdown",
   "id": "bfe461f5-f64f-4a37-a840-bc200ca90aa5",
   "metadata": {},
   "source": [
    "Notice that are able to reuse the exact same code, but by swapping the context we can ultimately modify the semantics. This makes testing the underlying behavior much more scalable. To ask is this statement correct, we can instead compose our question to ask:\n",
    "* Is this underlying expression correct?\n",
    "* Is this context correct?\n",
    "\n",
    "Since these can be verify independently, we can develop greater confidence in our question since it arises from composable building blocks. We could also generate selected contexts to build clear testing."
   ]
  },
  {
   "cell_type": "code",
   "execution_count": 11,
   "id": "db103386-dbac-41d1-98ef-3facbc4d466e",
   "metadata": {},
   "outputs": [
    {
     "name": "stderr",
     "output_type": "stream",
     "text": [
      "/Users/nicholasriasanovsky/Documents/bodo/PyDough/pydough/sqlglot/sqlglot_relational_visitor.py:215: UserWarning: PyDough when using SQLITE dialect does not support ascending ordering with nulls last (changed to nulls first)\n",
      "  warnings.warn(\n"
     ]
    },
    {
     "data": {
      "text/html": [
       "<div>\n",
       "<style scoped>\n",
       "    .dataframe tbody tr th:only-of-type {\n",
       "        vertical-align: middle;\n",
       "    }\n",
       "\n",
       "    .dataframe tbody tr th {\n",
       "        vertical-align: top;\n",
       "    }\n",
       "\n",
       "    .dataframe thead th {\n",
       "        text-align: right;\n",
       "    }\n",
       "</style>\n",
       "<table border=\"1\" class=\"dataframe\">\n",
       "  <thead>\n",
       "    <tr style=\"text-align: right;\">\n",
       "      <th></th>\n",
       "      <th>total_price</th>\n",
       "    </tr>\n",
       "  </thead>\n",
       "  <tbody>\n",
       "    <tr>\n",
       "      <th>0</th>\n",
       "      <td>168805.6798</td>\n",
       "    </tr>\n",
       "  </tbody>\n",
       "</table>\n",
       "</div>"
      ],
      "text/plain": [
       "   total_price\n",
       "0  168805.6798"
      ]
     },
     "execution_count": 11,
     "metadata": {},
     "output_type": "execute_result"
    }
   ],
   "source": [
    "%%pydough\n",
    "\n",
    "# Compute the sum of the first 5 line numbers, which can be known for testing.\n",
    "top_five_lines = lines.TOP_K(5, by=line_number.ASC())\n",
    "top_five_line_price = TPCH(total_price=SUM(top_five_lines(line_price=price_def).line_price))\n",
    "pydough.to_df(top_five_line_price)"
   ]
  },
  {
   "cell_type": "markdown",
   "id": "23e6c569-fc61-4338-ad28-ddbe20aa3b88",
   "metadata": {},
   "source": [
    "Now let's return to extending our question. Building able to compute order sums is great, but we care about results per line. As a result, now we can even extend our orders to an additional context within lines. We will once again define more defintions. Our ratio definition will now ask us to propagate our previous `total_price` price that we computed and compare it to the result of `price_def`."
   ]
  },
  {
   "cell_type": "code",
   "execution_count": 12,
   "id": "037addf9-36ed-440d-b99e-980a43f21303",
   "metadata": {},
   "outputs": [],
   "source": [
    "%%pydough\n",
    "\n",
    "ratio = price_def / BACK(1).total_price"
   ]
  },
  {
   "cell_type": "markdown",
   "id": "12ca1882-91f3-4da2-aa01-94212a67c750",
   "metadata": {},
   "source": [
    "Now we will build our final question by moving from the context of the orders to the context of orders and lines together. Since Orders -> Lines is a Many to One relationship, this places us in the context of lines with some additional information.\n",
    "\n",
    "For actually fully solving our prior question, we will compute the ratio and then select 5 smallest ratio value, breaking ties with a combination of the order number and line number."
   ]
  },
  {
   "cell_type": "code",
   "execution_count": 13,
   "id": "2fc83a46-75e9-4be0-af7d-c9d0ec66eeb2",
   "metadata": {},
   "outputs": [],
   "source": [
    "%%pydough\n",
    "\n",
    "line_ratios = order_total_price.lines(revenue_ratio=ratio, key=order_key, line_number=line_number)\n",
    "lowest_ratios = line_ratios.TOP_K(5, by=(revenue_ratio.ASC(),key.DESC(), line_number.DESC()))"
   ]
  },
  {
   "cell_type": "code",
   "execution_count": 14,
   "id": "cbe9b58c-d5cf-4803-9db2-066171467d05",
   "metadata": {},
   "outputs": [
    {
     "name": "stderr",
     "output_type": "stream",
     "text": [
      "/Users/nicholasriasanovsky/Documents/bodo/PyDough/pydough/sqlglot/sqlglot_relational_visitor.py:215: UserWarning: PyDough when using SQLITE dialect does not support ascending ordering with nulls last (changed to nulls first)\n",
      "  warnings.warn(\n"
     ]
    },
    {
     "data": {
      "text/html": [
       "<div>\n",
       "<style scoped>\n",
       "    .dataframe tbody tr th:only-of-type {\n",
       "        vertical-align: middle;\n",
       "    }\n",
       "\n",
       "    .dataframe tbody tr th {\n",
       "        vertical-align: top;\n",
       "    }\n",
       "\n",
       "    .dataframe thead th {\n",
       "        text-align: right;\n",
       "    }\n",
       "</style>\n",
       "<table border=\"1\" class=\"dataframe\">\n",
       "  <thead>\n",
       "    <tr style=\"text-align: right;\">\n",
       "      <th></th>\n",
       "      <th>revenue_ratio</th>\n",
       "      <th>key</th>\n",
       "      <th>line_number</th>\n",
       "    </tr>\n",
       "  </thead>\n",
       "  <tbody>\n",
       "    <tr>\n",
       "      <th>0</th>\n",
       "      <td>0.002341</td>\n",
       "      <td>363876</td>\n",
       "      <td>1</td>\n",
       "    </tr>\n",
       "    <tr>\n",
       "      <th>1</th>\n",
       "      <td>0.002359</td>\n",
       "      <td>4920774</td>\n",
       "      <td>1</td>\n",
       "    </tr>\n",
       "    <tr>\n",
       "      <th>2</th>\n",
       "      <td>0.002368</td>\n",
       "      <td>3274400</td>\n",
       "      <td>4</td>\n",
       "    </tr>\n",
       "    <tr>\n",
       "      <th>3</th>\n",
       "      <td>0.002399</td>\n",
       "      <td>2230976</td>\n",
       "      <td>2</td>\n",
       "    </tr>\n",
       "    <tr>\n",
       "      <th>4</th>\n",
       "      <td>0.002400</td>\n",
       "      <td>497094</td>\n",
       "      <td>4</td>\n",
       "    </tr>\n",
       "  </tbody>\n",
       "</table>\n",
       "</div>"
      ],
      "text/plain": [
       "   revenue_ratio      key  line_number\n",
       "0       0.002341   363876            1\n",
       "1       0.002359  4920774            1\n",
       "2       0.002368  3274400            4\n",
       "3       0.002399  2230976            2\n",
       "4       0.002400   497094            4"
      ]
     },
     "execution_count": 14,
     "metadata": {},
     "output_type": "execute_result"
    }
   ],
   "source": [
    "pydough.to_df(lowest_ratios)"
   ]
  },
  {
   "cell_type": "code",
   "execution_count": null,
   "id": "f74f6990-5782-4284-826e-c12d957b8ba0",
   "metadata": {},
   "outputs": [],
   "source": []
  }
 ],
 "metadata": {
  "kernelspec": {
   "display_name": "Python 3 (ipykernel)",
   "language": "python",
   "name": "python3"
  },
  "language_info": {
   "codemirror_mode": {
    "name": "ipython",
    "version": 3
   },
   "file_extension": ".py",
   "mimetype": "text/x-python",
   "name": "python",
   "nbconvert_exporter": "python",
   "pygments_lexer": "ipython3",
   "version": "3.12.7"
  }
 },
 "nbformat": 4,
 "nbformat_minor": 5
}
