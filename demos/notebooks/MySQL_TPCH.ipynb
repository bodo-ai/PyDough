{
 "cells": [
  {
   "cell_type": "markdown",
   "id": "d68a35f7",
   "metadata": {},
   "source": [
    "# MYSQL Database connector"
   ]
  },
  {
   "cell_type": "markdown",
   "id": "2c0514f5",
   "metadata": {},
   "source": [
    "Before running this notebook make sure the MySQL Python Connector is installed \n",
    "TODO: Add an examples of how to install it"
   ]
  },
  {
   "cell_type": "markdown",
   "id": "c5fdee2c",
   "metadata": {},
   "source": [
    "## Imports"
   ]
  },
  {
   "cell_type": "code",
   "execution_count": 1,
   "id": "5efa624d",
   "metadata": {},
   "outputs": [],
   "source": [
    "import pydough"
   ]
  },
  {
   "cell_type": "markdown",
   "id": "f19bda7f",
   "metadata": {},
   "source": [
    "## Loading credencials and connecting to MySQL"
   ]
  },
  {
   "cell_type": "code",
   "execution_count": 2,
   "id": "7ce93d4a",
   "metadata": {},
   "outputs": [
    {
     "data": {
      "text/plain": [
       "DatabaseContext(connection=<pydough.database_connectors.database_connector.DatabaseConnection object at 0x11d151a90>, dialect=<DatabaseDialect.MYSQL: 'mysql'>)"
      ]
     },
     "execution_count": 2,
     "metadata": {},
     "output_type": "execute_result"
    }
   ],
   "source": [
    "mysql_username = \"root\"\n",
    "mysql_password = \"root\"\n",
    "mysql_tpch_db = \"tpch_db\"\n",
    "mysql_host = \"127.0.0.1\" # I think is the default value (localhost)\n",
    "\n",
    "pydough.active_session.load_metadata_graph(\"../metadata/tpch_demo_graph.json\", \"TPCH\")\n",
    "pydough.active_session.connect_database(\"mysql\", \n",
    "        user=mysql_username,\n",
    "        password=mysql_password,\n",
    "        database=mysql_tpch_db,\n",
    "        host=mysql_host,\n",
    ")"
   ]
  }
 ],
 "metadata": {
  "kernelspec": {
   "display_name": "venv",
   "language": "python",
   "name": "python3"
  },
  "language_info": {
   "codemirror_mode": {
    "name": "ipython",
    "version": 3
   },
   "file_extension": ".py",
   "mimetype": "text/x-python",
   "name": "python",
   "nbconvert_exporter": "python",
   "pygments_lexer": "ipython3",
   "version": "3.13.5"
  }
 },
 "nbformat": 4,
 "nbformat_minor": 5
}
