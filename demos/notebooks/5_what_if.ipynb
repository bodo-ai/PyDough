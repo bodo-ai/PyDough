{
 "cells": [
  {
   "cell_type": "markdown",
   "id": "f13864dd-f6b5-438a-83a6-8cd03c9e3ac3",
   "metadata": {},
   "source": [
    "# Overview\n",
    "\n",
    "This notebook walks through how PyDough can be leveraged to perform \"WHAT-IF\" analysis. At its core, we are typically looking for insights on questions that are much too complex or abstract, such as \"How can we improve sales in Q2?\" As a result, this approach incentivizes faster iteration to rapidly explore various scenarios in the hope of uncovering insights that can resolve our abstract problem. \n",
    "\n",
    "We believe that PyDough is ideal for these types of questions because PyDough can be used to solve common intermediate problems and quickly iterate betwen alterantive versions. Rather than focusing on a single query to answer a question at hand, building components allows more proportional scaling and more easily modifying the scenario. The PyDough team is optimistic that such an approach can make humans more productive and LLMs more accurate.\n",
    "\n",
    "In this notebook we will focus on addressing a single question, but we will illustrate the principles that make such a question convenient for rapid iteration. Towards the end of this notebook, we will then modify this base question in the spirit of \"WHAT-IF\", but this will not be a complete what if analysis. We encourage you to explore new ways to extend this investigation by consulting the [PyDough documentation](../../documentation/usage.md)."
   ]
  },
  {
   "cell_type": "code",
   "execution_count": null,
   "id": "7849d55d-cf82-4fb4-acb9-4a6f257926c9",
   "metadata": {},
   "outputs": [],
   "source": [
    "%load_ext pydough.jupyter_extensions"
   ]
  },
  {
   "cell_type": "code",
   "execution_count": null,
   "id": "32294532-eaba-4a3f-8fd0-acfd5410ea52",
   "metadata": {},
   "outputs": [],
   "source": [
    "import pydough\n",
    "import pandas as pd"
   ]
  },
  {
   "cell_type": "code",
   "execution_count": null,
   "id": "3fa62d04-d363-414b-bed8-d0f0e289e606",
   "metadata": {},
   "outputs": [],
   "source": [
    "# Setup demo metadata\n",
    "pydough.active_session.load_metadata_graph(\"../metadata/tpch_demo_graph.json\", \"TPCH\");\n",
    "pydough.active_session.connect_database(\"sqlite\", database=\"../../tpch.db\");\n",
    "# Avoid scientific notation\n",
    "pd.options.display.float_format = '{:.6f}'.format"
   ]
  },
  {
   "attachments": {},
   "cell_type": "markdown",
   "id": "f0ab9cff-2549-43b4-b044-4ae1029fae97",
   "metadata": {},
   "source": [
    "## Schema Setup\n",
    "\n",
    "For this demo we will be working in TPC-H benchmark schema. The actual data for this benchmark is generated in SQLite using the standard TPC-H data generation tools. The underlying schema of this data matches this example image from [TPC Benchmark H Standard Specification](https://www.tpc.org/tpc_documents_current_versions/pdf/tpc-h_v2.17.1.pdf). For this example we will only be using the **LINEITEM** and **ORDERS** tables.\n",
    "\n",
    "![TPC-H schema from the Specification Document as of December 12, 2024](../images/tpc_h_schema.png)"
   ]
  },
  {
   "cell_type": "markdown",
   "id": "a6b19eac-d793-40a9-b294-bb17bba1fc77",
   "metadata": {},
   "source": [
    "## Problem Statement\n",
    "\n",
    "Let's say that we are focused on identifying **ways to increase revenue in the next calendar year**. One idea that we might have is to explore items that are a very small percentage of a total order price as changes to these items may not have a meaningful impact on the customer but could result in larger revenue aggregate.   \n",
    "\n",
    "As a first scenario, we are going to **identify the 5 lines in our entire order sheet that represent the smallest percentage of their corresponding order's revenue**. \n",
    "\n",
    "Here is a possible SQL query that could we be used to answer this question and in constrast here is the corresponding PyDough."
   ]
  },
  {
   "cell_type": "markdown",
   "id": "8e8cf3e6-0658-43b3-a560-83a107c1b9c5",
   "metadata": {},
   "source": [
    "### SQL\n",
    "\n",
    "```SQL\n",
    "Select\n",
    "    (L_EXTENDED_PRICE * (1 - L_DISCOUNT)) / order_total as revenue_ratio,\n",
    "    orderkey,\n",
    "    l_linenumber as line_number\n",
    "from lines\n",
    "inner join (\n",
    "    select\n",
    "        o_orderkey as order_key,\n",
    "        SUM(L_EXTENDED_PRICE * (1 - L_DISCOUNT)) as order_total\n",
    "    from orders\n",
    "    inner join lines\n",
    "    on l_orderkey = o_orderkey\n",
    "    group by o_orderkey\n",
    ")\n",
    "on l_orderkey = order_key\n",
    "order by revenue_ratio ASC, order_key DESC, line_number DESC\n",
    "LIMIT 5\n",
    "```"
   ]
  },
  {
   "cell_type": "markdown",
   "id": "4e81ec40-f82c-42e6-9656-7f36e619a52a",
   "metadata": {},
   "source": [
    "### PyDough\n",
    "\n",
    "```python\n",
    "revenue_def = extended_price*(1-discount)\n",
    "orders.CALCULATE(total_line_price=SUM(lines.CALCULATE(line_price=revenue_def).line_price)).lines.CALCULATE(\n",
    "    revenue_ratio=revenue_def / total_line_price, \n",
    "    order_key=order_key, \n",
    "    line_number=line_number\n",
    ").TOP_K(5, by=(revenue_ratio.ASC(), order_key.DESC(), line_number.DESC()))\n",
    "```"
   ]
  },
  {
   "cell_type": "markdown",
   "id": "efca5340-6acc-48dd-9287-f3baaabe5239",
   "metadata": {},
   "source": [
    "The example SQL requires a nested subquery to answer, which can easily become complicated and unmanagable as questions scale in size. It also requires explicitly representing the join information where a decision like **LEFT** vs **INNER** join impacts correctness and is a function of the data.\n",
    "\n",
    "In constrast, PyDough has a simpler representation, avoiding some of the redundancy in the SQL code and the join information is encoded entirely in the metadata."
   ]
  },
  {
   "cell_type": "markdown",
   "id": "3228b465-a356-4d5e-9b61-a13b437a8c7f",
   "metadata": {},
   "source": [
    "## PyDough Solution\n",
    "\n",
    "While we can just execute the PyDough example above, we are going to take a different approach to show how one might generate this query in a \"WHAT-IF\" manner. This approach will be a longer solution, but will be helpful to enable faster iteration once we modify the question.\n",
    "\n",
    "We are opting to demonstrate this because:\n",
    "1. We believe this is a good representation for how PyDough can be leveraged to gradually handle increasing question complexity.\n",
    "2. We believe this reflects an investigative approach to query generation, where someone may understand at a high-level what needs to be done, but not necessary that \"path\" to get there.\n",
    "\n",
    "To do this we will first need to define revenue. Here we will say that the revenue is the price information after removing any discounts."
   ]
  },
  {
   "cell_type": "code",
   "execution_count": null,
   "id": "90f77e14-4540-42af-a62e-2ba4e9ae40b9",
   "metadata": {},
   "outputs": [],
   "source": [
    "%%pydough\n",
    "\n",
    "revenue_def = extended_price*(1-discount)"
   ]
  },
  {
   "cell_type": "markdown",
   "id": "c250943d-f018-4b53-b3b0-423c35db5004",
   "metadata": {},
   "source": [
    "This might seem shocking. We have defined `revenue_def` out of nowhere using an `extended_price` and `discount`. What has actually happened here is that we have generated what is called a `Contextless Expression`. This fundamental building block is the key to PyDough's composability.\n",
    "\n",
    "On its own this expression doesn't mean anything. In fact if we inspect this object in regular PyDough we will see that PyDough itself has a lot of questions."
   ]
  },
  {
   "cell_type": "code",
   "execution_count": null,
   "id": "3dc2af81-baa9-45df-9624-a6afca0101b7",
   "metadata": {},
   "outputs": [],
   "source": [
    "revenue_def"
   ]
  },
  {
   "cell_type": "markdown",
   "id": "576f9203-35c0-458a-8860-88615bcade4f",
   "metadata": {},
   "source": [
    "As you see, PyDough now knows that this expression is composed of `extended_price` and `discount`, but it doesn't know **WHICH** `extended_price` and `discount`. To ultimately develop a legal PyDough statement, we will need to bind uses of this expression to a context that can access `extended_price` and `discount`.\n",
    "\n",
    "This might seem very minor, but this allows us to define definitions up front, allowing reuse in vastly different contexts.\n",
    "\n",
    "Now let's use this definition to compute the total revenue."
   ]
  },
  {
   "cell_type": "code",
   "execution_count": null,
   "id": "7899e4b6-3c41-4790-9855-49e46c7144ba",
   "metadata": {},
   "outputs": [],
   "source": [
    "%%pydough\n",
    "\n",
    "total_revenue = SUM(lines.CALCULATE(line_revenue=revenue_def).line_revenue)\n",
    "total_revenue"
   ]
  },
  {
   "cell_type": "markdown",
   "id": "d22eed8e-27a7-4386-872b-80795074bbdf",
   "metadata": {},
   "source": [
    "Now this expression is more meaningful, but it actually still doesn't have a context. If we assign this statement to the global context, our actual TPCH graph, then we can compute the total revenue across all lines."
   ]
  },
  {
   "cell_type": "code",
   "execution_count": null,
   "id": "4da56ff3-c78e-4fd3-9b45-e5962517fa6a",
   "metadata": {},
   "outputs": [],
   "source": [
    "%%pydough\n",
    "\n",
    "pydough.to_df(TPCH.CALCULATE(total_line_revenue=total_revenue))"
   ]
  },
  {
   "cell_type": "markdown",
   "id": "c4d9df49-4d3f-4b01-a868-a5ae1bf97ac3",
   "metadata": {},
   "source": [
    "In practice though, this may not solve our core question. Instead, we may want to apply a different **context**, say for example total_revenue for each order. We can instead represent that as follows."
   ]
  },
  {
   "cell_type": "code",
   "execution_count": null,
   "id": "83b821fc-866b-4116-a38c-2797d2a651a0",
   "metadata": {},
   "outputs": [],
   "source": [
    "%%pydough\n",
    "\n",
    "order_total_price = orders.CALCULATE(order_revenue=total_revenue)\n",
    "pydough.to_df(order_total_price)"
   ]
  },
  {
   "cell_type": "markdown",
   "id": "bfe461f5-f64f-4a37-a840-bc200ca90aa5",
   "metadata": {},
   "source": [
    "Notice that are able to reuse the exact same code, but by swapping the context we can ultimately modify the semantics. This makes testing the underlying behavior much more scalable. To ask is this statement correct, we can instead compose our question to ask:\n",
    "* Is this underlying expression correct?\n",
    "* Is this context correct?\n",
    "\n",
    "Since these can be verify independently, we can develop greater confidence in our question since it arises from composable building blocks. We could also generate selected contexts to build clear testing. Here we show reusing the same code but with a selection of 5 lines. If we instead provide a testing context it could be done without any code rewrite"
   ]
  },
  {
   "cell_type": "code",
   "execution_count": null,
   "id": "db103386-dbac-41d1-98ef-3facbc4d466e",
   "metadata": {},
   "outputs": [],
   "source": [
    "%%pydough\n",
    "# Compute the sum of the first 5 line numbers, which can be known for testing.\n",
    "top_five_lines = lines.TOP_K(5, by=(line_number.ASC(), order_key.ASC()))\n",
    "top_five_line_price = TPCH.CALCULATE(total_line_revenue=SUM(top_five_lines.CALCULATE(line_revenue=revenue_def).line_revenue))\n",
    "pydough.to_df(top_five_line_price)"
   ]
  },
  {
   "cell_type": "markdown",
   "id": "23e6c569-fc61-4338-ad28-ddbe20aa3b88",
   "metadata": {},
   "source": [
    "Now let's return to extending our question. Building able to compute order sums is great, but we care about results per line. As a result, now we can even extend our orders to an additional context within lines. We will once again define more defintions. Our ratio definition will now ask us to propagate our previous `order_revenue` that we computed (down-streamed from an ancestor context) and compare it to the result of `revenue_def`."
   ]
  },
  {
   "cell_type": "code",
   "execution_count": null,
   "id": "037addf9-36ed-440d-b99e-980a43f21303",
   "metadata": {},
   "outputs": [],
   "source": [
    "%%pydough\n",
    "\n",
    "ratio = revenue_def / order_revenue"
   ]
  },
  {
   "cell_type": "markdown",
   "id": "12ca1882-91f3-4da2-aa01-94212a67c750",
   "metadata": {},
   "source": [
    "Now we will build our final question by moving from the context of the orders to the context of orders and lines together. Since Orders -> Lines is a One to Many relationship, this places us in the context of lines with some additional information.\n",
    "\n",
    "For actually fully solving our prior question, we will compute the ratio and then select 5 smallest ratio value, breaking ties with a combination of the order number and line number."
   ]
  },
  {
   "cell_type": "code",
   "execution_count": null,
   "id": "2fc83a46-75e9-4be0-af7d-c9d0ec66eeb2",
   "metadata": {},
   "outputs": [],
   "source": [
    "%%pydough\n",
    "\n",
    "line_ratios = order_total_price.lines.CALCULATE(revenue_ratio=ratio, order_key=order_key, line_number=line_number)\n",
    "lowest_ratios = line_ratios.TOP_K(5, by=(revenue_ratio.ASC(), order_key.DESC(), line_number.DESC()))"
   ]
  },
  {
   "cell_type": "code",
   "execution_count": null,
   "id": "cbe9b58c-d5cf-4803-9db2-066171467d05",
   "metadata": {},
   "outputs": [],
   "source": [
    "pydough.to_df(lowest_ratios)"
   ]
  },
  {
   "cell_type": "markdown",
   "id": "54e9b245-fb64-4f80-a1bd-4bd5f818823a",
   "metadata": {},
   "source": [
    "Now we have resolved to solution to our underlying question. We can save this result to a Python variable, as the output is already a Pandas DataFrame."
   ]
  },
  {
   "cell_type": "markdown",
   "id": "5b3e9945-fe9d-4292-bc3d-371b278f77e6",
   "metadata": {},
   "source": [
    "## Additional Exploration\n",
    "\n",
    "A natural followup question is to try understand how we can leverage our previous work into followup questions. One option would be to do a deeper dive into the parts that represent these orders, but first let's consider the opposite, where we want to instead look at the items that are the largest percentage of orders. Perhaps rather than raising the price on existing products we should be determining how to design new additions to products."
   ]
  },
  {
   "cell_type": "code",
   "execution_count": null,
   "id": "4719a0de-3315-4520-8f37-25dc69538a34",
   "metadata": {},
   "outputs": [],
   "source": [
    "%%pydough\n",
    "\n",
    "highest_ratios = line_ratios.TOP_K(5, by=(revenue_ratio.DESC(), order_key.DESC(), line_number.DESC()))\n",
    "pydough.to_df(highest_ratios)"
   ]
  },
  {
   "cell_type": "markdown",
   "id": "4c685db8-3c1a-4d5f-a596-9f4c4646cba5",
   "metadata": {},
   "source": [
    "While we could quickly reach our solution, one problem that we encounter is that the items with the highest ratio are all single item purchases. This is one clear direction we can explore, but it may also include a lot of small cost items that are purchased individually.\n",
    "\n",
    "Here let's expand our scenario by asking **what if we only consider the lines that are part of orders with more than 3 lines**? We can do this by just extending many of our existing definitions and adding a filter on the number of lines"
   ]
  },
  {
   "cell_type": "code",
   "execution_count": null,
   "id": "d30b209a-9737-4835-8356-5430c8f3d6b0",
   "metadata": {},
   "outputs": [],
   "source": [
    "%%pydough\n",
    "\n",
    "total_lines = COUNT(lines)\n",
    "order_total_price = orders.CALCULATE(order_revenue=total_revenue, line_count=total_lines)\n",
    "line_ratios = order_total_price.lines.CALCULATE(\n",
    "    revenue_ratio=ratio, \n",
    "    line_count=line_count, \n",
    "    order_key=order_key, \n",
    "    line_number=line_number\n",
    ")\n",
    "filtered_ratios = line_ratios.WHERE(line_count > 3).CALCULATE(revenue_ratio, order_key, line_number)"
   ]
  },
  {
   "cell_type": "markdown",
   "id": "b0cd998c-92cd-49a3-8f9b-a5172366954d",
   "metadata": {},
   "source": [
    "Now that we have our filtered results, we can once again compute our ratios. This should allow us to test our hypothesis that we can should explore additional parts for these \"big-ticket\" items."
   ]
  },
  {
   "cell_type": "code",
   "execution_count": null,
   "id": "367f5836-0759-43f1-837a-54e2f9a812c4",
   "metadata": {},
   "outputs": [],
   "source": [
    "%%pydough\n",
    "\n",
    "highest_ratios = filtered_ratios.TOP_K(\n",
    "    5, by=(revenue_ratio.DESC(), order_key.DESC(), line_number.DESC())\n",
    ")\n",
    "pydough.to_df(highest_ratios)"
   ]
  },
  {
   "cell_type": "markdown",
   "id": "1895880e-ddc5-4266-a57e-0a0ee93311fd",
   "metadata": {},
   "source": [
    "We have now successfully started extending our exploration and are free to tackle any number of followup questions, such as diving into the parts that fulfill these orders or considering different order sizes. Contrast this with the approach we would need to take with a SQL query would requires either modifying our past work or copying the results and repeating the logic, which may evolve over time.\n",
    "\n",
    "We encourage you to explore extending this notebook to examine additional ways in which PyDough can facilitate rapid \"WHAT-IF\" analysis."
   ]
  }
 ],
 "metadata": {
  "kernelspec": {
   "display_name": "Python 3 (ipykernel)",
   "language": "python",
   "name": "python3"
  },
  "language_info": {
   "codemirror_mode": {
    "name": "ipython",
    "version": 3
   },
   "file_extension": ".py",
   "mimetype": "text/x-python",
   "name": "python",
   "nbconvert_exporter": "python",
   "pygments_lexer": "ipython3",
   "version": "3.11.9"
  }
 },
 "nbformat": 4,
 "nbformat_minor": 5
}
