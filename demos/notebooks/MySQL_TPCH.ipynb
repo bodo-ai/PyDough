{
 "cells": [
  {
   "cell_type": "markdown",
   "id": "d68a35f7",
   "metadata": {},
   "source": [
    "# MYSQL Database connector"
   ]
  },
  {
   "cell_type": "markdown",
   "id": "2c0514f5",
   "metadata": {},
   "source": [
    "Before running this notebook make sure the MySQL Python Connector is installed \n",
    "TODO: Add an examples of how to install it\n",
    "TODO: Mention the environment variables are needed in order to connect to the mysql TPCH docker imagen"
   ]
  },
  {
   "cell_type": "markdown",
   "id": "c5fdee2c",
   "metadata": {},
   "source": [
    "## Imports"
   ]
  },
  {
   "cell_type": "code",
   "execution_count": 1,
   "id": "5efa624d",
   "metadata": {},
   "outputs": [],
   "source": [
    "import pydough\n",
    "import os"
   ]
  },
  {
   "cell_type": "markdown",
   "id": "f19bda7f",
   "metadata": {},
   "source": [
    "## Loading credencials and connecting to MySQL"
   ]
  },
  {
   "cell_type": "code",
   "execution_count": 2,
   "id": "7ce93d4a",
   "metadata": {},
   "outputs": [
    {
     "data": {
      "text/plain": [
       "DatabaseContext(connection=<pydough.database_connectors.database_connector.DatabaseConnection object at 0x10c18e710>, dialect=<DatabaseDialect.MYSQL: 'mysql'>)"
      ]
     },
     "execution_count": 2,
     "metadata": {},
     "output_type": "execute_result"
    }
   ],
   "source": [
    "mysql_username = os.getenv(\"MYSQL_USERNAME\")\n",
    "mysql_password = os.getenv(\"MYSQL_PASSWORD\")\n",
    "mysql_tpch_db = os.getenv(\"MYSQL_DB\")\n",
    "mysql_host = os.getenv(\"MYSQL_HOST\")\n",
    "\n",
    "pydough.active_session.load_metadata_graph(\"../../tests/test_metadata/sample_graphs.json\", \"TPCH\")\n",
    "pydough.active_session.connect_database(\"mysql\", \n",
    "        user=mysql_username,\n",
    "        password=mysql_password,\n",
    "        database=mysql_tpch_db,\n",
    "        host=mysql_host,\n",
    ")"
   ]
  },
  {
   "cell_type": "code",
   "execution_count": 3,
   "id": "eabc0577",
   "metadata": {},
   "outputs": [],
   "source": [
    "%load_ext pydough.jupyter_extensions"
   ]
  },
  {
   "cell_type": "code",
   "execution_count": 6,
   "id": "1581aa56",
   "metadata": {},
   "outputs": [
    {
     "data": {
      "text/html": [
       "<div>\n",
       "<style scoped>\n",
       "    .dataframe tbody tr th:only-of-type {\n",
       "        vertical-align: middle;\n",
       "    }\n",
       "\n",
       "    .dataframe tbody tr th {\n",
       "        vertical-align: top;\n",
       "    }\n",
       "\n",
       "    .dataframe thead th {\n",
       "        text-align: right;\n",
       "    }\n",
       "</style>\n",
       "<table border=\"1\" class=\"dataframe\">\n",
       "  <thead>\n",
       "    <tr style=\"text-align: right;\">\n",
       "      <th></th>\n",
       "      <th>name</th>\n",
       "    </tr>\n",
       "  </thead>\n",
       "  <tbody>\n",
       "    <tr>\n",
       "      <th>0</th>\n",
       "      <td>Customer#000000001</td>\n",
       "    </tr>\n",
       "    <tr>\n",
       "      <th>1</th>\n",
       "      <td>Customer#000000002</td>\n",
       "    </tr>\n",
       "    <tr>\n",
       "      <th>2</th>\n",
       "      <td>Customer#000000003</td>\n",
       "    </tr>\n",
       "    <tr>\n",
       "      <th>3</th>\n",
       "      <td>Customer#000000004</td>\n",
       "    </tr>\n",
       "    <tr>\n",
       "      <th>4</th>\n",
       "      <td>Customer#000000005</td>\n",
       "    </tr>\n",
       "  </tbody>\n",
       "</table>\n",
       "</div>"
      ],
      "text/plain": [
       "                 name\n",
       "0  Customer#000000001\n",
       "1  Customer#000000002\n",
       "2  Customer#000000003\n",
       "3  Customer#000000004\n",
       "4  Customer#000000005"
      ]
     },
     "execution_count": 6,
     "metadata": {},
     "output_type": "execute_result"
    }
   ],
   "source": [
    "%%pydough\n",
    "# TPCH Q1\n",
    "output = ( customers.CALCULATE(\n",
    "    name\n",
    ").TOP_K(5, by=name)\n",
    ")\n",
    "\n",
    "pydough.to_df(output)"
   ]
  }
 ],
 "metadata": {
  "kernelspec": {
   "display_name": ".venv",
   "language": "python",
   "name": "python3"
  },
  "language_info": {
   "codemirror_mode": {
    "name": "ipython",
    "version": 3
   },
   "file_extension": ".py",
   "mimetype": "text/x-python",
   "name": "python",
   "nbconvert_exporter": "python",
   "pygments_lexer": "ipython3",
   "version": "3.13.5"
  }
 },
 "nbformat": 4,
 "nbformat_minor": 5
}
