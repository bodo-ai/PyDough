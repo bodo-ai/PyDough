{
 "cells": [
  {
   "cell_type": "markdown",
   "id": "0c8f7ee9-40ec-48d7-a763-1d51ff503c5b",
   "metadata": {},
   "source": [
    "# PyDough Operations\n",
    "\n",
    "This notebook aims to provide an overview of the various builtin PyDough operations. We do not intend for this to be exhaustive and especially the functions listed are not complete, but we believe these operations can act as a foundation for getting started."
   ]
  },
  {
   "cell_type": "code",
   "execution_count": null,
   "id": "0a2eb068-60ab-48ef-8332-4876d8d53c87",
   "metadata": {},
   "outputs": [],
   "source": [
    "%load_ext pydough.jupyter_extensions\n",
    "\n",
    "import pydough\n",
    "# Setup demo metadata\n",
    "pydough.active_session.load_metadata_graph(\"../metadata/tpch_demo_graph.json\", \"TPCH\");\n",
    "pydough.active_session.connect_database(\"sqlite\", database=\"../../tpch.db\");"
   ]
  },
  {
   "cell_type": "markdown",
   "id": "f28e0b68-333d-4e40-bc97-286806656564",
   "metadata": {},
   "source": [
    "## Collections\n",
    "\n",
    "A collection in PyDough is an abstraction for any \"document\", but in most cases represents a table. Starting with the TPC-H schema, if we want to access the regions table, we will use our corresponding PyDough collection."
   ]
  },
  {
   "cell_type": "code",
   "execution_count": null,
   "id": "04886bb9-e46f-424a-8437-fd62ff368d31",
   "metadata": {},
   "outputs": [],
   "source": [
    "%%pydough\n",
    "\n",
    "print(pydough.to_sql(regions))\n",
    "pydough.to_df(regions)"
   ]
  },
  {
   "cell_type": "markdown",
   "id": "d1ffa88a-1c44-49e3-8691-205ef30781ed",
   "metadata": {},
   "source": [
    "Collections contain properties, which either correspond to the entries within a document or a sub collection (another document that can be reached from the current document). This is explored in more detail in our notebook on metadata, but what is important to understand is that the path between collections is how we integrate data across multiple tables.\n",
    "\n",
    "For example, each region is associated with 1 or more nations, so rather than just looking at the region we can look at \"each nation for each region\". This will result in outputting 1 entry per nation."
   ]
  },
  {
   "cell_type": "code",
   "execution_count": null,
   "id": "b1a70fd7-bc94-44a6-8616-187ce471031d",
   "metadata": {},
   "outputs": [],
   "source": [
    "%%pydough\n",
    "\n",
    "print(pydough.to_sql(regions.nations))\n",
    "pydough.to_df(regions.nations)"
   ]
  },
  {
   "cell_type": "markdown",
   "id": "a911b535-b580-41d1-8679-9eca40303431",
   "metadata": {},
   "source": [
    "Notice how in the generated SQL we create a join between `region` and `nation`. The metadata holds this relationship, effectively abstracting joins away from the developer whenever possible."
   ]
  },
  {
   "cell_type": "markdown",
   "id": "a25a2965-4f88-4626-b326-caf931fdba9c",
   "metadata": {},
   "source": [
    "## Calc\n",
    "\n",
    "The next important operation is the `CALC` operation, which is used by \"calling\" a collection as a function."
   ]
  },
  {
   "cell_type": "code",
   "execution_count": null,
   "id": "5ea63942-d894-4bd8-9003-68f0be812f2c",
   "metadata": {},
   "outputs": [],
   "source": [
    "%%pydough\n",
    "\n",
    "pydough.to_sql(nations(key))"
   ]
  },
  {
   "cell_type": "markdown",
   "id": "f89da4ca-5493-493f-bfe3-41d8a5f5d2a1",
   "metadata": {},
   "source": [
    "Calc has a few purposes:\n",
    "* Select which entries you want in the output.\n",
    "* Define new fields by calling functions.\n",
    "* Allow operations to be evaluated for each entry in the outermost collection's \"context\"."
   ]
  },
  {
   "cell_type": "code",
   "execution_count": null,
   "id": "c658d7ec-af49-4a06-b487-424d6d7a6603",
   "metadata": {},
   "outputs": [],
   "source": [
    "%%pydough\n",
    "\n",
    "pydough.to_sql(nations(key + 1))"
   ]
  },
  {
   "cell_type": "markdown",
   "id": "24031aa2-1df7-441d-b487-aa093b852504",
   "metadata": {},
   "source": [
    "Here the context is the \"nations\" at the root of the graph. This means that for each entry within nations, we compute the result. This has important implications for when we get to more complex expressions. For example, if we want to know how many nations we have stored in each region, we can do via CALC."
   ]
  },
  {
   "cell_type": "code",
   "execution_count": null,
   "id": "6b361449-4072-4e76-831f-bc2428337111",
   "metadata": {},
   "outputs": [],
   "source": [
    "%%pydough\n",
    "\n",
    "pydough.to_df(regions(name, nation_count=COUNT(nations)))"
   ]
  },
  {
   "cell_type": "markdown",
   "id": "d86928a1-7ff2-4a38-8e47-54d89b43cd27",
   "metadata": {},
   "source": [
    "Internally, this process evaluates `COUNT(nations)` grouped on each region and then joining the result with the original `regions` table. Importantly, this outputs a \"scalar\" value for each region.\n",
    "\n",
    "This shows a very important restriction of CALC, each final entry in a calc expression must be scalar with respect to a current context. For example, the expression `regions(region_name=name, nation_name=nations.name)` is not legal because region and nation is a one to many relationship, so there is not a single nation name for each region. \n",
    "\n",
    "**The cell below will result in an error because it violates this restriction.**"
   ]
  },
  {
   "cell_type": "code",
   "execution_count": null,
   "id": "e5c462db-afaf-401c-9d54-c2c3c49d594e",
   "metadata": {},
   "outputs": [],
   "source": [
    "%%pydough\n",
    "\n",
    "pydough.to_df(regions(region_name=name, nation_name=nations.name))"
   ]
  },
  {
   "cell_type": "markdown",
   "id": "854455ec-5f75-4389-967b-17d9c54d219f",
   "metadata": {},
   "source": [
    "In contrast, we know that every nation has 1 region (and this is defined in the metadata). As a result the alternative expression, `nations(nation_name=name, region_name=region.name)` is legal."
   ]
  },
  {
   "cell_type": "code",
   "execution_count": null,
   "id": "1c14e6a7-1d0d-4cad-bc2c-4ab2b152beda",
   "metadata": {},
   "outputs": [],
   "source": [
    "%%pydough\n",
    "\n",
    "pydough.to_df(nations(nation_name=name, region_name=region.name))"
   ]
  },
  {
   "cell_type": "markdown",
   "id": "b02b9a4f-1038-4b8d-9078-4bc0261b760c",
   "metadata": {},
   "source": [
    "This illustrates one of the important properties of the metadata, defining one:one, many:one, one:many, and many:many relationships can allow developers the flexiblity to write simpler queries."
   ]
  },
  {
   "cell_type": "markdown",
   "id": "70d2c6b9-0a7a-48e2-9323-a6690855c939",
   "metadata": {},
   "source": [
    "### Functions\n",
    "\n",
    "PyDough has support for many builtin functions. Whenever possible we try and support standard Python operators. However, this is not completely possible. In addition, to avoid namespace conflicts, for functions that require regular function call semantics we use all capitalization by convention. Here are some examples."
   ]
  },
  {
   "cell_type": "code",
   "execution_count": null,
   "id": "1d64f52b-3726-48ee-bd3e-20954cae931b",
   "metadata": {},
   "outputs": [],
   "source": [
    "%%pydough\n",
    "\n",
    "# Numeric operations\n",
    "print(pydough.to_sql(nations(key + 1, key - 1, key * 1, key / 1)))\n",
    "\n",
    "# Comparison operators\n",
    "print(pydough.to_sql(nations(key == 0, key < 0, key != 0, key >= 5)))\n",
    "\n",
    "# String Operations\n",
    "print(pydough.to_sql(nations(LENGTH(name), UPPER(name), LOWER(name), STARTSWITH(name, \"A\"))))\n",
    "\n",
    "# Boolean operations\n",
    "print(pydough.to_sql(nations((key != 1) & (LENGTH(name) > 5)))) # Boolean AND\n",
    "print(pydough.to_sql(nations((key != 1) | (LENGTH(name) > 5)))) # Boolean OR\n",
    "print(pydough.to_sql(nations(~(LENGTH(name) > 5)))) # Boolean NOT          \n",
    "print(pydough.to_sql(nations(ISIN(name, (\"KENYA\", \"JAPAN\"))))) # In\n",
    "\n",
    "# Datetime Operations\n",
    "# Note: Since this is based on SQL lite the underlying date is a bit strange.\n",
    "print(pydough.to_sql(lines(YEAR(ship_date), MONTH(ship_date), DAY(ship_date),HOUR(ship_date),MINUTE(ship_date),SECOND(ship_date))))\n",
    "\n",
    "# Aggregation operations\n",
    "print(pydough.to_sql(TPCH(NDISTINCT(nations.comment), SUM(nations.key))))\n",
    "# Count can be used on a column for non-null entries or a collection\n",
    "# for total entries.\n",
    "print(pydough.to_sql(TPCH(COUNT(nations), COUNT(nations.comment))))"
   ]
  },
  {
   "cell_type": "markdown",
   "id": "4d626691-df45-4cc6-9d6d-e4cb3c1ce3f6",
   "metadata": {},
   "source": [
    "#### Limitations\n",
    "\n",
    "There are a few limitations with regular Python. Most notably:\n",
    "* You cannot use Python's builtin `and`, `or`, `not`, or `in` with PyDough expressions.\n",
    "* We do not support chained comparisons (e.g. `2 < x < 5`).\n",
    "* We only support Python literals that are `integers`, `floats`, `strings`, `datetime.date`, or a `tuple`/`list` of those supported types.\n",
    "* Lists and tuples can only be used with `ISIN`."
   ]
  },
  {
   "cell_type": "markdown",
   "id": "b70993e8-3cd2-4c45-87e3-8e68f67b92a0",
   "metadata": {},
   "source": [
    "### BACK\n",
    "\n",
    "Sometimes you need to load a value from a previous context to use at a later step in a PyDough statement. That can be done using the `BACK` operation. This step moves back `k` steps to find the name you are searching for. This is useful to avoid repeating computation."
   ]
  },
  {
   "cell_type": "code",
   "execution_count": null,
   "id": "faa320b6-cedf-4af0-8896-5e8ad63f33e5",
   "metadata": {},
   "outputs": [],
   "source": [
    "%%pydough\n",
    "\n",
    "pydough.to_df(regions.nations(region_name=BACK(1).name, nation_name=name))"
   ]
  },
  {
   "cell_type": "markdown",
   "id": "6040a7c5-fc82-4e33-8b2b-a1b3ef394f71",
   "metadata": {},
   "source": [
    "Here is a more complex example showing intermediate values. Here we will first compute `total_value` and then reuse it via `BACK`."
   ]
  },
  {
   "cell_type": "code",
   "execution_count": null,
   "id": "45953043-bc30-42cc-bd8e-c4da371f1755",
   "metadata": {},
   "outputs": [],
   "source": [
    "%%pydough\n",
    "\n",
    "nations_value = nations(name, total_value=SUM(suppliers.account_balance))\n",
    "pydough.to_df(nations_value)"
   ]
  },
  {
   "cell_type": "code",
   "execution_count": null,
   "id": "bd935638-0c81-4060-9271-a717280b0f97",
   "metadata": {},
   "outputs": [],
   "source": [
    "%%pydough\n",
    "suppliers_value = nations_value.suppliers(\n",
    " key,\n",
    " name,\n",
    " nation_name=BACK(1).name,\n",
    " account_balance=account_balance,\n",
    " percentage_of_national_value=100 * account_balance / BACK(1).total_value\n",
    ")\n",
    "top_suppliers = suppliers_value.TOP_K(20, by=percentage_of_national_value.DESC())\n",
    "pydough.to_df(top_suppliers)"
   ]
  },
  {
   "cell_type": "markdown",
   "id": "5be9616e-4eb4-430a-b949-1295c330136c",
   "metadata": {},
   "source": [
    "## WHERE\n",
    "\n",
    "The WHERE operation by be used to filter unwanted entries in a context. For example, we can filter `nations` to only consider the `AMERICA` and `EUROPE` regions. A WHERE's context functions similarly to a calc except that it cannot be used to assign new properties. "
   ]
  },
  {
   "cell_type": "code",
   "execution_count": null,
   "id": "b05cd1db-b050-4ee2-8327-882ad89e2a07",
   "metadata": {},
   "outputs": [],
   "source": [
    "%%pydough\n",
    "\n",
    "pydough.to_df(nations.WHERE((region.name == \"AMERICA\") | (region.name == \"EUROPE\")))"
   ]
  },
  {
   "cell_type": "markdown",
   "id": "d91e6ab7-bc7a-4c5b-8264-f7e46ded2c4a",
   "metadata": {},
   "source": [
    "## TOP_K\n",
    "\n",
    "The TOP K operation is used to reduce a collection to maximum number of values. The `by` arugument is used to order the output based on a sorting condition. As an example, consider this query to only calculate the first 5 nations by alphabetical name order."
   ]
  },
  {
   "cell_type": "code",
   "execution_count": null,
   "id": "a02a00e9-7df8-431d-8fe8-ec3ae42fbf4a",
   "metadata": {},
   "outputs": [],
   "source": [
    "%%pydough\n",
    "\n",
    "pydough.to_df(nations.TOP_K(5, by=name.ASC()))"
   ]
  },
  {
   "cell_type": "markdown",
   "id": "da15de47-1a56-4130-b801-56ad6eba9de7",
   "metadata": {},
   "source": [
    "The `by` argument requirements are:\n",
    "* Anything that can be an expression used in a `CALC` or a `WHERE` can be used a component of a `by`.\n",
    "* The value in the `by` must end with either `.ASC()` or `.DESC()`\n",
    "\n",
    "You can also provide a tuple to by if you need to break ties. Consider this alternatives that instead selects the 20 parts with the largest size, starting with the smallest part id."
   ]
  },
  {
   "cell_type": "code",
   "execution_count": null,
   "id": "27d13368-8265-4a33-99a3-b6724f8c54de",
   "metadata": {},
   "outputs": [],
   "source": [
    "%%pydough\n",
    "\n",
    "pydough.to_df(parts.TOP_K(20, by=(size.DESC(), key.ASC())))"
   ]
  },
  {
   "cell_type": "markdown",
   "id": "9e4a1458-d52e-4970-955b-35ed1ec29cc7",
   "metadata": {},
   "source": [
    "## ORDER_BY\n",
    "\n",
    "If you just want to return your output in a sorted order, you can use `ORDER_BY`. The functionality is the same as in `TOP_K` except that there is no `K` argument so the rows are not reduced. Each argument must be an expression that can be used for sorting.\n",
    "\n",
    "Below can transform our nations collection to sort the output by the alphabetical ordering of the nation names."
   ]
  },
  {
   "cell_type": "code",
   "execution_count": null,
   "id": "840ccde6-3e32-46db-9b97-a15507427f33",
   "metadata": {},
   "outputs": [],
   "source": [
    "%%pydough\n",
    "\n",
    "pydough.to_df(nations.ORDER_BY(name.ASC()))"
   ]
  },
  {
   "cell_type": "markdown",
   "id": "ed9922ec-8021-4664-a0ed-f32520e0e4a5",
   "metadata": {},
   "source": [
    "## PARTITION\n",
    "\n",
    "The partition operation allows grouping collections under interesting keys similar to a SQL `GROUP BY`. Keys can be specified using the `by` argument and data columns to be aggregated can be referenced using the name argument. For example, we can use this to bucket nations by name length."
   ]
  },
  {
   "cell_type": "code",
   "execution_count": null,
   "id": "274824ca-5d54-43df-b18a-dbdd50aaa472",
   "metadata": {},
   "outputs": [],
   "source": [
    "%%pydough\n",
    "\n",
    "updated_nations = nations(key, name_length=LENGTH(name))\n",
    "grouped_nations = PARTITION(\n",
    "    updated_nations, name=\"n\", by=(name_length)\n",
    ")(\n",
    "    name_length,\n",
    "    nation_count=COUNT(n.key)\n",
    ")\n",
    "pydough.to_df(grouped_nations)"
   ]
  },
  {
   "cell_type": "markdown",
   "id": "f1043412-75c0-4535-a935-894cb83d30e2",
   "metadata": {},
   "source": [
    "A couple important usage details:\n",
    "* The `name` argument specifies the name of the subcollection access from the partitions to the original unpartitioned data.\n",
    "* `keys` can be either be a single expression or a tuple of them, but it can only be references to expressions that already exist in the context of the data (e.g. `name`, not `LOWER(name)` or `region.name`)\n",
    "* `BACK` should be used to step back into the partition child without retaining the partitioning. An example is shown below where we select brass european parts but only with the minimum supply cost."
   ]
  },
  {
   "cell_type": "code",
   "execution_count": null,
   "id": "c8514760-7c58-440b-82ee-773b0564b43f",
   "metadata": {},
   "outputs": [],
   "source": [
    "%%pydough\n",
    "\n",
    "selected_parts = parts.WHERE(ENDSWITH(part_type, \"BRASS\") & (size == 15))\n",
    "part_types = PARTITION(selected_parts, name=\"p\", by=part_type)(avg_price=AVG(p.retail_price))\n",
    "output = part_types.p.WHERE(retail_price < BACK(1).avg_price)\n",
    "pydough.to_df(output)"
   ]
  },
  {
   "cell_type": "markdown",
   "id": "981d2c0b-03ff-408a-b2d8-d68e2336da48",
   "metadata": {},
   "source": [
    "## HAS and HASNOT\n",
    "\n",
    "The `HAS` and `HASNOT` operations are used for filtering based on if any match occurs between an entry and another collection. For example, consider consider only regions that have at least 1 nation whose name is length > 10."
   ]
  },
  {
   "cell_type": "code",
   "execution_count": null,
   "id": "e0358f83-2bb7-448a-bf50-2075e3e14de5",
   "metadata": {},
   "outputs": [],
   "source": [
    "%%pydough\n",
    "\n",
    "length_10_nations = nations.WHERE(LENGTH(name) > 10)\n",
    "pydough.to_df(regions.WHERE(HAS(length_10_nations)))"
   ]
  },
  {
   "cell_type": "markdown",
   "id": "1e888a5e-9ad9-45ba-a080-585154673057",
   "metadata": {},
   "source": [
    "Alternatively we can only consider regions where all of its nations names of length 10 or less."
   ]
  },
  {
   "cell_type": "code",
   "execution_count": null,
   "id": "948fb323-4e03-411c-9792-ead8597cbc6c",
   "metadata": {},
   "outputs": [],
   "source": [
    "%%pydough\n",
    "\n",
    "pydough.to_df(regions.WHERE(HASNOT(length_10_nations)))"
   ]
  },
  {
   "cell_type": "code",
   "execution_count": null,
   "id": "d8bc6bea-52cf-4a0f-b11d-45bebe54cf7a",
   "metadata": {},
   "outputs": [],
   "source": []
  }
 ],
 "metadata": {
  "kernelspec": {
   "display_name": "Python 3 (ipykernel)",
   "language": "python",
   "name": "python3"
  },
  "language_info": {
   "codemirror_mode": {
    "name": "ipython",
    "version": 3
   },
   "file_extension": ".py",
   "mimetype": "text/x-python",
   "name": "python",
   "nbconvert_exporter": "python",
   "pygments_lexer": "ipython3",
   "version": "3.12.7"
  }
 },
 "nbformat": 4,
 "nbformat_minor": 5
}
