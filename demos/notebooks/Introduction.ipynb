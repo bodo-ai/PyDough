{
 "cells": [
  {
   "cell_type": "markdown",
   "id": "f1fd4015-5281-4f56-bf88-5db4a8de93e0",
   "metadata": {},
   "source": [
    "# Introduction\n",
    "\n",
    "Welcome to the PyDough demos. This notebook is intended to explain the structure of the PyDough notebook\n",
    "and the fundamental operations. Depending on where you are executing this notebook, some of the setup steps may already be done for you."
   ]
  },
  {
   "cell_type": "markdown",
   "id": "3042b7ae-8eb7-4147-b00f-7e2d54f8c3fa",
   "metadata": {},
   "source": [
    "## Importing PyDough\n",
    "\n",
    "The first step to working in PyDough is that every notebook must `import pydough`. This will be essential for all future operations."
   ]
  },
  {
   "cell_type": "code",
   "execution_count": 1,
   "id": "0850592d-e6eb-4905-8291-21056617fc74",
   "metadata": {},
   "outputs": [],
   "source": [
    "import pydough"
   ]
  },
  {
   "cell_type": "markdown",
   "id": "e7dfb2db-191d-4dac-8b88-76aea581f167",
   "metadata": {},
   "source": [
    "## Metadata Setup\n",
    "\n",
    "When working with PyDough, metadata information is essential to analytics experience. For these demos we will provide all metadata for you, but future demos may walk through the metadata creation process. A followup notebook will provide you a deeper look into the inner workings of the metadata.\n",
    "\n",
    "To setup the metadata, the PyDough `active_session`. This is a simple class to encapsulate configuration information. To attach our metadata graph, we can use: `pydough.active_session.load_metadata_graph(filename, graphname)`"
   ]
  },
  {
   "cell_type": "code",
   "execution_count": 2,
   "id": "1550f057-7a73-471c-a312-510e6d946ee7",
   "metadata": {},
   "outputs": [],
   "source": [
    "pydough.active_session.load_metadata_graph(\"../metadata/tpch_demo_graph.json\", \"TPCH\");"
   ]
  },
  {
   "cell_type": "markdown",
   "id": "23c73480-8651-49e6-be9f-578febfccfd8",
   "metadata": {},
   "source": [
    "Now our PyDough graph is loaded, so we can construct PyDough expressions to refer the relationships defined by this graph. This graph is a metadata representation of the standard TPC-H schema often used for benchmarking. We won't dive into the details of the relationships for this notebook, but note that it is able to reference the tables involved and move between them based on their standard join key relationships, although the names may be different."
   ]
  },
  {
   "cell_type": "markdown",
   "id": "a016516c-7d30-4c97-9dba-604a33fa220c",
   "metadata": {},
   "source": [
    "## Jupyter Extension\n",
    "\n",
    "To actually execute PyDough we have written a Jupyter extension to allow defining cells that contain PyDough expressions which are not valid Python. For example, now that the metadata is loaded, you are able to directly refer to `Nations`, but this is not valid Python syntax.\n",
    "\n",
    "To enable PyDough, we have therefore defined our own Jupyter cell magic, `%%pydough`. When used, the body of any cell will be converted to a PyDough expression based on name resolution between the regular Python variables and then secondarily the metadata. In the future we intend for this to be a cell drop down option that will automatically append this magic to the relevant cells, but for now we feel this accurate represents the \"feel\" of working in PyDough.\n",
    "\n",
    "*Note*: If running outside our demo setup you may need to execute the following steps to enable extension.\n",
    "\n",
    "```\n",
    "import pydough_jupyter_extensions\n",
    "%load_ext pydough_jupyter_extensions\n",
    "```"
   ]
  },
  {
   "cell_type": "code",
   "execution_count": 3,
   "id": "db20909e-33c1-4c27-9dce-54afbd44b38f",
   "metadata": {},
   "outputs": [],
   "source": [
    "%load_ext pydough_jupyter_extensions"
   ]
  },
  {
   "cell_type": "markdown",
   "id": "0e3605f6-7e43-4bb8-bdbf-a2774cee07be",
   "metadata": {},
   "source": [
    "Now we can define our access to nations, where we may only want to load the key."
   ]
  },
  {
   "cell_type": "code",
   "execution_count": 4,
   "id": "81891b2c-8bc8-44d0-9e33-c80f5202c4c6",
   "metadata": {},
   "outputs": [
    {
     "data": {
      "text/plain": [
       "?.nations(key=?.key, name=?.name)"
      ]
     },
     "execution_count": 4,
     "metadata": {},
     "output_type": "execute_result"
    }
   ],
   "source": [
    "%%pydough\n",
    "\n",
    "nations(key, name)"
   ]
  },
  {
   "cell_type": "markdown",
   "id": "10534caa-9d2f-47d1-8093-d2988a502484",
   "metadata": {},
   "source": [
    "As you can see, this step resolved without any Python errors. However, this isn't actually useful because we can't use this result anywhere. Instead, we can assign this result to a Python variable to make it accessible in future cells, whether they are Python cells more PyDough cells."
   ]
  },
  {
   "cell_type": "code",
   "execution_count": 5,
   "id": "475883eb-97ee-46c2-bc87-450e8930412b",
   "metadata": {},
   "outputs": [],
   "source": [
    "%%pydough\n",
    "\n",
    "nation_keys = nations(key, name)"
   ]
  },
  {
   "cell_type": "markdown",
   "id": "105e087d-5dc4-4bf9-95e4-8a1fd27cc4d9",
   "metadata": {},
   "source": [
    "It's important to note that so far we haven't actually **executed** anything. Although we have determined that nations and key may be a valid name in the graph, this is example of what we call a **contextless expression**, meaning that its actual resolution may differ depending on how this variable is inserted into an actual expression that we execute.\n",
    "\n",
    "We won't showcase this behavior in this demo, but its important to note that the namebinding for Nations does not require it to only refer to a top level collection/table.\n",
    "\n",
    "We can then further use this name is we decide we want to select only on 2 names with the fewest customers. This step consists of a few part, but in essence what we are doing is saying:\n",
    "1. Select our nations as defined above.\n",
    "2. Use the TOP_K operation which gives the first K elements as defined by the `by` section. In our example K is 2.\n",
    "3. We define our sorting result to be by customer count. What this is saying is that for each nation, count the number of customers connected to it, which works because `Nations.Customers` is a defined path in our metadata. By calling the `COUNT` operation we reduce this result to 1 value per entry, which can be then be used for sorting.\n",
    "4. We indicate that we want to sort in ascending order"
   ]
  },
  {
   "cell_type": "code",
   "execution_count": 6,
   "id": "8763fa2a-4119-49bd-8423-313e291972ab",
   "metadata": {},
   "outputs": [
    {
     "data": {
      "text/plain": [
       "?.nations(key=?.key, name=?.name)(key=?.key, name=?.name, cust_count=COUNT(?.customers)).TOP_K(2, by=(?.cust_count.ASC(na_pos='last')))"
      ]
     },
     "execution_count": 6,
     "metadata": {},
     "output_type": "execute_result"
    }
   ],
   "source": [
    "%%pydough\n",
    "\n",
    "lowest_customer_nations = nation_keys(key, name, cust_count=COUNT(customers)).TOP_K(2, by=cust_count.ASC())\n",
    "lowest_customer_nations"
   ]
  },
  {
   "cell_type": "markdown",
   "id": "97abb00c-9bba-43a9-b2f1-c99ad041832e",
   "metadata": {},
   "source": [
    "## Evaluating PyDough\n",
    "\n",
    "Right now there are two primary ways to evaluate PyDough expressions.\n",
    "1. Convert PyDough expressions into a SQL query using `pydough.to_sql()`\n",
    "2. Execute PyDough expressions on a SQL database using `pydough.to_df()`\n",
    "\n",
    "Setting up either situation requires making a change the underlying active session. By default PyDough will allow generating ANSI SQL (but not executing on a Database).\n",
    "\n",
    "These APIs can be used from Python if only used directly on a Python variable that has already been resolved from PyDough. If there are more complex expressions please use PyDough cells."
   ]
  },
  {
   "cell_type": "code",
   "execution_count": 7,
   "id": "0797d353-fcde-492b-8bff-0bfd11b83d1e",
   "metadata": {},
   "outputs": [
    {
     "data": {
      "text/plain": [
       "'SELECT n_nationkey AS key, n_name AS name FROM main.NATION'"
      ]
     },
     "execution_count": 7,
     "metadata": {},
     "output_type": "execute_result"
    }
   ],
   "source": [
    "%%pydough\n",
    "\n",
    "pydough.to_sql(nation_keys)"
   ]
  },
  {
   "cell_type": "code",
   "execution_count": 8,
   "id": "11080525-5666-4173-bfa6-bdb5308c77c8",
   "metadata": {},
   "outputs": [
    {
     "ename": "ValueError",
     "evalue": "No SQL Database is specified.",
     "output_type": "error",
     "traceback": [
      "\u001b[0;31m---------------------------------------------------------------------------\u001b[0m",
      "\u001b[0;31mValueError\u001b[0m                                Traceback (most recent call last)",
      "Cell \u001b[0;32mIn[8], line 3\u001b[0m\n\u001b[1;32m      1\u001b[0m \u001b[38;5;28;01mfrom\u001b[39;00m \u001b[38;5;21;01mpydough\u001b[39;00m\u001b[38;5;21;01m.\u001b[39;00m\u001b[38;5;21;01munqualified\u001b[39;00m \u001b[38;5;28;01mimport\u001b[39;00m UnqualifiedRoot\n\u001b[1;32m      2\u001b[0m _ROOT \u001b[38;5;241m=\u001b[39m UnqualifiedRoot(pydough\u001b[38;5;241m.\u001b[39mactive_session\u001b[38;5;241m.\u001b[39mmetadata)\n\u001b[0;32m----> 3\u001b[0m \u001b[43mpydough\u001b[49m\u001b[38;5;241;43m.\u001b[39;49m\u001b[43mto_df\u001b[49m\u001b[43m(\u001b[49m\u001b[43mnation_keys\u001b[49m\u001b[43m)\u001b[49m\n",
      "File \u001b[0;32m~/Documents/bodo/PyDough/pydough/evaluation/evaluate_unqualified.py:122\u001b[0m, in \u001b[0;36mto_df\u001b[0;34m(node, **kwargs)\u001b[0m\n\u001b[1;32m    118\u001b[0m     \u001b[38;5;28;01mraise\u001b[39;00m \u001b[38;5;167;01mTypeError\u001b[39;00m(\n\u001b[1;32m    119\u001b[0m         \u001b[38;5;124mf\u001b[39m\u001b[38;5;124m\"\u001b[39m\u001b[38;5;124mFinal qualified expression must be a collection, found \u001b[39m\u001b[38;5;132;01m{\u001b[39;00mqualified\u001b[38;5;241m.\u001b[39m\u001b[38;5;18m__class__\u001b[39m\u001b[38;5;241m.\u001b[39m\u001b[38;5;18m__name__\u001b[39m\u001b[38;5;132;01m}\u001b[39;00m\u001b[38;5;124m\"\u001b[39m\n\u001b[1;32m    120\u001b[0m     )\n\u001b[1;32m    121\u001b[0m relational: RelationalRoot \u001b[38;5;241m=\u001b[39m convert_ast_to_relational(qualified, config)\n\u001b[0;32m--> 122\u001b[0m \u001b[38;5;28;01mreturn\u001b[39;00m \u001b[43mexecute_df\u001b[49m\u001b[43m(\u001b[49m\u001b[43mrelational\u001b[49m\u001b[43m,\u001b[49m\u001b[43m \u001b[49m\u001b[43mdatabase\u001b[49m\u001b[43m)\u001b[49m\n",
      "File \u001b[0;32m~/Documents/bodo/PyDough/pydough/sqlglot/execute_relational.py:80\u001b[0m, in \u001b[0;36mexecute_df\u001b[0;34m(relational, ctx, display_sql)\u001b[0m\n\u001b[1;32m     78\u001b[0m \u001b[38;5;28;01mif\u001b[39;00m display_sql:\n\u001b[1;32m     79\u001b[0m     \u001b[38;5;28mprint\u001b[39m(\u001b[38;5;124m\"\u001b[39m\u001b[38;5;124mSQL query:\u001b[39m\u001b[38;5;130;01m\\n\u001b[39;00m\u001b[38;5;124m\"\u001b[39m, sql)\n\u001b[0;32m---> 80\u001b[0m \u001b[38;5;28;01mreturn\u001b[39;00m \u001b[43mctx\u001b[49m\u001b[38;5;241;43m.\u001b[39;49m\u001b[43mconnection\u001b[49m\u001b[38;5;241;43m.\u001b[39;49m\u001b[43mexecute_query_df\u001b[49m\u001b[43m(\u001b[49m\u001b[43msql\u001b[49m\u001b[43m)\u001b[49m\n",
      "File \u001b[0;32m~/Documents/bodo/PyDough/pydough/database_connectors/database_connector.py:57\u001b[0m, in \u001b[0;36mDatabaseConnection.execute_query_df\u001b[0;34m(self, sql)\u001b[0m\n\u001b[1;32m     44\u001b[0m \u001b[38;5;28;01mdef\u001b[39;00m \u001b[38;5;21mexecute_query_df\u001b[39m(\u001b[38;5;28mself\u001b[39m, sql: \u001b[38;5;28mstr\u001b[39m) \u001b[38;5;241m-\u001b[39m\u001b[38;5;241m>\u001b[39m pd\u001b[38;5;241m.\u001b[39mDataFrame:\n\u001b[1;32m     45\u001b[0m \u001b[38;5;250m    \u001b[39m\u001b[38;5;124;03m\"\"\"Create a cursor object using the connection and execute the query,\u001b[39;00m\n\u001b[1;32m     46\u001b[0m \u001b[38;5;124;03m    returning the entire result as a Pandas DataFrame.\u001b[39;00m\n\u001b[1;32m     47\u001b[0m \n\u001b[0;32m   (...)\u001b[0m\n\u001b[1;32m     55\u001b[0m \u001b[38;5;124;03m        list[pt.Any]: A list of rows returned by the query.\u001b[39;00m\n\u001b[1;32m     56\u001b[0m \u001b[38;5;124;03m    \"\"\"\u001b[39;00m\n\u001b[0;32m---> 57\u001b[0m     cursor: sqlite3\u001b[38;5;241m.\u001b[39mCursor \u001b[38;5;241m=\u001b[39m \u001b[38;5;28;43mself\u001b[39;49m\u001b[38;5;241;43m.\u001b[39;49m\u001b[43m_connection\u001b[49m\u001b[38;5;241;43m.\u001b[39;49m\u001b[43mcursor\u001b[49m\u001b[43m(\u001b[49m\u001b[43m)\u001b[49m\n\u001b[1;32m     58\u001b[0m     \u001b[38;5;28;01mtry\u001b[39;00m:\n\u001b[1;32m     59\u001b[0m         cursor\u001b[38;5;241m.\u001b[39mexecute(sql)\n",
      "File \u001b[0;32m~/Documents/bodo/PyDough/pydough/database_connectors/empty_connection.py:34\u001b[0m, in \u001b[0;36mEmptyConnection.cursor\u001b[0;34m(self, *args, **kwargs)\u001b[0m\n\u001b[1;32m     33\u001b[0m \u001b[38;5;28;01mdef\u001b[39;00m \u001b[38;5;21mcursor\u001b[39m(\u001b[38;5;28mself\u001b[39m, \u001b[38;5;241m*\u001b[39margs, \u001b[38;5;241m*\u001b[39m\u001b[38;5;241m*\u001b[39mkwargs):\n\u001b[0;32m---> 34\u001b[0m     \u001b[38;5;28;01mraise\u001b[39;00m \u001b[38;5;167;01mValueError\u001b[39;00m(\u001b[38;5;124m\"\u001b[39m\u001b[38;5;124mNo SQL Database is specified.\u001b[39m\u001b[38;5;124m\"\u001b[39m)\n",
      "\u001b[0;31mValueError\u001b[0m: No SQL Database is specified."
     ]
    }
   ],
   "source": [
    "%%pydough\n",
    "\n",
    "pydough.to_df(nation_keys)"
   ]
  },
  {
   "cell_type": "markdown",
   "id": "23549c86-e192-4ccc-a36d-84eb465c648f",
   "metadata": {},
   "source": [
    "As you can see we can generate the underlying SQL but the system does not know how to execute it. To enable execution we setup the `pydough.active_session.connect_database()` to indicate where we want to target our SQL. This API is intended to work with any DB 2.0 compatible database connection, although right now it is only setup to work with SQLite. This step is done by providing the database name and the required `connect(...)` arguments. This API will then automatically load the appropriate dialect, which is maintained through integration with `SQLGlot`.\n",
    "\n",
    "It also additional possible to define your own database connection and pass it for use by PyDough, but this is an advanced usage that will be shown in a followup demo."
   ]
  },
  {
   "cell_type": "code",
   "execution_count": 9,
   "id": "1747e080-eb2f-49a7-bf40-6bdfdb387e4f",
   "metadata": {},
   "outputs": [],
   "source": [
    "pydough.active_session.connect_database(\"sqlite\", database=\"../tpch.db\");"
   ]
  },
  {
   "cell_type": "code",
   "execution_count": 10,
   "id": "12624591-8916-436a-a0f2-f3b666d98a7f",
   "metadata": {},
   "outputs": [
    {
     "data": {
      "text/html": [
       "<div>\n",
       "<style scoped>\n",
       "    .dataframe tbody tr th:only-of-type {\n",
       "        vertical-align: middle;\n",
       "    }\n",
       "\n",
       "    .dataframe tbody tr th {\n",
       "        vertical-align: top;\n",
       "    }\n",
       "\n",
       "    .dataframe thead th {\n",
       "        text-align: right;\n",
       "    }\n",
       "</style>\n",
       "<table border=\"1\" class=\"dataframe\">\n",
       "  <thead>\n",
       "    <tr style=\"text-align: right;\">\n",
       "      <th></th>\n",
       "      <th>key</th>\n",
       "      <th>name</th>\n",
       "    </tr>\n",
       "  </thead>\n",
       "  <tbody>\n",
       "    <tr>\n",
       "      <th>0</th>\n",
       "      <td>0</td>\n",
       "      <td>ALGERIA</td>\n",
       "    </tr>\n",
       "    <tr>\n",
       "      <th>1</th>\n",
       "      <td>1</td>\n",
       "      <td>ARGENTINA</td>\n",
       "    </tr>\n",
       "    <tr>\n",
       "      <th>2</th>\n",
       "      <td>2</td>\n",
       "      <td>BRAZIL</td>\n",
       "    </tr>\n",
       "    <tr>\n",
       "      <th>3</th>\n",
       "      <td>3</td>\n",
       "      <td>CANADA</td>\n",
       "    </tr>\n",
       "    <tr>\n",
       "      <th>4</th>\n",
       "      <td>4</td>\n",
       "      <td>EGYPT</td>\n",
       "    </tr>\n",
       "    <tr>\n",
       "      <th>5</th>\n",
       "      <td>5</td>\n",
       "      <td>ETHIOPIA</td>\n",
       "    </tr>\n",
       "    <tr>\n",
       "      <th>6</th>\n",
       "      <td>6</td>\n",
       "      <td>FRANCE</td>\n",
       "    </tr>\n",
       "    <tr>\n",
       "      <th>7</th>\n",
       "      <td>7</td>\n",
       "      <td>GERMANY</td>\n",
       "    </tr>\n",
       "    <tr>\n",
       "      <th>8</th>\n",
       "      <td>8</td>\n",
       "      <td>INDIA</td>\n",
       "    </tr>\n",
       "    <tr>\n",
       "      <th>9</th>\n",
       "      <td>9</td>\n",
       "      <td>INDONESIA</td>\n",
       "    </tr>\n",
       "    <tr>\n",
       "      <th>10</th>\n",
       "      <td>10</td>\n",
       "      <td>IRAN</td>\n",
       "    </tr>\n",
       "    <tr>\n",
       "      <th>11</th>\n",
       "      <td>11</td>\n",
       "      <td>IRAQ</td>\n",
       "    </tr>\n",
       "    <tr>\n",
       "      <th>12</th>\n",
       "      <td>12</td>\n",
       "      <td>JAPAN</td>\n",
       "    </tr>\n",
       "    <tr>\n",
       "      <th>13</th>\n",
       "      <td>13</td>\n",
       "      <td>JORDAN</td>\n",
       "    </tr>\n",
       "    <tr>\n",
       "      <th>14</th>\n",
       "      <td>14</td>\n",
       "      <td>KENYA</td>\n",
       "    </tr>\n",
       "    <tr>\n",
       "      <th>15</th>\n",
       "      <td>15</td>\n",
       "      <td>MOROCCO</td>\n",
       "    </tr>\n",
       "    <tr>\n",
       "      <th>16</th>\n",
       "      <td>16</td>\n",
       "      <td>MOZAMBIQUE</td>\n",
       "    </tr>\n",
       "    <tr>\n",
       "      <th>17</th>\n",
       "      <td>17</td>\n",
       "      <td>PERU</td>\n",
       "    </tr>\n",
       "    <tr>\n",
       "      <th>18</th>\n",
       "      <td>18</td>\n",
       "      <td>CHINA</td>\n",
       "    </tr>\n",
       "    <tr>\n",
       "      <th>19</th>\n",
       "      <td>19</td>\n",
       "      <td>ROMANIA</td>\n",
       "    </tr>\n",
       "    <tr>\n",
       "      <th>20</th>\n",
       "      <td>20</td>\n",
       "      <td>SAUDI ARABIA</td>\n",
       "    </tr>\n",
       "    <tr>\n",
       "      <th>21</th>\n",
       "      <td>21</td>\n",
       "      <td>VIETNAM</td>\n",
       "    </tr>\n",
       "    <tr>\n",
       "      <th>22</th>\n",
       "      <td>22</td>\n",
       "      <td>RUSSIA</td>\n",
       "    </tr>\n",
       "    <tr>\n",
       "      <th>23</th>\n",
       "      <td>23</td>\n",
       "      <td>UNITED KINGDOM</td>\n",
       "    </tr>\n",
       "    <tr>\n",
       "      <th>24</th>\n",
       "      <td>24</td>\n",
       "      <td>UNITED STATES</td>\n",
       "    </tr>\n",
       "  </tbody>\n",
       "</table>\n",
       "</div>"
      ],
      "text/plain": [
       "    key            name\n",
       "0     0         ALGERIA\n",
       "1     1       ARGENTINA\n",
       "2     2          BRAZIL\n",
       "3     3          CANADA\n",
       "4     4           EGYPT\n",
       "5     5        ETHIOPIA\n",
       "6     6          FRANCE\n",
       "7     7         GERMANY\n",
       "8     8           INDIA\n",
       "9     9       INDONESIA\n",
       "10   10            IRAN\n",
       "11   11            IRAQ\n",
       "12   12           JAPAN\n",
       "13   13          JORDAN\n",
       "14   14           KENYA\n",
       "15   15         MOROCCO\n",
       "16   16      MOZAMBIQUE\n",
       "17   17            PERU\n",
       "18   18           CHINA\n",
       "19   19         ROMANIA\n",
       "20   20    SAUDI ARABIA\n",
       "21   21         VIETNAM\n",
       "22   22          RUSSIA\n",
       "23   23  UNITED KINGDOM\n",
       "24   24   UNITED STATES"
      ]
     },
     "execution_count": 10,
     "metadata": {},
     "output_type": "execute_result"
    }
   ],
   "source": [
    "%%pydough\n",
    "\n",
    "pydough.to_df(nation_keys)"
   ]
  },
  {
   "cell_type": "markdown",
   "id": "fd41a3e5-9292-4145-9e20-06f3b5b395d3",
   "metadata": {},
   "source": [
    "Similarly, we can compute our more complex expression with the two nations containing the fewest customers."
   ]
  },
  {
   "cell_type": "code",
   "execution_count": 11,
   "id": "d704f7c7-d189-4baa-8475-e0e2c46bd436",
   "metadata": {},
   "outputs": [
    {
     "name": "stderr",
     "output_type": "stream",
     "text": [
      "/Users/nicholasriasanovsky/Documents/bodo/PyDough/pydough/sqlglot/sqlglot_relational_visitor.py:215: UserWarning: PyDough when using SQLITE dialect does not support ascending ordering with nulls last (changed to nulls first)\n",
      "  warnings.warn(\n"
     ]
    },
    {
     "data": {
      "text/html": [
       "<div>\n",
       "<style scoped>\n",
       "    .dataframe tbody tr th:only-of-type {\n",
       "        vertical-align: middle;\n",
       "    }\n",
       "\n",
       "    .dataframe tbody tr th {\n",
       "        vertical-align: top;\n",
       "    }\n",
       "\n",
       "    .dataframe thead th {\n",
       "        text-align: right;\n",
       "    }\n",
       "</style>\n",
       "<table border=\"1\" class=\"dataframe\">\n",
       "  <thead>\n",
       "    <tr style=\"text-align: right;\">\n",
       "      <th></th>\n",
       "      <th>key</th>\n",
       "      <th>name</th>\n",
       "      <th>cust_count</th>\n",
       "    </tr>\n",
       "  </thead>\n",
       "  <tbody>\n",
       "    <tr>\n",
       "      <th>0</th>\n",
       "      <td>20</td>\n",
       "      <td>SAUDI ARABIA</td>\n",
       "      <td>5904</td>\n",
       "    </tr>\n",
       "    <tr>\n",
       "      <th>1</th>\n",
       "      <td>7</td>\n",
       "      <td>GERMANY</td>\n",
       "      <td>5908</td>\n",
       "    </tr>\n",
       "  </tbody>\n",
       "</table>\n",
       "</div>"
      ],
      "text/plain": [
       "   key          name  cust_count\n",
       "0   20  SAUDI ARABIA        5904\n",
       "1    7       GERMANY        5908"
      ]
     },
     "execution_count": 11,
     "metadata": {},
     "output_type": "execute_result"
    }
   ],
   "source": [
    "%%pydough\n",
    "\n",
    "pydough.to_df(lowest_customer_nations)"
   ]
  },
  {
   "cell_type": "markdown",
   "id": "f52dfcfe-6e90-44b8-b9c4-7dc08a5b28ca",
   "metadata": {},
   "source": [
    "Finally, while building a statement from smaller components is best practice in Pydough, you can always evaluate the entire expression all at once within a PyDough cell, such this example that loads the all asian nations in the dataset."
   ]
  },
  {
   "cell_type": "code",
   "execution_count": 12,
   "id": "e46afe0f-d0fe-476c-a4c1-81320d358b6f",
   "metadata": {},
   "outputs": [
    {
     "data": {
      "text/html": [
       "<div>\n",
       "<style scoped>\n",
       "    .dataframe tbody tr th:only-of-type {\n",
       "        vertical-align: middle;\n",
       "    }\n",
       "\n",
       "    .dataframe tbody tr th {\n",
       "        vertical-align: top;\n",
       "    }\n",
       "\n",
       "    .dataframe thead th {\n",
       "        text-align: right;\n",
       "    }\n",
       "</style>\n",
       "<table border=\"1\" class=\"dataframe\">\n",
       "  <thead>\n",
       "    <tr style=\"text-align: right;\">\n",
       "      <th></th>\n",
       "      <th>key</th>\n",
       "      <th>name</th>\n",
       "      <th>region_key</th>\n",
       "      <th>comment</th>\n",
       "    </tr>\n",
       "  </thead>\n",
       "  <tbody>\n",
       "    <tr>\n",
       "      <th>0</th>\n",
       "      <td>8</td>\n",
       "      <td>INDIA</td>\n",
       "      <td>2</td>\n",
       "      <td>ss excuses cajole slyly across the packages. d...</td>\n",
       "    </tr>\n",
       "    <tr>\n",
       "      <th>1</th>\n",
       "      <td>9</td>\n",
       "      <td>INDONESIA</td>\n",
       "      <td>2</td>\n",
       "      <td>slyly express asymptotes. regular deposits ha...</td>\n",
       "    </tr>\n",
       "    <tr>\n",
       "      <th>2</th>\n",
       "      <td>12</td>\n",
       "      <td>JAPAN</td>\n",
       "      <td>2</td>\n",
       "      <td>ously. final, express gifts cajole a</td>\n",
       "    </tr>\n",
       "    <tr>\n",
       "      <th>3</th>\n",
       "      <td>18</td>\n",
       "      <td>CHINA</td>\n",
       "      <td>2</td>\n",
       "      <td>c dependencies. furiously express notornis sle...</td>\n",
       "    </tr>\n",
       "    <tr>\n",
       "      <th>4</th>\n",
       "      <td>21</td>\n",
       "      <td>VIETNAM</td>\n",
       "      <td>2</td>\n",
       "      <td>hely enticingly express accounts. even, final</td>\n",
       "    </tr>\n",
       "  </tbody>\n",
       "</table>\n",
       "</div>"
      ],
      "text/plain": [
       "   key       name  region_key  \\\n",
       "0    8      INDIA           2   \n",
       "1    9  INDONESIA           2   \n",
       "2   12      JAPAN           2   \n",
       "3   18      CHINA           2   \n",
       "4   21    VIETNAM           2   \n",
       "\n",
       "                                             comment  \n",
       "0  ss excuses cajole slyly across the packages. d...  \n",
       "1   slyly express asymptotes. regular deposits ha...  \n",
       "2               ously. final, express gifts cajole a  \n",
       "3  c dependencies. furiously express notornis sle...  \n",
       "4     hely enticingly express accounts. even, final   "
      ]
     },
     "execution_count": 12,
     "metadata": {},
     "output_type": "execute_result"
    }
   ],
   "source": [
    "%%pydough\n",
    "\n",
    "pydough.to_df(nations.WHERE(region.name == \"ASIA\"))"
   ]
  },
  {
   "cell_type": "code",
   "execution_count": null,
   "id": "a3a1c28a-47c9-4073-b742-9f4d04f3bb3c",
   "metadata": {},
   "outputs": [],
   "source": []
  }
 ],
 "metadata": {
  "kernelspec": {
   "display_name": "Python 3 (ipykernel)",
   "language": "python",
   "name": "python3"
  },
  "language_info": {
   "codemirror_mode": {
    "name": "ipython",
    "version": 3
   },
   "file_extension": ".py",
   "mimetype": "text/x-python",
   "name": "python",
   "nbconvert_exporter": "python",
   "pygments_lexer": "ipython3",
   "version": "3.12.7"
  }
 },
 "nbformat": 4,
 "nbformat_minor": 5
}
