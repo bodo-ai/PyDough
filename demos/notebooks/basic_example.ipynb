{
 "cells": [
  {
   "cell_type": "markdown",
   "id": "f13864dd-f6b5-438a-83a6-8cd03c9e3ac3",
   "metadata": {},
   "source": [
    "# Overview\n",
    "\n",
    "This notebook provides a basic example of the process of working in PyDough to answer an analytics question. It highlights how PyDough can be leveraged to guide the development and experimentation process, with an emphasis on solving partial sub-problems.\n",
    "\n",
    "We believe that is this approach is more composable and scalable. Rather than focusing on building a query to answer a question at hand, building question components allows more proportional scaling relative to the complexity at hand. The PyDough team is optimistic that such an approach can make human more productive effective and LLMs more accurate at solving the problem at hand.\n",
    "\n",
    "The majority of this notebook will be focused on building up a more complex question piece by piece. At some places we will also deviate from this question to emphasize the powerful PyDough features that enable this type of experimentation."
   ]
  },
  {
   "cell_type": "code",
   "execution_count": 1,
   "id": "7849d55d-cf82-4fb4-acb9-4a6f257926c9",
   "metadata": {},
   "outputs": [],
   "source": [
    "%load_ext pydough_jupyter_extensions"
   ]
  },
  {
   "cell_type": "code",
   "execution_count": 2,
   "id": "32294532-eaba-4a3f-8fd0-acfd5410ea52",
   "metadata": {},
   "outputs": [],
   "source": [
    "import pydough"
   ]
  },
  {
   "cell_type": "code",
   "execution_count": 3,
   "id": "3fa62d04-d363-414b-bed8-d0f0e289e606",
   "metadata": {},
   "outputs": [],
   "source": [
    "# Setup demo metadata\n",
    "pydough.active_session.load_metadata_graph(\"../metadata/tpch_demo_graph.json\", \"TPCH\");\n",
    "pydough.active_session.connect_database(\"sqlite\", database=\"../tpch.db\");\n",
    "# Avoid scientific notation\n",
    "pd.options.display.float_format = '{:.6f}'.format"
   ]
  },
  {
   "attachments": {},
   "cell_type": "markdown",
   "id": "f0ab9cff-2549-43b4-b044-4ae1029fae97",
   "metadata": {},
   "source": [
    "## Schema Context\n",
    "\n",
    "For this demo we will be working in an example crafted to match the schema for the TPC-H benchmark. The actual data for this benchmark is generated in SQLite using the standard TPC-H data generation tools. The underlying schema of this data matches this example image from [TPC Benchmark H Standard Specification](https://www.tpc.org/tpc_documents_current_versions/pdf/tpc-h_v2.17.1.pdf).\n",
    "\n",
    "![TPC-H schema from the Specification Document as of December 12, 2024](../images/tpc_h_schema.png)"
   ]
  },
  {
   "cell_type": "markdown",
   "id": "a6b19eac-d793-40a9-b294-bb17bba1fc77",
   "metadata": {},
   "source": [
    "## Problem Statement\n",
    "\n",
    "We are going to build to solve a problem where we seek to **identify the 5 lines that represent the smallest percentage of an order's revenue**. \n",
    "\n",
    "We will build an answer to this question in PyDough and use this to explain how PyDough can allow easy iteration in the analytics process. For a point of comparison, here is a possible SQL query that could we be used to answer this question.\n",
    "\n",
    "```SQL\n",
    "with total_order_revenue as (\n",
    "    select\n",
    "        o_orderkey as order_key,\n",
    "        SUM(L_EXTENDED_PRICE * (1 - L_DISCOUNT)) as order_total\n",
    "    from orders\n",
    "    inner join lines\n",
    "    group by o_orderkey\n",
    ")\n",
    "Select\n",
    "    (L_EXTENDED_PRICE * (1 - L_DISCOUNT)) / order_total as revenue_ratio,\n",
    "    orderkey,\n",
    "    l_linenumber as line_number\n",
    "from lines\n",
    "inner join total_order_revenue\n",
    "on l_orderkey = orderkey\n",
    "order by revenue_ratio ASC, order_key DESC, line_number DESC\n",
    "LIMIT 5\n",
    "```\n",
    "\n",
    "The sample answer uses a CTE statement produce a result per order that can then be re-combined with the original lines. However, there are also some subtle issue that could arise. Namely:\n",
    "* Should the joins between lines and orders be inner joins or left joins?\n",
    "* If the joins were left joins, what should we do if a line wasn't associated with an order (and vice versa).\n",
    "\n",
    "In this particular example **because we know the exact constraints of the TPC-H setup** we can verify that the provided query is correct and we don't need to worry about left joins. However, in a production setting, such differences can result in subtle bugs that due to SQL's holistic nature can be very difficult to debug, even though this is a relatively simple query. It also means that if the constraints differ or change between the pulling information from two different data sources, the SQL query developed could ultimately lead to incorrect results."
   ]
  },
  {
   "cell_type": "markdown",
   "id": "4c0a3c66-1c7b-40c1-8402-aae4e5358262",
   "metadata": {},
   "source": [
    "## Metadata\n",
    "\n",
    "The primary mechanism through which PyDough simplifies life for the user is the metadata. This eliminates the need to worry about our above correctness question like `LEFT` vs `INNER` join and gives us a mechanism to run the same code in different environments, you can just have slightly different metadata but the same PyDough!\n",
    "\n",
    "The PyDough mechanism defines many things, most of which we won't explore in this demo, but two important details are the interactions between collections and the naming process. To demonstrate this, let's look at the immediate collections that are avaiable in our graph."
   ]
  },
  {
   "cell_type": "code",
   "execution_count": 4,
   "id": "9a343f47-18a1-4052-8175-6c63fb72a575",
   "metadata": {},
   "outputs": [
    {
     "name": "stdout",
     "output_type": "stream",
     "text": [
      "PyDough graph: TPCH\n",
      "Collections: customers, lines, nations, orders, parts, regions, suppliers, supply_records\n",
      "Call pydough.explain(graph[collection_name]) to learn more about any of these collections.\n",
      "Call pydough.explain_structure(graph) to see how all of the collections in the graph are connected.\n"
     ]
    }
   ],
   "source": [
    "%%pydough\n",
    "\n",
    "print(pydough.explain(pydough.active_session.metadata))"
   ]
  },
  {
   "cell_type": "markdown",
   "id": "872f4a6a-cc5c-43a9-a0db-7011ed4f7697",
   "metadata": {},
   "source": [
    "Here we see the collections available in our TPCH graph. These are similar to the scheme above, but there are two notable renames:\n",
    " * LineItems -> lines\n",
    " * PartSupp -> supply_records\n",
    "\n",
    "Let's take a look at lines. We will use `verbose=True` to understand the mapping between this metadata and the underlying database."
   ]
  },
  {
   "cell_type": "code",
   "execution_count": 5,
   "id": "61cf29e2-7d25-46fb-8dd7-eb1000091508",
   "metadata": {},
   "outputs": [
    {
     "name": "stdout",
     "output_type": "stream",
     "text": [
      "PyDough collection: lines\n",
      "Table path: main.LINEITEM\n",
      "Unique properties of collection: [['order_key', 'line_number'], ['part_key', 'supplier_key', 'order_key']]\n",
      "Scalar properties:\n",
      "  comment\n",
      "  commit_date\n",
      "  discount\n",
      "  extended_price\n",
      "  line_number\n",
      "  order_key\n",
      "  part_key\n",
      "  quantity\n",
      "  receipt_date\n",
      "  return_flag\n",
      "  ship_date\n",
      "  ship_instruct\n",
      "  ship_mode\n",
      "  status\n",
      "  supplier_key\n",
      "  tax\n",
      "Subcollection properties:\n",
      "  order\n",
      "  part\n",
      "  part_and_supplier\n",
      "  supplier\n",
      "Call pydough.explain(graph['lines'][property_name]) to learn more about any of these properties.\n"
     ]
    }
   ],
   "source": [
    "%%pydough\n",
    "\n",
    "print(pydough.explain(pydough.active_session.metadata[\"lines\"], verbose=True))"
   ]
  },
  {
   "cell_type": "markdown",
   "id": "3e2e222c-908c-452a-844a-4f5370c87cfc",
   "metadata": {},
   "source": [
    "Here we see that `lines` is mapping to our `LINETIEM` table. It also contains additional information such as what combination of columns are unique and importantly what collections its attached to. Additionally, notice that the names aren't required to match those in the TPC-H schema, for example we remap `l_extendedprice` to `extended_price`. We can also define unique names for traversing collections based on different characteristics, though we will not do this in this demo.\n",
    "\n",
    "This highlights that PyDough metadata can be used to capture the semantics of your organization without require total control of the data, allowing each part of an organization to use the most accurate naming. For example if your organization consistently says `PNL` but for whatever reason the data owners refuse to use that name, you can effortlessly remap this business logic on top of the underlying data.\n",
    "\n",
    "Now let's look at what happens when we consider going from lines to orders."
   ]
  },
  {
   "cell_type": "code",
   "execution_count": 6,
   "id": "89f7d09d-ac40-4960-a43a-9ada8dc2a8ce",
   "metadata": {},
   "outputs": [
    {
     "name": "stdout",
     "output_type": "stream",
     "text": [
      "PyDough property: lines.order\n",
      "This property connects collection lines to orders.\n",
      "Cardinality of connection: Many -> One\n",
      "Is reversible: yes\n",
      "Reverse property: orders.lines\n",
      "The subcollection relationship is defined by the following join conditions:\n",
      "    lines.order_key == orders.key\n"
     ]
    }
   ],
   "source": [
    "%%pydough\n",
    "\n",
    "print(pydough.explain(pydough.active_session.metadata[\"lines\"][\"order\"], verbose=True))"
   ]
  },
  {
   "cell_type": "markdown",
   "id": "7e6b7192-8a1e-48cc-9cdd-c190dd84cf9c",
   "metadata": {},
   "source": [
    "This translation encapsulates the join logic, but also holds that there are many lines for a single order. This both allows PyDough to be smarter about answering the underlying question and also developers to leverage these properties to generate simpler statements.\n",
    "\n",
    "Right now this metadata always dictates generating a LEFT JOIN and automatically handles processing missing records for aggregation functions, but in the future this will become more extensible via both metadata and configuration."
   ]
  },
  {
   "cell_type": "markdown",
   "id": "3228b465-a356-4d5e-9b61-a13b437a8c7f",
   "metadata": {},
   "source": [
    "## PyDough Solution\n",
    "\n",
    "To build the PyDough solution, we are going to take a different approach than immediately trying to write the query directly. Rather than solely trying to write the shortest statement to answer our original question, we will approach question as one that we need a build in parts from the components to a solution.\n",
    "\n",
    "The reason for this is two fold:\n",
    "1. We believe this is a good representation for how PyDough can be leveraged to build answers to complex analytics questions.\n",
    "2. We believe this reflects an investigative approach to analytics, where someone may rough at a high-level what needs to be done, but not necessary that \"path\" to get there.\n",
    "\n",
    "To do this we will first need to define revenue. Here we will say that the revenue is the price information after removing any discounts."
   ]
  },
  {
   "cell_type": "code",
   "execution_count": 7,
   "id": "90f77e14-4540-42af-a62e-2ba4e9ae40b9",
   "metadata": {},
   "outputs": [],
   "source": [
    "%%pydough\n",
    "\n",
    "price_def = extended_price*(1-discount)"
   ]
  },
  {
   "cell_type": "markdown",
   "id": "c250943d-f018-4b53-b3b0-423c35db5004",
   "metadata": {},
   "source": [
    "This might seem shocking. We have defined `price_def` out of nowhere using an `extended_price` and `discount`. What has actually happened here is that we have generated what is called a `Contextless Expression`. This fundamental building block is the key to PyDough's composability.\n",
    "\n",
    "On its own this expression doesn't mean anything. In fact if we inspect this object in regular PyDough we will see that PyDough itself has a lot of questions."
   ]
  },
  {
   "cell_type": "code",
   "execution_count": 8,
   "id": "3dc2af81-baa9-45df-9624-a6afca0101b7",
   "metadata": {},
   "outputs": [
    {
     "data": {
      "text/plain": [
       "(?.extended_price * (1 - ?.discount))"
      ]
     },
     "execution_count": 8,
     "metadata": {},
     "output_type": "execute_result"
    }
   ],
   "source": [
    "price_def"
   ]
  },
  {
   "cell_type": "markdown",
   "id": "576f9203-35c0-458a-8860-88615bcade4f",
   "metadata": {},
   "source": [
    "As you see, PyDough now knows that this expression is composed of `extended_price` and `discount`, but it doesn't know **WHICH** `extended_price` and `discount`. To ultimately develop a legal PyDough statement, we will need to bind uses of this expression to a context that can access `extended_price` and `discount`.\n",
    "\n",
    "This might seem very minor, but this allows us to define definitions up front, allowing reuse in vastly different contexts.\n",
    "\n",
    "Now our schema is flexible, but this price defintion is actually tied to the lines collection. Let's now combine incorporate lines."
   ]
  },
  {
   "cell_type": "code",
   "execution_count": 9,
   "id": "7899e4b6-3c41-4790-9855-49e46c7144ba",
   "metadata": {},
   "outputs": [],
   "source": [
    "%%pydough\n",
    "\n",
    "line_price = lines(line_price=price_def).line_price"
   ]
  },
  {
   "cell_type": "markdown",
   "id": "5ff67de8-2e21-44d7-af51-7bbb244e4b58",
   "metadata": {},
   "source": [
    "At this stage our expression is more complete (we know it is associated with lines), but its actually still contextless. Let's extend this by now asking for something more concrete, the SUM."
   ]
  },
  {
   "cell_type": "code",
   "execution_count": 10,
   "id": "c1018dd8-a2bc-48f9-b8e0-49d606de32ba",
   "metadata": {},
   "outputs": [],
   "source": [
    "%%pydough\n",
    "\n",
    "total_price = SUM(line_price)"
   ]
  },
  {
   "cell_type": "markdown",
   "id": "d22eed8e-27a7-4386-872b-80795074bbdf",
   "metadata": {},
   "source": [
    "Now this expression is more meaningful. If we assign this statement to global context, our actual TPCH graph, then we can compute the total price across all lines."
   ]
  },
  {
   "cell_type": "code",
   "execution_count": 11,
   "id": "4da56ff3-c78e-4fd3-9b45-e5962517fa6a",
   "metadata": {},
   "outputs": [
    {
     "data": {
      "text/html": [
       "<div>\n",
       "<style scoped>\n",
       "    .dataframe tbody tr th:only-of-type {\n",
       "        vertical-align: middle;\n",
       "    }\n",
       "\n",
       "    .dataframe tbody tr th {\n",
       "        vertical-align: top;\n",
       "    }\n",
       "\n",
       "    .dataframe thead th {\n",
       "        text-align: right;\n",
       "    }\n",
       "</style>\n",
       "<table border=\"1\" class=\"dataframe\">\n",
       "  <thead>\n",
       "    <tr style=\"text-align: right;\">\n",
       "      <th></th>\n",
       "      <th>total_line_price</th>\n",
       "    </tr>\n",
       "  </thead>\n",
       "  <tbody>\n",
       "    <tr>\n",
       "      <th>0</th>\n",
       "      <td>218102223885.000092</td>\n",
       "    </tr>\n",
       "  </tbody>\n",
       "</table>\n",
       "</div>"
      ],
      "text/plain": [
       "     total_line_price\n",
       "0 218102223885.000092"
      ]
     },
     "execution_count": 11,
     "metadata": {},
     "output_type": "execute_result"
    }
   ],
   "source": [
    "%%pydough\n",
    "\n",
    "pydough.to_df(TPCH(total_line_price=total_price))"
   ]
  },
  {
   "cell_type": "markdown",
   "id": "c4d9df49-4d3f-4b01-a868-a5ae1bf97ac3",
   "metadata": {},
   "source": [
    "In practice though, this may not solve our core question. Instead, we may want to apply a different **context**, say for example total_price for each order. We can instead represent that as follows."
   ]
  },
  {
   "cell_type": "code",
   "execution_count": 12,
   "id": "83b821fc-866b-4116-a38c-2797d2a651a0",
   "metadata": {},
   "outputs": [
    {
     "data": {
      "text/html": [
       "<div>\n",
       "<style scoped>\n",
       "    .dataframe tbody tr th:only-of-type {\n",
       "        vertical-align: middle;\n",
       "    }\n",
       "\n",
       "    .dataframe tbody tr th {\n",
       "        vertical-align: top;\n",
       "    }\n",
       "\n",
       "    .dataframe thead th {\n",
       "        text-align: right;\n",
       "    }\n",
       "</style>\n",
       "<table border=\"1\" class=\"dataframe\">\n",
       "  <thead>\n",
       "    <tr style=\"text-align: right;\">\n",
       "      <th></th>\n",
       "      <th>total_line_price</th>\n",
       "    </tr>\n",
       "  </thead>\n",
       "  <tbody>\n",
       "    <tr>\n",
       "      <th>0</th>\n",
       "      <td>167183.229600</td>\n",
       "    </tr>\n",
       "    <tr>\n",
       "      <th>1</th>\n",
       "      <td>44694.460000</td>\n",
       "    </tr>\n",
       "    <tr>\n",
       "      <th>2</th>\n",
       "      <td>190548.724800</td>\n",
       "    </tr>\n",
       "    <tr>\n",
       "      <th>3</th>\n",
       "      <td>29770.173000</td>\n",
       "    </tr>\n",
       "    <tr>\n",
       "      <th>4</th>\n",
       "      <td>137930.604600</td>\n",
       "    </tr>\n",
       "    <tr>\n",
       "      <th>...</th>\n",
       "      <td>...</td>\n",
       "    </tr>\n",
       "    <tr>\n",
       "      <th>1499995</th>\n",
       "      <td>111787.875600</td>\n",
       "    </tr>\n",
       "    <tr>\n",
       "      <th>1499996</th>\n",
       "      <td>68224.320000</td>\n",
       "    </tr>\n",
       "    <tr>\n",
       "      <th>1499997</th>\n",
       "      <td>88356.494400</td>\n",
       "    </tr>\n",
       "    <tr>\n",
       "      <th>1499998</th>\n",
       "      <td>62681.145600</td>\n",
       "    </tr>\n",
       "    <tr>\n",
       "      <th>1499999</th>\n",
       "      <td>36831.686400</td>\n",
       "    </tr>\n",
       "  </tbody>\n",
       "</table>\n",
       "<p>1500000 rows × 1 columns</p>\n",
       "</div>"
      ],
      "text/plain": [
       "         total_line_price\n",
       "0           167183.229600\n",
       "1            44694.460000\n",
       "2           190548.724800\n",
       "3            29770.173000\n",
       "4           137930.604600\n",
       "...                   ...\n",
       "1499995     111787.875600\n",
       "1499996      68224.320000\n",
       "1499997      88356.494400\n",
       "1499998      62681.145600\n",
       "1499999      36831.686400\n",
       "\n",
       "[1500000 rows x 1 columns]"
      ]
     },
     "execution_count": 12,
     "metadata": {},
     "output_type": "execute_result"
    }
   ],
   "source": [
    "%%pydough\n",
    "\n",
    "order_total_price = orders(total_line_price=total_price)\n",
    "pydough.to_df(order_total_price)"
   ]
  },
  {
   "cell_type": "markdown",
   "id": "bfe461f5-f64f-4a37-a840-bc200ca90aa5",
   "metadata": {},
   "source": [
    "Notice that are able to reuse the exact same code, but by swapping the context we can ultimately modify the semantics. This makes testing the underlying behavior much more scalable. To ask is this statement correct, we can instead compose our question to ask:\n",
    "* Is this underlying expression correct?\n",
    "* Is this context correct?\n",
    "\n",
    "Since these can be verify independently, we can develop greater confidence in our question since it arises from composable building blocks. We could also generate selected contexts to build clear testing."
   ]
  },
  {
   "cell_type": "code",
   "execution_count": 13,
   "id": "db103386-dbac-41d1-98ef-3facbc4d466e",
   "metadata": {},
   "outputs": [
    {
     "data": {
      "text/html": [
       "<div>\n",
       "<style scoped>\n",
       "    .dataframe tbody tr th:only-of-type {\n",
       "        vertical-align: middle;\n",
       "    }\n",
       "\n",
       "    .dataframe tbody tr th {\n",
       "        vertical-align: top;\n",
       "    }\n",
       "\n",
       "    .dataframe thead th {\n",
       "        text-align: right;\n",
       "    }\n",
       "</style>\n",
       "<table border=\"1\" class=\"dataframe\">\n",
       "  <thead>\n",
       "    <tr style=\"text-align: right;\">\n",
       "      <th></th>\n",
       "      <th>total_price</th>\n",
       "    </tr>\n",
       "  </thead>\n",
       "  <tbody>\n",
       "    <tr>\n",
       "      <th>0</th>\n",
       "      <td>168805.679800</td>\n",
       "    </tr>\n",
       "  </tbody>\n",
       "</table>\n",
       "</div>"
      ],
      "text/plain": [
       "    total_price\n",
       "0 168805.679800"
      ]
     },
     "execution_count": 13,
     "metadata": {},
     "output_type": "execute_result"
    }
   ],
   "source": [
    "%%pydough\n",
    "\n",
    "# Compute the sum of the first 5 line numbers, which can be known for testing.\n",
    "top_five_lines = lines.TOP_K(5, by=(line_number.ASC(), order_key.ASC()))\n",
    "top_five_line_price = TPCH(total_price=SUM(top_five_lines(line_price=price_def).line_price))\n",
    "pydough.to_df(top_five_line_price)"
   ]
  },
  {
   "cell_type": "markdown",
   "id": "23e6c569-fc61-4338-ad28-ddbe20aa3b88",
   "metadata": {},
   "source": [
    "Now let's return to extending our question. Building able to compute order sums is great, but we care about results per line. As a result, now we can even extend our orders to an additional context within lines. We will once again define more defintions. Our ratio definition will now ask us to propagate our previous `total_price` price that we computed and compare it to the result of `price_def`."
   ]
  },
  {
   "cell_type": "code",
   "execution_count": 14,
   "id": "037addf9-36ed-440d-b99e-980a43f21303",
   "metadata": {},
   "outputs": [],
   "source": [
    "%%pydough\n",
    "\n",
    "ratio = price_def / BACK(1).total_price"
   ]
  },
  {
   "cell_type": "markdown",
   "id": "12ca1882-91f3-4da2-aa01-94212a67c750",
   "metadata": {},
   "source": [
    "Now we will build our final question by moving from the context of the orders to the context of orders and lines together. Since Orders -> Lines is a Many to One relationship, this places us in the context of lines with some additional information.\n",
    "\n",
    "For actually fully solving our prior question, we will compute the ratio and then select 5 smallest ratio value, breaking ties with a combination of the order number and line number."
   ]
  },
  {
   "cell_type": "code",
   "execution_count": 15,
   "id": "2fc83a46-75e9-4be0-af7d-c9d0ec66eeb2",
   "metadata": {},
   "outputs": [],
   "source": [
    "%%pydough\n",
    "\n",
    "line_ratios = order_total_price.lines(revenue_ratio=ratio, order_key=order_key, line_number=line_number)\n",
    "lowest_ratios = line_ratios.TOP_K(5, by=(revenue_ratio.ASC(), order_key.DESC(), line_number.DESC()))"
   ]
  },
  {
   "cell_type": "code",
   "execution_count": 16,
   "id": "cbe9b58c-d5cf-4803-9db2-066171467d05",
   "metadata": {},
   "outputs": [
    {
     "data": {
      "text/html": [
       "<div>\n",
       "<style scoped>\n",
       "    .dataframe tbody tr th:only-of-type {\n",
       "        vertical-align: middle;\n",
       "    }\n",
       "\n",
       "    .dataframe tbody tr th {\n",
       "        vertical-align: top;\n",
       "    }\n",
       "\n",
       "    .dataframe thead th {\n",
       "        text-align: right;\n",
       "    }\n",
       "</style>\n",
       "<table border=\"1\" class=\"dataframe\">\n",
       "  <thead>\n",
       "    <tr style=\"text-align: right;\">\n",
       "      <th></th>\n",
       "      <th>revenue_ratio</th>\n",
       "      <th>order_key</th>\n",
       "      <th>line_number</th>\n",
       "    </tr>\n",
       "  </thead>\n",
       "  <tbody>\n",
       "    <tr>\n",
       "      <th>0</th>\n",
       "      <td>0.002341</td>\n",
       "      <td>363876</td>\n",
       "      <td>1</td>\n",
       "    </tr>\n",
       "    <tr>\n",
       "      <th>1</th>\n",
       "      <td>0.002359</td>\n",
       "      <td>4920774</td>\n",
       "      <td>1</td>\n",
       "    </tr>\n",
       "    <tr>\n",
       "      <th>2</th>\n",
       "      <td>0.002368</td>\n",
       "      <td>3274400</td>\n",
       "      <td>4</td>\n",
       "    </tr>\n",
       "    <tr>\n",
       "      <th>3</th>\n",
       "      <td>0.002399</td>\n",
       "      <td>2230976</td>\n",
       "      <td>2</td>\n",
       "    </tr>\n",
       "    <tr>\n",
       "      <th>4</th>\n",
       "      <td>0.002400</td>\n",
       "      <td>497094</td>\n",
       "      <td>4</td>\n",
       "    </tr>\n",
       "  </tbody>\n",
       "</table>\n",
       "</div>"
      ],
      "text/plain": [
       "   revenue_ratio  order_key  line_number\n",
       "0       0.002341     363876            1\n",
       "1       0.002359    4920774            1\n",
       "2       0.002368    3274400            4\n",
       "3       0.002399    2230976            2\n",
       "4       0.002400     497094            4"
      ]
     },
     "execution_count": 16,
     "metadata": {},
     "output_type": "execute_result"
    }
   ],
   "source": [
    "pydough.to_df(lowest_ratios)"
   ]
  },
  {
   "cell_type": "markdown",
   "id": "54e9b245-fb64-4f80-a1bd-4bd5f818823a",
   "metadata": {},
   "source": [
    "Now we have resolved to solution to our underlying question. We can save this result to a Python variable, as the output is already a Pandas DataFrame. Alternatively, we could expand on our question to collect more information, such as filtering by a minimum number of entries. For completeness we will show that example where we only **consider lines that are part of orders with at least 3 lines**. "
   ]
  },
  {
   "cell_type": "code",
   "execution_count": 17,
   "id": "d30b209a-9737-4835-8356-5430c8f3d6b0",
   "metadata": {},
   "outputs": [],
   "source": [
    "%%pydough\n",
    "\n",
    "total_lines = COUNT(lines)"
   ]
  },
  {
   "cell_type": "code",
   "execution_count": 18,
   "id": "77aa8c3f-3a9c-431c-a03d-f81cce261946",
   "metadata": {},
   "outputs": [],
   "source": [
    "%%pydough\n",
    "\n",
    "order_total_price = orders(total_line_price=total_price, line_count=total_lines)"
   ]
  },
  {
   "cell_type": "code",
   "execution_count": 19,
   "id": "367f5836-0759-43f1-837a-54e2f9a812c4",
   "metadata": {},
   "outputs": [],
   "source": [
    "%%pydough\n",
    "\n",
    "line_ratios = order_total_price.lines(revenue_ratio=ratio, line_count=BACK(1).line_count, order_key=order_key, line_number=line_number)\n",
    "filtered_ratios = line_ratios.WHERE(line_count > 3)(revenue_ratio, order_key, line_number)\n",
    "\n",
    "lowest_ratios = filtered_ratios.TOP_K(5, by=(revenue_ratio.ASC(), order_key.DESC(), line_number.DESC()))\n",
    "highest_ratios = filtered_ratios.TOP_K(5, by=(revenue_ratio.DESC(), order_key.DESC(), line_number.DESC()))"
   ]
  },
  {
   "cell_type": "code",
   "execution_count": 20,
   "id": "3f48d6bf-bb0d-416c-a4e0-6152a1ef4aab",
   "metadata": {},
   "outputs": [
    {
     "data": {
      "text/html": [
       "<div>\n",
       "<style scoped>\n",
       "    .dataframe tbody tr th:only-of-type {\n",
       "        vertical-align: middle;\n",
       "    }\n",
       "\n",
       "    .dataframe tbody tr th {\n",
       "        vertical-align: top;\n",
       "    }\n",
       "\n",
       "    .dataframe thead th {\n",
       "        text-align: right;\n",
       "    }\n",
       "</style>\n",
       "<table border=\"1\" class=\"dataframe\">\n",
       "  <thead>\n",
       "    <tr style=\"text-align: right;\">\n",
       "      <th></th>\n",
       "      <th>revenue_ratio</th>\n",
       "      <th>order_key</th>\n",
       "      <th>line_number</th>\n",
       "    </tr>\n",
       "  </thead>\n",
       "  <tbody>\n",
       "    <tr>\n",
       "      <th>0</th>\n",
       "      <td>0.002341</td>\n",
       "      <td>363876</td>\n",
       "      <td>1</td>\n",
       "    </tr>\n",
       "    <tr>\n",
       "      <th>1</th>\n",
       "      <td>0.002359</td>\n",
       "      <td>4920774</td>\n",
       "      <td>1</td>\n",
       "    </tr>\n",
       "    <tr>\n",
       "      <th>2</th>\n",
       "      <td>0.002368</td>\n",
       "      <td>3274400</td>\n",
       "      <td>4</td>\n",
       "    </tr>\n",
       "    <tr>\n",
       "      <th>3</th>\n",
       "      <td>0.002399</td>\n",
       "      <td>2230976</td>\n",
       "      <td>2</td>\n",
       "    </tr>\n",
       "    <tr>\n",
       "      <th>4</th>\n",
       "      <td>0.002400</td>\n",
       "      <td>497094</td>\n",
       "      <td>4</td>\n",
       "    </tr>\n",
       "  </tbody>\n",
       "</table>\n",
       "</div>"
      ],
      "text/plain": [
       "   revenue_ratio  order_key  line_number\n",
       "0       0.002341     363876            1\n",
       "1       0.002359    4920774            1\n",
       "2       0.002368    3274400            4\n",
       "3       0.002399    2230976            2\n",
       "4       0.002400     497094            4"
      ]
     },
     "execution_count": 20,
     "metadata": {},
     "output_type": "execute_result"
    }
   ],
   "source": [
    "%%pydough\n",
    "\n",
    "pydough.to_df(lowest_ratios)"
   ]
  },
  {
   "cell_type": "code",
   "execution_count": 21,
   "id": "52ad0956-33d1-4054-bf96-9bfb4eb843c7",
   "metadata": {},
   "outputs": [
    {
     "data": {
      "text/html": [
       "<div>\n",
       "<style scoped>\n",
       "    .dataframe tbody tr th:only-of-type {\n",
       "        vertical-align: middle;\n",
       "    }\n",
       "\n",
       "    .dataframe tbody tr th {\n",
       "        vertical-align: top;\n",
       "    }\n",
       "\n",
       "    .dataframe thead th {\n",
       "        text-align: right;\n",
       "    }\n",
       "</style>\n",
       "<table border=\"1\" class=\"dataframe\">\n",
       "  <thead>\n",
       "    <tr style=\"text-align: right;\">\n",
       "      <th></th>\n",
       "      <th>revenue_ratio</th>\n",
       "      <th>order_key</th>\n",
       "      <th>line_number</th>\n",
       "    </tr>\n",
       "  </thead>\n",
       "  <tbody>\n",
       "    <tr>\n",
       "      <th>0</th>\n",
       "      <td>0.911963</td>\n",
       "      <td>5165158</td>\n",
       "      <td>2</td>\n",
       "    </tr>\n",
       "    <tr>\n",
       "      <th>1</th>\n",
       "      <td>0.906611</td>\n",
       "      <td>5625127</td>\n",
       "      <td>3</td>\n",
       "    </tr>\n",
       "    <tr>\n",
       "      <th>2</th>\n",
       "      <td>0.903499</td>\n",
       "      <td>5677511</td>\n",
       "      <td>4</td>\n",
       "    </tr>\n",
       "    <tr>\n",
       "      <th>3</th>\n",
       "      <td>0.902529</td>\n",
       "      <td>4483520</td>\n",
       "      <td>1</td>\n",
       "    </tr>\n",
       "    <tr>\n",
       "      <th>4</th>\n",
       "      <td>0.898926</td>\n",
       "      <td>1512614</td>\n",
       "      <td>2</td>\n",
       "    </tr>\n",
       "  </tbody>\n",
       "</table>\n",
       "</div>"
      ],
      "text/plain": [
       "   revenue_ratio  order_key  line_number\n",
       "0       0.911963    5165158            2\n",
       "1       0.906611    5625127            3\n",
       "2       0.903499    5677511            4\n",
       "3       0.902529    4483520            1\n",
       "4       0.898926    1512614            2"
      ]
     },
     "execution_count": 21,
     "metadata": {},
     "output_type": "execute_result"
    }
   ],
   "source": [
    "%%pydough\n",
    "\n",
    "pydough.to_df(highest_ratios)"
   ]
  },
  {
   "cell_type": "markdown",
   "id": "1895880e-ddc5-4266-a57e-0a0ee93311fd",
   "metadata": {},
   "source": [
    "The lowest ratio doesn't seem to change, most likely because these already arise from situations with multiple orders. However, now we can meaningfully ask about the highest ratios without being dominated by single line orders."
   ]
  },
  {
   "cell_type": "code",
   "execution_count": null,
   "id": "97acf04c-f944-4902-b7ba-1c88cd7e65f8",
   "metadata": {},
   "outputs": [],
   "source": []
  }
 ],
 "metadata": {
  "kernelspec": {
   "display_name": "Python 3 (ipykernel)",
   "language": "python",
   "name": "python3"
  },
  "language_info": {
   "codemirror_mode": {
    "name": "ipython",
    "version": 3
   },
   "file_extension": ".py",
   "mimetype": "text/x-python",
   "name": "python",
   "nbconvert_exporter": "python",
   "pygments_lexer": "ipython3",
   "version": "3.12.7"
  }
 },
 "nbformat": 4,
 "nbformat_minor": 5
}
