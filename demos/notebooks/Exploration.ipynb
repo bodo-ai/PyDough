{
 "cells": [
  {
   "cell_type": "markdown",
   "id": "f1fd4015-5281-4f56-bf88-5db4a8de93e0",
   "metadata": {},
   "source": [
    "# Introduction\n",
    "\n",
    "This notebook is intended to explain various APIs available in PyDough to explain and explore the PyDough metadata and PyDough logical operations."
   ]
  },
  {
   "cell_type": "markdown",
   "id": "3042b7ae-8eb7-4147-b00f-7e2d54f8c3fa",
   "metadata": {},
   "source": [
    "## Setup\n",
    "\n",
    "This notebook uses the same setup configuration as the `Introduction` notebook, which much be executed so that PyDough is initialized with the desired data."
   ]
  },
  {
   "cell_type": "code",
   "execution_count": 1,
   "id": "0850592d-e6eb-4905-8291-21056617fc74",
   "metadata": {},
   "outputs": [],
   "source": [
    "import pydough\n",
    "\n",
    "pydough.active_session.load_metadata_graph(\"../metadata/tpch_demo_graph.json\", \"TPCH\")\n",
    "%load_ext pydough_jupyter_extensions"
   ]
  },
  {
   "cell_type": "markdown",
   "id": "e7dfb2db-191d-4dac-8b88-76aea581f167",
   "metadata": {},
   "source": [
    "## Using `pydough.explain` on metadata\n",
    "\n",
    "TODO"
   ]
  },
  {
   "cell_type": "code",
   "execution_count": 2,
   "id": "1550f057-7a73-471c-a312-510e6d946ee7",
   "metadata": {
    "scrolled": true
   },
   "outputs": [
    {
     "ename": "AttributeError",
     "evalue": "module 'pydough' has no attribute 'explain'",
     "output_type": "error",
     "traceback": [
      "\u001b[0;31m---------------------------------------------------------------------------\u001b[0m",
      "\u001b[0;31mAttributeError\u001b[0m                            Traceback (most recent call last)",
      "Cell \u001b[0;32mIn[2], line 3\u001b[0m\n\u001b[1;32m      1\u001b[0m graph \u001b[38;5;241m=\u001b[39m pydough\u001b[38;5;241m.\u001b[39mactive_session\u001b[38;5;241m.\u001b[39mmetadata\n\u001b[0;32m----> 3\u001b[0m \u001b[43mpydough\u001b[49m\u001b[38;5;241;43m.\u001b[39;49m\u001b[43mexplain\u001b[49m(graph)\n",
      "\u001b[0;31mAttributeError\u001b[0m: module 'pydough' has no attribute 'explain'"
     ]
    }
   ],
   "source": [
    "graph = pydough.active_session.metadata\n",
    "\n",
    "pydough.explain(graph)"
   ]
  },
  {
   "cell_type": "markdown",
   "id": "23c73480-8651-49e6-be9f-578febfccfd8",
   "metadata": {},
   "source": [
    "TODO"
   ]
  }
 ],
 "metadata": {
  "kernelspec": {
   "display_name": "Python 3 (ipykernel)",
   "language": "python",
   "name": "python3"
  },
  "language_info": {
   "codemirror_mode": {
    "name": "ipython",
    "version": 3
   },
   "file_extension": ".py",
   "mimetype": "text/x-python",
   "name": "python",
   "nbconvert_exporter": "python",
   "pygments_lexer": "ipython3",
   "version": "3.12.6"
  }
 },
 "nbformat": 4,
 "nbformat_minor": 5
}
