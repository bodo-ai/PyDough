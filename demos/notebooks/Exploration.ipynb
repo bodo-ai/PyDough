{
 "cells": [
  {
   "cell_type": "markdown",
   "id": "f1fd4015-5281-4f56-bf88-5db4a8de93e0",
   "metadata": {},
   "source": [
    "# Introduction\n",
    "\n",
    "This notebook is intended to explain various APIs available in PyDough to explain and explore the PyDough metadata and PyDough logical operations."
   ]
  },
  {
   "cell_type": "markdown",
   "id": "3042b7ae-8eb7-4147-b00f-7e2d54f8c3fa",
   "metadata": {},
   "source": [
    "## Setup\n",
    "\n",
    "This notebook uses the same setup configuration as the `Introduction` notebook, which much be executed so that PyDough is initialized with the desired data."
   ]
  },
  {
   "cell_type": "code",
   "execution_count": null,
   "id": "0850592d-e6eb-4905-8291-21056617fc74",
   "metadata": {},
   "outputs": [],
   "source": [
    "import pydough\n",
    "\n",
    "pydough.active_session.load_metadata_graph(\"../metadata/tpch_demo_graph.json\", \"TPCH\")\n",
    "pydough.active_session.connect_database(\"sqlite\", database=\"../tpch.db\")\n",
    "%load_ext pydough_jupyter_extensions"
   ]
  },
  {
   "cell_type": "markdown",
   "id": "e7dfb2db-191d-4dac-8b88-76aea581f167",
   "metadata": {},
   "source": [
    "## Using `pydough.explain` on metadata\n",
    "\n",
    "The API `pydough.explain` can be used to dump information about various PyDough metadata objects or logical operations. The simplest version is to call it on the entire graph, which displays basic information about the graph such as its name and the collections inside it. The `pydough.explain` API takes in an optional `verbose` argument. If this is True, then it displays more information about its arguments, and if it is False it displays a more compact summary.\n",
    "\n",
    "`pydough.explain` can be called from either inside a normal Python cell or inside a pydough cell.\n",
    "\n",
    "Below is an example of using this API on the TPCH graph that has been loaded into the active sesssion."
   ]
  },
  {
   "cell_type": "code",
   "execution_count": null,
   "id": "1550f057-7a73-471c-a312-510e6d946ee7",
   "metadata": {
    "scrolled": true
   },
   "outputs": [],
   "source": [
    "graph = pydough.active_session.metadata\n",
    "\n",
    "print(pydough.explain(graph, verbose=True))"
   ]
  },
  {
   "cell_type": "markdown",
   "id": "23c73480-8651-49e6-be9f-578febfccfd8",
   "metadata": {},
   "source": [
    "Just like the hint suggests, below is an example of calling `pydough.explain` to learn more about the `regions` collection of TPCH:"
   ]
  },
  {
   "cell_type": "code",
   "execution_count": null,
   "id": "8e8eb60b-ade1-4e16-871b-7ffe6c7a9381",
   "metadata": {},
   "outputs": [],
   "source": [
    "print(pydough.explain(graph[\"regions\"], verbose=True))"
   ]
  },
  {
   "cell_type": "markdown",
   "id": "6b68f493-5b53-4c84-8fc7-96da2de7109c",
   "metadata": {},
   "source": [
    "The information displayed tells us information about this collection, including:\n",
    "\n",
    "* The real data table that `regions` maps to in the database is called `main.REGION`.\n",
    "* Every record in the `regions` collection has a `comment`, a `key`, and a `name`, which are scalar properties of the region.\n",
    "* Each unique `key` value corresponds to a single unique record in `regions`.\n",
    "* There is a subcollection of `regions` called `nations`.\n",
    "\n",
    "Below is another example, this time on the collection `supply_records`:"
   ]
  },
  {
   "cell_type": "code",
   "execution_count": null,
   "id": "b9afda52-f766-4888-98cd-664de96ebd5e",
   "metadata": {},
   "outputs": [],
   "source": [
    "print(pydough.explain(graph[\"supply_records\"], verbose=True))"
   ]
  },
  {
   "cell_type": "markdown",
   "id": "f67979ef-55b2-4530-80ff-4ffb0aad86ba",
   "metadata": {},
   "source": [
    "This time, the information displayed tells us the following:\n",
    "\n",
    "* The real data table that `supply_records` maps to in the database is called `main.PARTSUPP`.\n",
    "* Every record in the `supply_records` collection has an `availqty`, a `comment`, a `part_key`, a `supplier_key` and a `supplier_cost`.\n",
    "* Each unique combination of the values of `part_key` and `supplier_key` corresponds to a single unique record in `supply_records`.\n",
    "* There are subcollections of `supply_records` called `lines`, `part`, and `supplier`.\n",
    "\n",
    "Just like the hint suggests, below is an example of calling `pydough.explain` to learn more about one of the scalar properties, in this case: the `name` property of `regions`."
   ]
  },
  {
   "cell_type": "code",
   "execution_count": null,
   "id": "a7f062ab-2f3f-4893-87c0-1ff06fbb56bc",
   "metadata": {},
   "outputs": [],
   "source": [
    "print(pydough.explain(graph[\"regions\"][\"name\"], verbose=True))"
   ]
  },
  {
   "cell_type": "markdown",
   "id": "63ffc26d-a558-49a2-93b5-4b1bddb409c2",
   "metadata": {},
   "source": [
    "The information displayed tells us that the property `regions.name` corresponds to the `r_name` column of the table `main.REGION`, which has a type of `string`. \n",
    "\n",
    "Below is an example of using `pydough.explain` to learn about a subcollection property, in this case: the `nations` property of `regions`."
   ]
  },
  {
   "cell_type": "code",
   "execution_count": null,
   "id": "b3d8281c-f6cc-4165-8d33-4ba572c1a4c9",
   "metadata": {},
   "outputs": [],
   "source": [
    "print(pydough.explain(graph[\"regions\"][\"nations\"], verbose=True))"
   ]
  },
  {
   "cell_type": "markdown",
   "id": "02cd4286-e2a4-442b-b1f6-08b35401ed3b",
   "metadata": {},
   "source": [
    "The information displayed explains how `regions.nations` connects the `regions` collection to the `nations` connection, including:\n",
    "\n",
    "* Each record of `regions` can connect to multiple records in `nations`\n",
    "* Each record of `nations` can connect to at most one record of `regions`\n",
    "* A record of `regions` is connected to a record of `nations` if the `key` property of `regions` equals the `naiton_key` property of `nations`.\n",
    "* The `nations` collection has a corresponding twin property to `regions.nations` called `nations.region`, displayed below:"
   ]
  },
  {
   "cell_type": "code",
   "execution_count": null,
   "id": "ddba3a75-0ec5-4ce4-818c-13256c650785",
   "metadata": {},
   "outputs": [],
   "source": [
    "print(pydough.explain(graph[\"nations\"][\"region\"], verbose=True))"
   ]
  },
  {
   "cell_type": "markdown",
   "id": "c1e1acd7-ab11-4c08-9613-d81782e26eae",
   "metadata": {},
   "source": [
    "The information displayed is essentially the same as `regions.nations`, but from the perspective of each record of `nations` instead of each record of `regions`."
   ]
  },
  {
   "cell_type": "markdown",
   "id": "152362da-f260-42f2-9770-dd078e6246c6",
   "metadata": {},
   "source": [
    "## Using `pydough.explain_structure`\n",
    "\n",
    "The API `pydough.explain_structure` can be called on an entire metadata graph, just like `pydough.explain`. Instead of providing a summary of a single graph, collection, or property, `pydough.explain_structure` gives a wholistic summary of how everything in the graph connects. It displays all of the collections in the graph, the names of their properties, and for the ones that are subcollections it provides a brief summary of what other collection they map to and what the cardinality of the collection looks like.\n",
    "\n",
    "Below is an example of using this API on the TPCH graph to gain a summary of the entire graph."
   ]
  },
  {
   "cell_type": "code",
   "execution_count": null,
   "id": "b1959ea8-c826-4503-b136-3f85c60ceb8f",
   "metadata": {},
   "outputs": [],
   "source": [
    "print(pydough.explain_structure(graph))"
   ]
  },
  {
   "cell_type": "markdown",
   "id": "ac150d1a-3ea8-46c9-9613-b117b8023d0b",
   "metadata": {},
   "source": [
    "Focusing on the `regions` section of this information shows us some of the information observed earlier with `pydough.explain`:\n",
    "\n",
    "* The scalar properties of `regions` are displayed (`comment`, `key` and `name`)\n",
    "* The `nations` property is shown, and indicates that it connects each record of `regions` to potentially multiple records of `nations`, and that the reverse is `nations.region`."
   ]
  },
  {
   "cell_type": "markdown",
   "id": "4279af88-4461-4cb9-8d60-6f009a3c88eb",
   "metadata": {},
   "source": [
    "## Using `pydough.explain` and `pydough.explain_term` on PyDough code\n",
    "\n",
    "The API `pydough.explain` can also be called on PyDough code to display information about what it logically does. There is a key constraint: `pydough.explain` can only be called on PyDough code if it that resolves into a collection (e.g. `regions` or `nations.suppliers.WHERE(account_balance > 0)`).\n",
    "\n",
    "To explain other PyDough code, such as an expression, `pydough.explain_term` must be used (more on that later).\n",
    "\n",
    "Below is an example of using `pydough.explain` on simple PyDough code to learn about the `nations` collection:"
   ]
  },
  {
   "cell_type": "code",
   "execution_count": null,
   "id": "1690b70c-3c68-4283-bc98-cf03fd1e0c55",
   "metadata": {},
   "outputs": [],
   "source": [
    "%%pydough\n",
    "\n",
    "print(pydough.explain(nations, verbose=True))"
   ]
  },
  {
   "cell_type": "markdown",
   "id": "06f69db6-d4b9-481d-8977-f592a47ffd73",
   "metadata": {},
   "source": [
    "There are several pieces of information displayed here, including:\n",
    "\n",
    "* The PyDough code `nations` just accesses the data from the `nations` collection, which we can learn more about as shown earlier by calling `pydough.explain` on the metadata for `nations`.\n",
    "* If `pydough.to_sql` or `pydough.to_df` is called on `nations`, all four of its scalar properties will be incldued in the result.\n",
    "* The properties `comment`, `key`, `name`, and `region_key` can be accessed by the collection as scalar expressions.\n",
    "* The properties `customers`, `region` and `suppliers` can be accessed by the collection as subcollections (unknown if they are singular or plural, without gaining more information).\n",
    "\n",
    "Below is an example of how to use `pydough.explain_term` to learn more about the `name` expression of `nations`:"
   ]
  },
  {
   "cell_type": "code",
   "execution_count": null,
   "id": "ddc4e741-0650-4bd1-9679-e140a996c773",
   "metadata": {},
   "outputs": [],
   "source": [
    "%%pydough\n",
    "\n",
    "print(pydough.explain_term(nations, name, verbose=True))"
   ]
  },
  {
   "cell_type": "markdown",
   "id": "b8577c17-59c9-4126-b485-feb57d78aee1",
   "metadata": {},
   "source": [
    "And below is an example of how to use `pydough.explain_term` to learn more about the `suppliers` collection of `nations`:"
   ]
  },
  {
   "cell_type": "code",
   "execution_count": null,
   "id": "a087b30c-6c8c-4402-8b7c-2c9c3eb6bc9e",
   "metadata": {},
   "outputs": [],
   "source": [
    "%%pydough\n",
    "\n",
    "print(pydough.explain_term(nations, suppliers, verbose=True))"
   ]
  },
  {
   "cell_type": "markdown",
   "id": "a1d45b4b-ee59-45d8-8a53-a9c3d0e782cc",
   "metadata": {},
   "source": [
    "But `pydough.explain` and `pydough.explain_term` do not need to just be used on simple collections and columns. Below is a slightly more complex example that will be dissected in several steps by calling `pydough.explain` and `pydough.explain_term` on various snippets of it. The code in question calculates the top 3 asian countries by the number of orders made by customers in those nations in the year 1995."
   ]
  },
  {
   "cell_type": "code",
   "execution_count": null,
   "id": "2d2405a1-39c1-452e-bab4-ec36ac17c7d4",
   "metadata": {},
   "outputs": [],
   "source": [
    "%%pydough\n",
    "\n",
    "asian_countries = nations.WHERE(region.name == \"ASIA\")\n",
    "\n",
    "orders_1995 = customers.orders.WHERE(YEAR(order_date) == 1995)\n",
    "\n",
    "asian_countries_info = asian_countries(country_name=LOWER(name), total_orders=COUNT(orders_1995))\n",
    "\n",
    "top_asian_countries = asian_countries_info.TOP_K(3, by=total_orders.DESC())\n",
    "\n",
    "pydough.to_df(top_asian_countries)"
   ]
  },
  {
   "cell_type": "markdown",
   "id": "de071cd1-9d35-4472-85e8-f21c79f8cc56",
   "metadata": {},
   "source": [
    "First, here is the results of calling `pydough.explain` on the final result:"
   ]
  },
  {
   "cell_type": "code",
   "execution_count": null,
   "id": "1b0ac75a-8ac1-41ee-96f9-8e49f6930d13",
   "metadata": {},
   "outputs": [],
   "source": [
    "%%pydough\n",
    "\n",
    "print(pydough.explain(top_asian_countries, verbose=True))"
   ]
  },
  {
   "cell_type": "markdown",
   "id": "cbb4ba87-d1b0-4974-a91d-ecd003c502cc",
   "metadata": {},
   "source": [
    "There are several pieces of information displayed, including the following:\n",
    "\n",
    "* The structure of the entire logic is shown, but the information being displayed is specifically focused on the last operation (the `TopK` at the bottom of the structure).\n",
    "* The operation is ordering by `total_orders` in descending order, then keeping the top 3 entries.\n",
    "* There are 6 total expressions that are accessible from `top_asian_countries`, but only 2 of them are included in the answer when executed: `country_name` and `total_orders`.\n",
    "\n",
    "More can be learned about these expressions included in the answer with `pydough.explain_term`:"
   ]
  },
  {
   "cell_type": "code",
   "execution_count": null,
   "id": "09d02b91-945c-466c-bf14-b182ad324ae4",
   "metadata": {},
   "outputs": [],
   "source": [
    "%%pydough\n",
    "\n",
    "print(pydough.explain_term(top_asian_countries, country_name, verbose=True))"
   ]
  },
  {
   "cell_type": "markdown",
   "id": "7abd494f-1a46-4da8-bc76-6b3f1d3986fd",
   "metadata": {},
   "source": [
    "Here, we get the structure of everything done up until this point, and information specifically about `country_name`. In this case, we learn it is the result of claling `LOWER` on `name`. Calling `explain_term(top_asian_countries, name)` would more-or-less display the same information as `explain_term(nations, name)`. Instead, here is the result using `explain_term` to learn about `total_orders`:"
   ]
  },
  {
   "cell_type": "code",
   "execution_count": null,
   "id": "218da407-ee00-4bf2-af15-5bcb624efb6b",
   "metadata": {},
   "outputs": [],
   "source": [
    "%%pydough\n",
    "\n",
    "print(pydough.explain_term(top_asian_countries, total_orders, verbose=True))"
   ]
  },
  {
   "cell_type": "markdown",
   "id": "c5254776-e8de-41ba-b7d2-a48399105c20",
   "metadata": {},
   "source": [
    "Here, we learn that `total_orders` counts how many records of `customers.orders` exist for each record of `nations`. Now, `explain_terms` is used to learn more about the argument to `COUNT`:"
   ]
  },
  {
   "cell_type": "code",
   "execution_count": null,
   "id": "3280c08a-cc2c-45da-929a-83cf53613de8",
   "metadata": {},
   "outputs": [],
   "source": [
    "%%pydough\n",
    "\n",
    "print(pydough.explain_term(asian_countries, orders_1995, verbose=True))"
   ]
  },
  {
   "cell_type": "markdown",
   "id": "387e7750-ef2c-405a-b446-650be64b6ef3",
   "metadata": {},
   "source": [
    "Here, we learn that `customers.orders` invokes a child of the current context (`nations.WHERE(region.name == 'ASIA')`) by accessing the `customers` subcollection, then accessing its `orders` collection, then filtering it on the conedition `YEAR(order_date) == 1995`. \n",
    "\n",
    "We also know that this resulting child is plural with regards to the context, meaning that `asian_countries(asian_countries.order_date)` woudl be illegal, but `asian_countries(MAX(asian_countries.order_date))` is legal.\n",
    "\n",
    "More combinations of `pydough.explain` and `pydough.explain_terms` can be done to learn more about what each of these components does."
   ]
  },
  {
   "cell_type": "code",
   "execution_count": null,
   "id": "f2017556-2f87-45f6-aed1-2e3019efc3b1",
   "metadata": {},
   "outputs": [],
   "source": []
  }
 ],
 "metadata": {
  "kernelspec": {
   "display_name": "Python 3 (ipykernel)",
   "language": "python",
   "name": "python3"
  },
  "language_info": {
   "codemirror_mode": {
    "name": "ipython",
    "version": 3
   },
   "file_extension": ".py",
   "mimetype": "text/x-python",
   "name": "python",
   "nbconvert_exporter": "python",
   "pygments_lexer": "ipython3",
   "version": "3.12.6"
  }
 },
 "nbformat": 4,
 "nbformat_minor": 5
}
