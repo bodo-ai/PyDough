{
 "cells": [
  {
   "cell_type": "markdown",
   "metadata": {},
   "source": [
    "> 📦 **Note:** Before running this notebook, make sure the **Snowflake Python connector with pandas support** is installed.\n",
    "\n",
    "You can install it using one of the following:\n",
    "\n",
    "- If you're working inside the repo:\n",
    "  ```bash\n",
    "  pip install -e \".[snowflake]\"\n",
    "  ```\n",
    "\n",
    "- Or install the connector directly\n",
    "  ```bash\n",
    "  pip install \"snowflake-connector-python[pandas]\"\n",
    "  ```"
   ]
  },
  {
   "cell_type": "markdown",
   "metadata": {},
   "source": [
    "### 📦 Importing Required Libraries"
   ]
  },
  {
   "cell_type": "code",
   "execution_count": 1,
   "metadata": {},
   "outputs": [],
   "source": [
    "import pydough\n",
    "import datetime\n",
    "import pandas as pd"
   ]
  },
  {
   "cell_type": "markdown",
   "metadata": {},
   "source": [
    "### 🔐 Loading Credentials and Connecting to Snowflake\n",
    "\n",
    "This block performs two main tasks:\n",
    "\n",
    "1. **Load credentials from a local JSON file**:\n",
    "   - The `creds.json` file contains your Snowflake login details like username, password, account name, database, schema, and warehouse.\n",
    "   - These are read using Python’s built-in `json` module and stored in variables.\n",
    "\n",
    "2. **Connect to Snowflake using PyDough**:\n",
    "   - `pydough.active_session.load_metadata_graph(...)` loads a metadata graph that maps your Snowflake schema (used for query planning or optimizations).\n",
    "   - `connect_database(...)` uses the loaded credentials to establish a live connection to your Snowflake database.\n",
    "\n",
    "📌 Make sure:\n",
    "- The `creds.json` file exists and contains all the required keys.\n",
    "- The metadata graph path points to a valid JSON file that represents your schema.\n"
   ]
  },
  {
   "cell_type": "code",
   "execution_count": 3,
   "metadata": {},
   "outputs": [
    {
     "data": {
      "text/plain": [
       "DatabaseContext(connection=<pydough.database_connectors.database_connector.DatabaseConnection object at 0x110be9040>, dialect=<DatabaseDialect.SNOWFLAKE: 'snowflake'>)"
      ]
     },
     "execution_count": 3,
     "metadata": {},
     "output_type": "execute_result"
    }
   ],
   "source": [
    "import json\n",
    "\n",
    "path_to_creds = \"./creds.json\"\n",
    "with open(path_to_creds) as f:\n",
    "    creds = json.load(f)\n",
    "\n",
    "sf_username = creds[\"SF_USERNAME\"]\n",
    "sf_password = creds[\"SF_PASSWORD\"]\n",
    "sf_account = creds[\"SF_ACCOUNT\"]\n",
    "sf_tpch_db = creds[\"SF_DATABASE\"]\n",
    "sf_tpch_schema = creds[\"SF_SCHEMA\"]\n",
    "sf_warehouse = creds[\"SF_WH\"]\n",
    "\n",
    "pydough.active_session.load_metadata_graph(\"./tests/test_metadata/snowflake_sample_graphs.json\", \"TPCH\")\n",
    "pydough.active_session.connect_database(\"snowflake\", \n",
    "        user=sf_username,\n",
    "        password=sf_password,\n",
    "        account=sf_account,\n",
    "        warehouse=sf_warehouse,\n",
    "        database=sf_tpch_db,\n",
    "        schema=sf_tpch_schema,\n",
    ")"
   ]
  },
  {
   "cell_type": "markdown",
   "metadata": {},
   "source": [
    "### 🔌 Enabling PyDough's Jupyter Magic Commands\n",
    "\n",
    "This line loads the `pydough.jupyter_extensions` module, which adds **custom magic commands** (like `%%pydough`) to the notebook.\n",
    "\n",
    "These magic commands allow you to:\n",
    "- Write PyDough directly in notebook cells using `%%pydough`\n",
    "- Automatically render results\n",
    "\n",
    "This is a Jupyter-specific feature — the `%load_ext` command dynamically loads these extensions into your current notebook session.\n"
   ]
  },
  {
   "cell_type": "code",
   "execution_count": null,
   "metadata": {},
   "outputs": [],
   "source": [
    "%load_ext pydough.jupyter_extensions"
   ]
  },
  {
   "cell_type": "markdown",
   "metadata": {},
   "source": [
    "### 📊 TPC-H Query 1 Using PyDough DSL\n",
    "\n",
    "This cell runs **TPC-H Query 1** using PyDough's Python-style DSL instead of raw SQL.\n",
    "\n",
    "The query computes summary statistics (like sums, averages, and counts) for orders, grouped by return flag and line status, and filtered by a shipping date cutoff.\n",
    "\n",
    "Finally, `pydough.to_df(output)` converts and prints the result as a Pandas DataFrame for easy inspection and analysis in Python.\n"
   ]
  },
  {
   "cell_type": "code",
   "execution_count": 4,
   "metadata": {},
   "outputs": [
    {
     "data": {
      "text/html": [
       "<div>\n",
       "<style scoped>\n",
       "    .dataframe tbody tr th:only-of-type {\n",
       "        vertical-align: middle;\n",
       "    }\n",
       "\n",
       "    .dataframe tbody tr th {\n",
       "        vertical-align: top;\n",
       "    }\n",
       "\n",
       "    .dataframe thead th {\n",
       "        text-align: right;\n",
       "    }\n",
       "</style>\n",
       "<table border=\"1\" class=\"dataframe\">\n",
       "  <thead>\n",
       "    <tr style=\"text-align: right;\">\n",
       "      <th></th>\n",
       "      <th>L_RETURNFLAG</th>\n",
       "      <th>L_LINESTATUS</th>\n",
       "      <th>SUM_QTY</th>\n",
       "      <th>SUM_BASE_PRICE</th>\n",
       "      <th>SUM_DISC_PRICE</th>\n",
       "      <th>SUM_CHARGE</th>\n",
       "      <th>AVG_QTY</th>\n",
       "      <th>AVG_PRICE</th>\n",
       "      <th>AVG_DISC</th>\n",
       "      <th>COUNT_ORDER</th>\n",
       "    </tr>\n",
       "  </thead>\n",
       "  <tbody>\n",
       "    <tr>\n",
       "      <th>0</th>\n",
       "      <td>A</td>\n",
       "      <td>F</td>\n",
       "      <td>37734107.0</td>\n",
       "      <td>56586554400.73</td>\n",
       "      <td>53758257134.8700</td>\n",
       "      <td>55909065222.827692</td>\n",
       "      <td>25.52200585</td>\n",
       "      <td>38273.12973462</td>\n",
       "      <td>0.04998530</td>\n",
       "      <td>1478493</td>\n",
       "    </tr>\n",
       "    <tr>\n",
       "      <th>1</th>\n",
       "      <td>N</td>\n",
       "      <td>F</td>\n",
       "      <td>991417.0</td>\n",
       "      <td>1487504710.38</td>\n",
       "      <td>1413082168.0541</td>\n",
       "      <td>1469649223.194375</td>\n",
       "      <td>25.51647192</td>\n",
       "      <td>38284.46776085</td>\n",
       "      <td>0.05009343</td>\n",
       "      <td>38854</td>\n",
       "    </tr>\n",
       "    <tr>\n",
       "      <th>2</th>\n",
       "      <td>N</td>\n",
       "      <td>O</td>\n",
       "      <td>76633518.0</td>\n",
       "      <td>114935210409.19</td>\n",
       "      <td>109189591897.4720</td>\n",
       "      <td>113561024263.013782</td>\n",
       "      <td>25.50201964</td>\n",
       "      <td>38248.01560906</td>\n",
       "      <td>0.05000026</td>\n",
       "      <td>3004998</td>\n",
       "    </tr>\n",
       "    <tr>\n",
       "      <th>3</th>\n",
       "      <td>R</td>\n",
       "      <td>F</td>\n",
       "      <td>37719753.0</td>\n",
       "      <td>56568041380.90</td>\n",
       "      <td>53741292684.6040</td>\n",
       "      <td>55889619119.831932</td>\n",
       "      <td>25.50579361</td>\n",
       "      <td>38250.85462610</td>\n",
       "      <td>0.05000941</td>\n",
       "      <td>1478870</td>\n",
       "    </tr>\n",
       "  </tbody>\n",
       "</table>\n",
       "</div>"
      ],
      "text/plain": [
       "  L_RETURNFLAG L_LINESTATUS     SUM_QTY   SUM_BASE_PRICE     SUM_DISC_PRICE  \\\n",
       "0            A            F  37734107.0   56586554400.73   53758257134.8700   \n",
       "1            N            F    991417.0    1487504710.38    1413082168.0541   \n",
       "2            N            O  76633518.0  114935210409.19  109189591897.4720   \n",
       "3            R            F  37719753.0   56568041380.90   53741292684.6040   \n",
       "\n",
       "            SUM_CHARGE      AVG_QTY       AVG_PRICE    AVG_DISC  COUNT_ORDER  \n",
       "0   55909065222.827692  25.52200585  38273.12973462  0.04998530      1478493  \n",
       "1    1469649223.194375  25.51647192  38284.46776085  0.05009343        38854  \n",
       "2  113561024263.013782  25.50201964  38248.01560906  0.05000026      3004998  \n",
       "3   55889619119.831932  25.50579361  38250.85462610  0.05000941      1478870  "
      ]
     },
     "execution_count": 4,
     "metadata": {},
     "output_type": "execute_result"
    }
   ],
   "source": [
    "%%pydough\n",
    "# TPCH Q1\n",
    "output = ( lines.WHERE((ship_date <= datetime.date(1998, 12, 1)))\n",
    "        .PARTITION(name=\"groups\", by=(return_flag, status))\n",
    "        .CALCULATE(\n",
    "            L_RETURNFLAG=return_flag,\n",
    "            L_LINESTATUS=status,\n",
    "            SUM_QTY=SUM(lines.quantity),\n",
    "            SUM_BASE_PRICE=SUM(lines.extended_price),\n",
    "            SUM_DISC_PRICE=SUM(lines.extended_price * (1 - lines.discount)),\n",
    "            SUM_CHARGE=SUM(\n",
    "                lines.extended_price * (1 - lines.discount) * (1 + lines.tax)\n",
    "            ),\n",
    "            AVG_QTY=AVG(lines.quantity),\n",
    "            AVG_PRICE=AVG(lines.extended_price),\n",
    "            AVG_DISC=AVG(lines.discount),\n",
    "            COUNT_ORDER=COUNT(lines),\n",
    "        )\n",
    "        .ORDER_BY(L_RETURNFLAG.ASC(), L_LINESTATUS.ASC())\n",
    ")\n",
    "\n",
    "pydough.to_df(output)"
   ]
  },
  {
   "cell_type": "code",
   "execution_count": null,
   "metadata": {},
   "outputs": [],
   "source": []
  }
 ],
 "metadata": {
  "kernelspec": {
   "display_name": "Python 3 (ipykernel)",
   "language": "python",
   "name": "python3"
  },
  "language_info": {
   "codemirror_mode": {
    "name": "ipython",
    "version": 3
   },
   "file_extension": ".py",
   "mimetype": "text/x-python",
   "name": "python",
   "nbconvert_exporter": "python",
   "pygments_lexer": "ipython3",
   "version": "3.12.2"
  }
 },
 "nbformat": 4,
 "nbformat_minor": 4
}
