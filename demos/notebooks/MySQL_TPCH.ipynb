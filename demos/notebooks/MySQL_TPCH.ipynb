{
 "cells": [
  {
   "cell_type": "markdown",
   "id": "d68a35f7",
   "metadata": {},
   "source": [
    "# MYSQL Database connector"
   ]
  },
  {
   "cell_type": "markdown",
   "id": "2c0514f5",
   "metadata": {},
   "source": [
    "Before running this notebook make sure the MySQL Python Connector is installed \n",
    "TODO: Add an examples of how to install it\n",
    "TODO: Mention the environment variables are needed in order to connect to the mysql TPCH docker imagen"
   ]
  },
  {
   "cell_type": "markdown",
   "id": "2ea74d4e",
   "metadata": {},
   "source": [
    "## Installing MySQL Connector\n",
    "\n",
    "Make sure to have the `mysql-connector-python` installed:\n",
    "\n",
    "- If you're working inside the repo:\n",
    "    ```shell\n",
    "    pip install -e \".[mysql]\"\n",
    "    ```\n",
    "\n",
    "- Or install the connector directly with:\n",
    "    ```shell\n",
    "    pip install \"mysql-connector-python\"\n",
    "    ```"
   ]
  },
  {
   "cell_type": "markdown",
   "id": "c5fdee2c",
   "metadata": {},
   "source": [
    "## Importing Required Libraries"
   ]
  },
  {
   "cell_type": "code",
   "execution_count": 9,
   "id": "5efa624d",
   "metadata": {},
   "outputs": [],
   "source": [
    "import pydough\n",
    "import datetime\n",
    "import os"
   ]
  },
  {
   "cell_type": "markdown",
   "id": "f19bda7f",
   "metadata": {},
   "source": [
    "## Loading credencials and connecting to MySQL"
   ]
  },
  {
   "cell_type": "markdown",
   "id": "e35761ab",
   "metadata": {},
   "source": [
    "1. Load credentials from a local .env file\n",
    "    * The `.env` file contains your MySQL login details like `MYSQL_USERNAME`, `MYSQL_PASSWORD`, `MYSQL_DB` and `MYSQL_HOST`.\n",
    "    * These are read using `os.getenv()` function.\n",
    "\n",
    "2. Connect to MySQL using PyDough\n",
    "    * `pydough.active_session.load_metadata_graph(...)` loads a metadata graph that maps your MySQL schema (used for query planning or optimizations).\n",
    "    * `connect_database(...)` uses the loaded credentials to establish a live connection to your MySQL database.\n",
    "\n",
    "Note: \n",
    "- Make sure the `.env` exists and contains all the required keys.\n",
    "- Make sure the metadata graph path points to a valid JSON file that represents your schema\n"
   ]
  },
  {
   "cell_type": "code",
   "execution_count": 2,
   "id": "7ce93d4a",
   "metadata": {},
   "outputs": [
    {
     "data": {
      "text/plain": [
       "DatabaseContext(connection=<pydough.database_connectors.database_connector.DatabaseConnection object at 0x121296710>, dialect=<DatabaseDialect.MYSQL: 'mysql'>)"
      ]
     },
     "execution_count": 2,
     "metadata": {},
     "output_type": "execute_result"
    }
   ],
   "source": [
    "mysql_username = os.getenv(\"MYSQL_USERNAME\")\n",
    "mysql_password = os.getenv(\"MYSQL_PASSWORD\")\n",
    "mysql_tpch_db = os.getenv(\"MYSQL_DB\")\n",
    "mysql_host = os.getenv(\"MYSQL_HOST\")\n",
    "\n",
    "pydough.active_session.load_metadata_graph(\"../../tests/test_metadata/sample_graphs.json\", \"TPCH\")\n",
    "pydough.active_session.connect_database(\"mysql\", \n",
    "        user=mysql_username,\n",
    "        password=mysql_password,\n",
    "        database=mysql_tpch_db,\n",
    "        host=mysql_host,\n",
    ")"
   ]
  },
  {
   "cell_type": "markdown",
   "id": "d81575ea",
   "metadata": {},
   "source": [
    "## Enabling PyDough's Jupyter Magic Commands\n",
    "\n",
    "This line loads the `pydough.jupyter_extensions` module, which adds custom magic commands (like %%pydough) to the notebook.\n",
    "\n",
    "These magic commands allow you to:\n",
    "\n",
    "- Write PyDough directly in notebook cells using %%pydough\n",
    "- Automatically render results\n",
    "\n",
    "This is a Jupyter-specific feature — the %load_ext command dynamically loads these extensions into your current notebook session."
   ]
  },
  {
   "cell_type": "code",
   "execution_count": 3,
   "id": "eabc0577",
   "metadata": {},
   "outputs": [],
   "source": [
    "%load_ext pydough.jupyter_extensions"
   ]
  },
  {
   "cell_type": "markdown",
   "id": "bd0180ee",
   "metadata": {},
   "source": [
    "## TPC-H Query 1 with PyDough and MySQL"
   ]
  },
  {
   "cell_type": "markdown",
   "id": "08141e7b",
   "metadata": {},
   "source": [
    "This cell runs TPC-H Query 1 using PyDough's Python-style DSL instead of raw SQL.\n",
    "\n",
    "The query computes summary statistics (like sums, averages, and counts) for orders, grouped by return flag and line status, and filtered by a shipping date cutoff.\n",
    "\n",
    "Finally, pydough.to_df(output) converts and prints the result as a Pandas DataFrame for easy inspection and analysis in Python."
   ]
  },
  {
   "cell_type": "code",
   "execution_count": 10,
   "id": "1581aa56",
   "metadata": {},
   "outputs": [
    {
     "data": {
      "text/html": [
       "<div>\n",
       "<style scoped>\n",
       "    .dataframe tbody tr th:only-of-type {\n",
       "        vertical-align: middle;\n",
       "    }\n",
       "\n",
       "    .dataframe tbody tr th {\n",
       "        vertical-align: top;\n",
       "    }\n",
       "\n",
       "    .dataframe thead th {\n",
       "        text-align: right;\n",
       "    }\n",
       "</style>\n",
       "<table border=\"1\" class=\"dataframe\">\n",
       "  <thead>\n",
       "    <tr style=\"text-align: right;\">\n",
       "      <th></th>\n",
       "      <th>L_RETURNFLAG</th>\n",
       "      <th>L_LINESTATUS</th>\n",
       "      <th>SUM_QTY</th>\n",
       "      <th>SUM_BASE_PRICE</th>\n",
       "      <th>SUM_DISC_PRICE</th>\n",
       "      <th>SUM_CHARGE</th>\n",
       "      <th>AVG_QTY</th>\n",
       "      <th>AVG_PRICE</th>\n",
       "      <th>AVG_DISC</th>\n",
       "      <th>COUNT_ORDER</th>\n",
       "    </tr>\n",
       "  </thead>\n",
       "  <tbody>\n",
       "    <tr>\n",
       "      <th>0</th>\n",
       "      <td>A</td>\n",
       "      <td>F</td>\n",
       "      <td>37734107.00</td>\n",
       "      <td>56586554400.73</td>\n",
       "      <td>53758257134.8700</td>\n",
       "      <td>55909065222.827692</td>\n",
       "      <td>25.522006</td>\n",
       "      <td>38273.129735</td>\n",
       "      <td>0.049985</td>\n",
       "      <td>1478493</td>\n",
       "    </tr>\n",
       "    <tr>\n",
       "      <th>1</th>\n",
       "      <td>N</td>\n",
       "      <td>F</td>\n",
       "      <td>991417.00</td>\n",
       "      <td>1487504710.38</td>\n",
       "      <td>1413082168.0541</td>\n",
       "      <td>1469649223.194375</td>\n",
       "      <td>25.516472</td>\n",
       "      <td>38284.467761</td>\n",
       "      <td>0.050093</td>\n",
       "      <td>38854</td>\n",
       "    </tr>\n",
       "    <tr>\n",
       "      <th>2</th>\n",
       "      <td>N</td>\n",
       "      <td>O</td>\n",
       "      <td>76633518.00</td>\n",
       "      <td>114935210409.19</td>\n",
       "      <td>109189591897.4720</td>\n",
       "      <td>113561024263.013782</td>\n",
       "      <td>25.502020</td>\n",
       "      <td>38248.015609</td>\n",
       "      <td>0.050000</td>\n",
       "      <td>3004998</td>\n",
       "    </tr>\n",
       "    <tr>\n",
       "      <th>3</th>\n",
       "      <td>R</td>\n",
       "      <td>F</td>\n",
       "      <td>37719753.00</td>\n",
       "      <td>56568041380.90</td>\n",
       "      <td>53741292684.6040</td>\n",
       "      <td>55889619119.831932</td>\n",
       "      <td>25.505794</td>\n",
       "      <td>38250.854626</td>\n",
       "      <td>0.050009</td>\n",
       "      <td>1478870</td>\n",
       "    </tr>\n",
       "  </tbody>\n",
       "</table>\n",
       "</div>"
      ],
      "text/plain": [
       "  L_RETURNFLAG L_LINESTATUS      SUM_QTY   SUM_BASE_PRICE     SUM_DISC_PRICE  \\\n",
       "0            A            F  37734107.00   56586554400.73   53758257134.8700   \n",
       "1            N            F    991417.00    1487504710.38    1413082168.0541   \n",
       "2            N            O  76633518.00  114935210409.19  109189591897.4720   \n",
       "3            R            F  37719753.00   56568041380.90   53741292684.6040   \n",
       "\n",
       "            SUM_CHARGE    AVG_QTY     AVG_PRICE  AVG_DISC  COUNT_ORDER  \n",
       "0   55909065222.827692  25.522006  38273.129735  0.049985      1478493  \n",
       "1    1469649223.194375  25.516472  38284.467761  0.050093        38854  \n",
       "2  113561024263.013782  25.502020  38248.015609  0.050000      3004998  \n",
       "3   55889619119.831932  25.505794  38250.854626  0.050009      1478870  "
      ]
     },
     "execution_count": 10,
     "metadata": {},
     "output_type": "execute_result"
    }
   ],
   "source": [
    "%%pydough\n",
    "# TPCH Q1\n",
    "output = (lines.WHERE((ship_date <= datetime.date(1998, 12, 1)))\n",
    "        .PARTITION(name=\"groups\", by=(return_flag, status))\n",
    "        .CALCULATE(\n",
    "            L_RETURNFLAG=return_flag,\n",
    "            L_LINESTATUS=status,\n",
    "            SUM_QTY=SUM(lines.quantity),\n",
    "            SUM_BASE_PRICE=SUM(lines.extended_price),\n",
    "            SUM_DISC_PRICE=SUM(lines.extended_price * (1 - lines.discount)),\n",
    "            SUM_CHARGE=SUM(\n",
    "                lines.extended_price * (1 - lines.discount) * (1 + lines.tax)\n",
    "            ),\n",
    "            AVG_QTY=AVG(lines.quantity),\n",
    "            AVG_PRICE=AVG(lines.extended_price),\n",
    "            AVG_DISC=AVG(lines.discount),\n",
    "            COUNT_ORDER=COUNT(lines),\n",
    "        )\n",
    "        .ORDER_BY(L_RETURNFLAG.ASC(), L_LINESTATUS.ASC())\n",
    ")\n",
    "\n",
    "pydough.to_df(output)"
   ]
  }
 ],
 "metadata": {
  "kernelspec": {
   "display_name": ".venv",
   "language": "python",
   "name": "python3"
  },
  "language_info": {
   "codemirror_mode": {
    "name": "ipython",
    "version": 3
   },
   "file_extension": ".py",
   "mimetype": "text/x-python",
   "name": "python",
   "nbconvert_exporter": "python",
   "pygments_lexer": "ipython3",
   "version": "3.13.5"
  }
 },
 "nbformat": 4,
 "nbformat_minor": 5
}
