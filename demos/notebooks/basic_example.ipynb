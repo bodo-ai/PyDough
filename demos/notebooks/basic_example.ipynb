{
 "cells": [
  {
   "cell_type": "markdown",
   "id": "f13864dd-f6b5-438a-83a6-8cd03c9e3ac3",
   "metadata": {},
   "source": [
    "# Overview\n",
    "\n",
    "This notebook walks through how PyDough can be leveraged to construct \"WHAT-IF\" queries. It highlights how PyDough can be write to solve common, intermediate sub-problems, enabling fast iteration and development.\n",
    "\n",
    "We believe that this approach is more composable and scalable. Rather than focusing on a single query to answer a question at hand, building question components allows more proportional scaling relative to question complexity. The PyDough team is optimistic that such an approach can make humans more productive and LLMs more accurate.\n",
    "\n",
    "The majority of this notebook will be focused on composing a single question piece by piece. At some places we will also deviate from this question to emphasize the powerful PyDough features that enable this type of experimentation."
   ]
  },
  {
   "cell_type": "code",
   "execution_count": null,
   "id": "7849d55d-cf82-4fb4-acb9-4a6f257926c9",
   "metadata": {},
   "outputs": [],
   "source": [
    "%load_ext pydough.jupyter_extensions"
   ]
  },
  {
   "cell_type": "code",
   "execution_count": null,
   "id": "32294532-eaba-4a3f-8fd0-acfd5410ea52",
   "metadata": {},
   "outputs": [],
   "source": [
    "import pydough\n",
    "import pandas as pd"
   ]
  },
  {
   "cell_type": "code",
   "execution_count": null,
   "id": "3fa62d04-d363-414b-bed8-d0f0e289e606",
   "metadata": {},
   "outputs": [],
   "source": [
    "# Setup demo metadata\n",
    "pydough.active_session.load_metadata_graph(\"../metadata/tpch_demo_graph.json\", \"TPCH\");\n",
    "pydough.active_session.connect_database(\"sqlite\", database=\"../../tpch.db\");\n",
    "# Avoid scientific notation\n",
    "pd.options.display.float_format = '{:.6f}'.format"
   ]
  },
  {
   "attachments": {},
   "cell_type": "markdown",
   "id": "f0ab9cff-2549-43b4-b044-4ae1029fae97",
   "metadata": {},
   "source": [
    "## Schema Context\n",
    "\n",
    "For this demo we will be working in an example crafted to match the schema for the TPC-H benchmark. The actual data for this benchmark is generated in SQLite using the standard TPC-H data generation tools. The underlying schema of this data matches this example image from [TPC Benchmark H Standard Specification](https://www.tpc.org/tpc_documents_current_versions/pdf/tpc-h_v2.17.1.pdf).\n",
    "\n",
    "![TPC-H schema from the Specification Document as of December 12, 2024](../images/tpc_h_schema.png)"
   ]
  },
  {
   "cell_type": "markdown",
   "id": "a6b19eac-d793-40a9-b294-bb17bba1fc77",
   "metadata": {},
   "source": [
    "## Problem Statement\n",
    "\n",
    "We are going to seek to **identify the 5 lines in our entire order sheet that represent the smallest percentage of their corresponding order's revenue**. \n",
    "\n",
    "Here is a possible SQL query that could we be used to answer this question and in constrast here is the corresponding PyDough."
   ]
  },
  {
   "cell_type": "markdown",
   "id": "8e8cf3e6-0658-43b3-a560-83a107c1b9c5",
   "metadata": {},
   "source": [
    "### SQL\n",
    "\n",
    "```SQL\n",
    "Select\n",
    "    (L_EXTENDED_PRICE * (1 - L_DISCOUNT)) / order_total as revenue_ratio,\n",
    "    orderkey,\n",
    "    l_linenumber as line_number\n",
    "from lines\n",
    "inner join (\n",
    "    select\n",
    "        o_orderkey as order_key,\n",
    "        SUM(L_EXTENDED_PRICE * (1 - L_DISCOUNT)) as order_total\n",
    "    from orders\n",
    "    inner join lines\n",
    "    on l_orderkey = o_orderkey\n",
    "    group by o_orderkey\n",
    ")\n",
    "on l_orderkey = order_key\n",
    "order by revenue_ratio ASC, order_key DESC, line_number DESC\n",
    "LIMIT 5\n",
    "```"
   ]
  },
  {
   "cell_type": "markdown",
   "id": "4e81ec40-f82c-42e6-9656-7f36e619a52a",
   "metadata": {},
   "source": [
    "### PyDough\n",
    "\n",
    "```python\n",
    "price_def = extended_price*(1-discount)\n",
    "orders(total_line_price=SUM(lines(line_price=price_def).line_price)).lines(\n",
    "    revenue_ratio=price_def / BACK(1).total_price, \n",
    "    order_key=order_key, \n",
    "    line_number=line_number\n",
    ").TOP_K(5, by=(revenue_ratio.ASC(), order_key.DESC(), line_number.DESC()))\n",
    "```"
   ]
  },
  {
   "cell_type": "markdown",
   "id": "efca5340-6acc-48dd-9287-f3baaabe5239",
   "metadata": {},
   "source": [
    "The example SQL requires a nested subquery to answer, which can easily become complicated and unmanagable as questions scale in size. Similarly, example query requires explicitly join decisions, especially deciding on join keys and `INNER` vs `LEFT` join. In this particular example **because we know the exact constraints of the TPC-H setup** we can verify that the provided query is correct. However, in a production setting, or attempting to transition a query across two different workspaces, these assumptions could change, leading to subtle incorrect results that are extremely difficult to debug.\n",
    "\n",
    "In constrast, PyDough handles the join information and the correctness requirements by specifying metadata."
   ]
  },
  {
   "cell_type": "markdown",
   "id": "4c0a3c66-1c7b-40c1-8402-aae4e5358262",
   "metadata": {},
   "source": [
    "## Metadata\n",
    "\n",
    "PyDough's metadata dictates which tables are available and how table information can be combined. This eliminates the need to worry about subtle correctness questions, such as `LEFT` vs `INNER` join or the exact join keys. This also means that the same code can be deployed on slightly different metadata and these correctness considerations will be handled automatically.\n",
    "\n",
    "We will not explore the metadata in detail in this notebook, but we will briefly address a couple basic concepts. We also have a separate metadata notebook to explore all of these in more detail."
   ]
  },
  {
   "cell_type": "code",
   "execution_count": null,
   "id": "9a343f47-18a1-4052-8175-6c63fb72a575",
   "metadata": {},
   "outputs": [],
   "source": [
    "%%pydough\n",
    "\n",
    "print(pydough.explain(pydough.active_session.metadata))"
   ]
  },
  {
   "cell_type": "markdown",
   "id": "872f4a6a-cc5c-43a9-a0db-7011ed4f7697",
   "metadata": {},
   "source": [
    "This tells us the collections that we can immediately access. These match the TPC-H schema, but have been updated with human readable names. We can then look at lines to learn more information. "
   ]
  },
  {
   "cell_type": "code",
   "execution_count": null,
   "id": "61cf29e2-7d25-46fb-8dd7-eb1000091508",
   "metadata": {},
   "outputs": [],
   "source": [
    "%%pydough\n",
    "\n",
    "print(pydough.explain(pydough.active_session.metadata[\"lines\"], verbose=True))"
   ]
  },
  {
   "cell_type": "markdown",
   "id": "7e6b7192-8a1e-48cc-9cdd-c190dd84cf9c",
   "metadata": {},
   "source": [
    "Lines shows us a couple notable pieces of information:\n",
    "* The underlying table in the database. Our metadata is generated without any data migration.\n",
    "* Human readable names for each property.\n",
    "* The other collects we can reach. These automatically encode our join information."
   ]
  },
  {
   "cell_type": "markdown",
   "id": "3228b465-a356-4d5e-9b61-a13b437a8c7f",
   "metadata": {},
   "source": [
    "## PyDough Solution\n",
    "\n",
    "While we showed one version of the PyDough solution above, we are going to take a different approach to show how one might generate this query in a \"WHAT-IF\" manner. This approach will be a longer solution, but this is helpful to enable faster iteration.\n",
    "\n",
    "We are opting to demonstrate this because:\n",
    "1. We believe this is a good representation for how PyDough can be leveraged to gradually handle increasing question complexity.\n",
    "2. We believe this reflects an investigative approach to query generation, where someone may understand at a high-level what needs to be done, but not necessary that \"path\" to get there.\n",
    "\n",
    "To do this we will first need to define revenue. Here we will say that the revenue is the price information after removing any discounts."
   ]
  },
  {
   "cell_type": "code",
   "execution_count": null,
   "id": "90f77e14-4540-42af-a62e-2ba4e9ae40b9",
   "metadata": {},
   "outputs": [],
   "source": [
    "%%pydough\n",
    "\n",
    "price_def = extended_price*(1-discount)"
   ]
  },
  {
   "cell_type": "markdown",
   "id": "c250943d-f018-4b53-b3b0-423c35db5004",
   "metadata": {},
   "source": [
    "This might seem shocking. We have defined `price_def` out of nowhere using an `extended_price` and `discount`. What has actually happened here is that we have generated what is called a `Contextless Expression`. This fundamental building block is the key to PyDough's composability.\n",
    "\n",
    "On its own this expression doesn't mean anything. In fact if we inspect this object in regular PyDough we will see that PyDough itself has a lot of questions."
   ]
  },
  {
   "cell_type": "code",
   "execution_count": null,
   "id": "3dc2af81-baa9-45df-9624-a6afca0101b7",
   "metadata": {},
   "outputs": [],
   "source": [
    "price_def"
   ]
  },
  {
   "cell_type": "markdown",
   "id": "576f9203-35c0-458a-8860-88615bcade4f",
   "metadata": {},
   "source": [
    "As you see, PyDough now knows that this expression is composed of `extended_price` and `discount`, but it doesn't know **WHICH** `extended_price` and `discount`. To ultimately develop a legal PyDough statement, we will need to bind uses of this expression to a context that can access `extended_price` and `discount`.\n",
    "\n",
    "This might seem very minor, but this allows us to define definitions up front, allowing reuse in vastly different contexts.\n",
    "\n",
    "Now our schema is flexible, but this price defintion is actually tied to the lines collection. Let's now combine incorporate lines."
   ]
  },
  {
   "cell_type": "code",
   "execution_count": null,
   "id": "7899e4b6-3c41-4790-9855-49e46c7144ba",
   "metadata": {},
   "outputs": [],
   "source": [
    "%%pydough\n",
    "\n",
    "line_price = lines(line_price=price_def).line_price"
   ]
  },
  {
   "cell_type": "markdown",
   "id": "5ff67de8-2e21-44d7-af51-7bbb244e4b58",
   "metadata": {},
   "source": [
    "At this stage our expression is more complete (we know it is associated with lines), but its actually still contextless. Let's extend this by now asking for something more concrete, the SUM."
   ]
  },
  {
   "cell_type": "code",
   "execution_count": null,
   "id": "c1018dd8-a2bc-48f9-b8e0-49d606de32ba",
   "metadata": {},
   "outputs": [],
   "source": [
    "%%pydough\n",
    "\n",
    "total_price = SUM(line_price)\n",
    "total_price"
   ]
  },
  {
   "cell_type": "markdown",
   "id": "d22eed8e-27a7-4386-872b-80795074bbdf",
   "metadata": {},
   "source": [
    "Now this expression is more meaningful. If we assign this statement to global context, our actual TPCH graph, then we can compute the total price across all lines."
   ]
  },
  {
   "cell_type": "code",
   "execution_count": null,
   "id": "4da56ff3-c78e-4fd3-9b45-e5962517fa6a",
   "metadata": {},
   "outputs": [],
   "source": [
    "%%pydough\n",
    "\n",
    "pydough.to_df(TPCH(total_line_price=total_price))"
   ]
  },
  {
   "cell_type": "markdown",
   "id": "c4d9df49-4d3f-4b01-a868-a5ae1bf97ac3",
   "metadata": {},
   "source": [
    "In practice though, this may not solve our core question. Instead, we may want to apply a different **context**, say for example total_price for each order. We can instead represent that as follows."
   ]
  },
  {
   "cell_type": "code",
   "execution_count": null,
   "id": "83b821fc-866b-4116-a38c-2797d2a651a0",
   "metadata": {},
   "outputs": [],
   "source": [
    "%%pydough\n",
    "\n",
    "order_total_price = orders(total_line_price=total_price)\n",
    "pydough.to_df(order_total_price)"
   ]
  },
  {
   "cell_type": "markdown",
   "id": "bfe461f5-f64f-4a37-a840-bc200ca90aa5",
   "metadata": {},
   "source": [
    "Notice that are able to reuse the exact same code, but by swapping the context we can ultimately modify the semantics. This makes testing the underlying behavior much more scalable. To ask is this statement correct, we can instead compose our question to ask:\n",
    "* Is this underlying expression correct?\n",
    "* Is this context correct?\n",
    "\n",
    "Since these can be verify independently, we can develop greater confidence in our question since it arises from composable building blocks. We could also generate selected contexts to build clear testing."
   ]
  },
  {
   "cell_type": "code",
   "execution_count": null,
   "id": "db103386-dbac-41d1-98ef-3facbc4d466e",
   "metadata": {},
   "outputs": [],
   "source": [
    "%%pydough\n",
    "\n",
    "# Compute the sum of the first 5 line numbers, which can be known for testing.\n",
    "top_five_lines = lines.TOP_K(5, by=(line_number.ASC(), order_key.ASC()))\n",
    "top_five_line_price = TPCH(total_price=SUM(top_five_lines(line_price=price_def).line_price))\n",
    "pydough.to_df(top_five_line_price)"
   ]
  },
  {
   "cell_type": "markdown",
   "id": "23e6c569-fc61-4338-ad28-ddbe20aa3b88",
   "metadata": {},
   "source": [
    "Now let's return to extending our question. Building able to compute order sums is great, but we care about results per line. As a result, now we can even extend our orders to an additional context within lines. We will once again define more defintions. Our ratio definition will now ask us to propagate our previous `total_price` price that we computed and compare it to the result of `price_def`."
   ]
  },
  {
   "cell_type": "code",
   "execution_count": null,
   "id": "037addf9-36ed-440d-b99e-980a43f21303",
   "metadata": {},
   "outputs": [],
   "source": [
    "%%pydough\n",
    "\n",
    "ratio = price_def / BACK(1).total_price"
   ]
  },
  {
   "cell_type": "markdown",
   "id": "12ca1882-91f3-4da2-aa01-94212a67c750",
   "metadata": {},
   "source": [
    "Now we will build our final question by moving from the context of the orders to the context of orders and lines together. Since Orders -> Lines is a Many to One relationship, this places us in the context of lines with some additional information.\n",
    "\n",
    "For actually fully solving our prior question, we will compute the ratio and then select 5 smallest ratio value, breaking ties with a combination of the order number and line number."
   ]
  },
  {
   "cell_type": "code",
   "execution_count": null,
   "id": "2fc83a46-75e9-4be0-af7d-c9d0ec66eeb2",
   "metadata": {},
   "outputs": [],
   "source": [
    "%%pydough\n",
    "\n",
    "line_ratios = order_total_price.lines(revenue_ratio=ratio, order_key=order_key, line_number=line_number)\n",
    "lowest_ratios = line_ratios.TOP_K(5, by=(revenue_ratio.ASC(), order_key.DESC(), line_number.DESC()))"
   ]
  },
  {
   "cell_type": "code",
   "execution_count": null,
   "id": "cbe9b58c-d5cf-4803-9db2-066171467d05",
   "metadata": {},
   "outputs": [],
   "source": [
    "pydough.to_df(lowest_ratios)"
   ]
  },
  {
   "cell_type": "markdown",
   "id": "54e9b245-fb64-4f80-a1bd-4bd5f818823a",
   "metadata": {},
   "source": [
    "Now we have resolved to solution to our underlying question. We can save this result to a Python variable, as the output is already a Pandas DataFrame. Alternatively, we could expand on our question to collect more information, such as filtering by a minimum number of entries. For completeness we will show that example where we only **consider lines that are part of orders with more than 3 lines**. "
   ]
  },
  {
   "cell_type": "code",
   "execution_count": null,
   "id": "d30b209a-9737-4835-8356-5430c8f3d6b0",
   "metadata": {},
   "outputs": [],
   "source": [
    "%%pydough\n",
    "\n",
    "total_lines = COUNT(lines)"
   ]
  },
  {
   "cell_type": "code",
   "execution_count": null,
   "id": "77aa8c3f-3a9c-431c-a03d-f81cce261946",
   "metadata": {},
   "outputs": [],
   "source": [
    "%%pydough\n",
    "\n",
    "order_total_price = orders(total_line_price=total_price, line_count=total_lines)"
   ]
  },
  {
   "cell_type": "code",
   "execution_count": null,
   "id": "367f5836-0759-43f1-837a-54e2f9a812c4",
   "metadata": {},
   "outputs": [],
   "source": [
    "%%pydough\n",
    "\n",
    "line_ratios = order_total_price.lines(revenue_ratio=ratio, line_count=BACK(1).line_count, order_key=order_key, line_number=line_number)\n",
    "filtered_ratios = line_ratios.WHERE(line_count > 3)(revenue_ratio, order_key, line_number)\n",
    "\n",
    "lowest_ratios = filtered_ratios.TOP_K(5, by=(revenue_ratio.ASC(), order_key.DESC(), line_number.DESC()))\n",
    "highest_ratios = filtered_ratios.TOP_K(5, by=(revenue_ratio.DESC(), order_key.DESC(), line_number.DESC()))"
   ]
  },
  {
   "cell_type": "code",
   "execution_count": null,
   "id": "3f48d6bf-bb0d-416c-a4e0-6152a1ef4aab",
   "metadata": {},
   "outputs": [],
   "source": [
    "%%pydough\n",
    "\n",
    "pydough.to_df(lowest_ratios)"
   ]
  },
  {
   "cell_type": "code",
   "execution_count": null,
   "id": "52ad0956-33d1-4054-bf96-9bfb4eb843c7",
   "metadata": {},
   "outputs": [],
   "source": [
    "%%pydough\n",
    "\n",
    "pydough.to_df(highest_ratios)"
   ]
  },
  {
   "cell_type": "markdown",
   "id": "1895880e-ddc5-4266-a57e-0a0ee93311fd",
   "metadata": {},
   "source": [
    "The lowest ratio doesn't seem to change, most likely because these already arise from situations with multiple orders. However, now we can meaningfully ask about the highest ratios without being dominated by single line orders."
   ]
  },
  {
   "cell_type": "code",
   "execution_count": null,
   "id": "97acf04c-f944-4902-b7ba-1c88cd7e65f8",
   "metadata": {},
   "outputs": [],
   "source": []
  }
 ],
 "metadata": {
  "kernelspec": {
   "display_name": "Python 3 (ipykernel)",
   "language": "python",
   "name": "python3"
  },
  "language_info": {
   "codemirror_mode": {
    "name": "ipython",
    "version": 3
   },
   "file_extension": ".py",
   "mimetype": "text/x-python",
   "name": "python",
   "nbconvert_exporter": "python",
   "pygments_lexer": "ipython3",
   "version": "3.12.7"
  }
 },
 "nbformat": 4,
 "nbformat_minor": 5
}
